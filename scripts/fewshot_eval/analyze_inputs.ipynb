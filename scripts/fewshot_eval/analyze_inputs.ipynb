{
 "cells": [
  {
   "cell_type": "code",
   "execution_count": 1,
   "outputs": [],
   "source": [
    "import numpy as np\n",
    "import json\n",
    "import pandas as pd\n",
    "import json\n",
    "import os\n",
    "import os\n",
    "import json\n",
    "\n",
    "\n",
    "def remove_underline(x):\n",
    "    return x.replace(\"_\", \"\")"
   ],
   "metadata": {
    "collapsed": false
   }
  },
  {
   "cell_type": "code",
   "execution_count": 2,
   "metadata": {
    "collapsed": true
   },
   "outputs": [
    {
     "name": "stdout",
     "output_type": "stream",
     "text": [
      "Existing\n",
      "Existing\n",
      "Existing\n",
      "Existing\n",
      "Existing\n",
      "Existing\n",
      "Existing\n",
      "Existing\n",
      "Existing\n",
      "Existing\n",
      "Existing\n",
      "Existing\n",
      "Existing\n",
      "Existing\n",
      "Existing\n",
      "Existing\n",
      "Existing\n",
      "Existing\n",
      "Existing\n",
      "Existing\n"
     ]
    }
   ],
   "source": [
    "BASE_PATH = '/home/aiops/zhuty/tinyllama/scripts/fewshot_eval/outputs/'\n",
    "commands = []\n",
    "task_seed_prompts = {}\n",
    "shot_num = 48\n",
    "iter_name = \"iter-380000-ckpt-step-47500_hf\"\n",
    "\n",
    "TASK_CLASS='obqa'\n",
    "\n",
    "class_to_tasks_mapping = {\"icl\": ['agnews' ,'amazon' ,'dbpedia' ,'sst2' ,'tweet_hate' ,'tweet_offensive' ,'yelp' ],\n",
    "                          \"obqa\": [ \"squad\", \"nq_obqa\", \"tq_obqa\" ,\"hotpotqa\"],\n",
    "                          \"cbqa\": [\"tq\", \"nq\"]\n",
    "                          }\n",
    "\n",
    "class_to_seed_mapping = {\"icl\": range(42, 58),\n",
    "                         \"obqa\": range(42, 46+1),\n",
    "                         \"cbqa\": range(42, 46 + 1)\n",
    "                         }\n",
    "\n",
    "for task_name in  class_to_tasks_mapping[TASK_CLASS]:\n",
    "    for model_name in ['cc']:\n",
    "        # for seed_num in range(42, 46 + 1):\n",
    "        for seed_num in class_to_seed_mapping[TASK_CLASS]:\n",
    "            full_name = f\"tiny_LLaMA_1b_8k_{model_name}_8k-{iter_name}\"\n",
    "            result_path = os.path.join(BASE_PATH,full_name, f'{task_name}_{shot_num}_{seed_num}_prompts_and_preds.json')\n",
    "            if not os.path.exists(result_path):\n",
    "                print(f\"File {result_path} does not exist\")\n",
    "                curr = f\"\"\" sailctl job create eval1b{remove_underline(task_name)}{remove_underline(model_name)}{seed_num} -g 1  --debug --image asia-docker.pkg.dev/sail-tpu-02/git-insea-io/common/image_registry/liuqian/tinyllama:v9   --command-line-args  ' bash /home/aiops/zhuty/start.sh ; cd /home/aiops/zhuty/tinyllama/scripts/fewshot_eval/ ; bash single_task.sh /home/aiops/zhuty/tinyllama/out/tiny_LLaMA_1b_8k_{model_name}_8k/{iter_name} {task_name} {seed_num} ' \"\"\"\n",
    "                commands.append(curr)\n",
    "\n",
    "                continue\n",
    "            else:\n",
    "                print(\"Existing\")\n",
    "                curr_data = json.load(open(result_path, 'r'))\n",
    "                curr_prompts = [x['prompt'] for x in curr_data['prompts']]\n",
    "                task_seed_prompts[(task_name, seed_num)] = curr_prompts\n",
    "\n"
   ]
  },
  {
   "cell_type": "code",
   "execution_count": 3,
   "outputs": [
    {
     "data": {
      "text/plain": "Downloading tokenizer_config.json:   0%|          | 0.00/776 [00:00<?, ?B/s]",
      "application/vnd.jupyter.widget-view+json": {
       "version_major": 2,
       "version_minor": 0,
       "model_id": "31cae7b5b68d4fceaffb35d9e97be79e"
      }
     },
     "metadata": {},
     "output_type": "display_data"
    },
    {
     "data": {
      "text/plain": "Downloading tokenizer.model:   0%|          | 0.00/500k [00:00<?, ?B/s]",
      "application/vnd.jupyter.widget-view+json": {
       "version_major": 2,
       "version_minor": 0,
       "model_id": "ff6b804326b040b1ab6d6065edcc2d00"
      }
     },
     "metadata": {},
     "output_type": "display_data"
    },
    {
     "data": {
      "text/plain": "Downloading tokenizer.json:   0%|          | 0.00/1.84M [00:00<?, ?B/s]",
      "application/vnd.jupyter.widget-view+json": {
       "version_major": 2,
       "version_minor": 0,
       "model_id": "6fc08d8222974b0e94aa420c31a36be1"
      }
     },
     "metadata": {},
     "output_type": "display_data"
    },
    {
     "data": {
      "text/plain": "Downloading (…)cial_tokens_map.json:   0%|          | 0.00/414 [00:00<?, ?B/s]",
      "application/vnd.jupyter.widget-view+json": {
       "version_major": 2,
       "version_minor": 0,
       "model_id": "09c4c0c2427b4354a2b6e1fcca57b085"
      }
     },
     "metadata": {},
     "output_type": "display_data"
    }
   ],
   "source": [
    "from transformers import AutoTokenizer\n",
    "tokenizer = AutoTokenizer.from_pretrained(\"meta-llama/Llama-2-7b-hf\", use_fast=True, token = json.load(open(\"/home/aiops/zhuty/hf_token.json\")))"
   ],
   "metadata": {
    "collapsed": false
   }
  },
  {
   "cell_type": "code",
   "execution_count": null,
   "outputs": [],
   "source": [
    "\n",
    "class_to_tasks_mapping = {\"icl\": ['agnews' ,'amazon' ,'dbpedia' ,'sst2' ,'tweet_hate' ,'tweet_offensive' ,'yelp' ],\n",
    "                          \"obqa\": [ \"squad\", \"nq_obqa\", \"tq_obqa\" ,\"hotpotqa\"],\n",
    "                          \"cbqa\": [\"tq\", \"nq\"]\n",
    "                          }\n",
    "\n",
    "class_to_seed_mapping = {\"icl\": range(42, 58),\n",
    "                         \"obqa\": range(42, 46+1),\n",
    "                         \"cbqa\": range(42, 46 + 1)\n",
    "                         }\n",
    "\n",
    "TASK_CLASS='obqa'\n",
    "task_to_lengths = {}\n",
    "for task_name in  class_to_tasks_mapping[TASK_CLASS]:\n",
    "    task_lengths = []\n",
    "    for seed_num in class_to_seed_mapping[TASK_CLASS]:\n",
    "        tokenized = tokenizer(task_seed_prompts[(task_name, seed_num)])\n",
    "        lengths = [len(x) for x in tokenized['input_ids']]\n",
    "        task_lengths.extend(lengths)\n",
    "    print(f\"Task: {task_name}\")\n",
    "    task_to_lengths[task_name] = task_lengths\n",
    "\n"
   ],
   "metadata": {
    "collapsed": false,
    "pycharm": {
     "is_executing": true
    }
   }
  },
  {
   "cell_type": "code",
   "execution_count": null,
   "outputs": [],
   "source": [
    "for task_name, lengths in task_to_lengths.items():\n",
    "    print(f\"Task: {task_name}\")\n",
    "    print(f\"Mean: {np.mean(lengths)}\")\n",
    "    print(f\"Sd: {np.std(lengths)}\")\n",
    "    print(f\"Median: {np.median(lengths)}\")\n",
    "    print(f\"Max: {np.max(lengths)}\")\n",
    "    print(f\"Min: {np.min(lengths)}\")\n",
    "    # percentiles\n",
    "    print(f\"Percentiles: {np.percentile(lengths, [25, 50, 75, 90, 95, 99])}\")\n",
    "\n"
   ],
   "metadata": {
    "collapsed": false,
    "pycharm": {
     "is_executing": true
    }
   }
  },
  {
   "cell_type": "code",
   "execution_count": 39,
   "outputs": [
    {
     "ename": "KeyError",
     "evalue": "('dbpedia', 53)",
     "output_type": "error",
     "traceback": [
      "\u001B[0;31m---------------------------------------------------------------------------\u001B[0m",
      "\u001B[0;31mKeyError\u001B[0m                                  Traceback (most recent call last)",
      "Cell \u001B[0;32mIn[39], line 1\u001B[0m\n\u001B[0;32m----> 1\u001B[0m tokenized \u001B[38;5;241m=\u001B[39m tokenizer(\u001B[43mtask_seed_prompts\u001B[49m\u001B[43m[\u001B[49m\u001B[43m(\u001B[49m\u001B[38;5;124;43m'\u001B[39;49m\u001B[38;5;124;43mdbpedia\u001B[39;49m\u001B[38;5;124;43m'\u001B[39;49m\u001B[43m,\u001B[49m\u001B[43m \u001B[49m\u001B[38;5;241;43m53\u001B[39;49m\u001B[43m)\u001B[49m\u001B[43m]\u001B[49m)\n\u001B[1;32m      2\u001B[0m lengths \u001B[38;5;241m=\u001B[39m [\u001B[38;5;28mlen\u001B[39m(x) \u001B[38;5;28;01mfor\u001B[39;00m x \u001B[38;5;129;01min\u001B[39;00m tokenized[\u001B[38;5;124m'\u001B[39m\u001B[38;5;124minput_ids\u001B[39m\u001B[38;5;124m'\u001B[39m]]\n",
      "\u001B[0;31mKeyError\u001B[0m: ('dbpedia', 53)"
     ]
    }
   ],
   "source": [
    "tokenized = tokenizer(task_seed_prompts[('dbpedia', 53)])\n",
    "lengths = [len(x) for x in tokenized['input_ids']]"
   ],
   "metadata": {
    "collapsed": false
   }
  },
  {
   "cell_type": "code",
   "execution_count": 14,
   "outputs": [
    {
     "data": {
      "text/plain": "<Figure size 640x480 with 1 Axes>",
      "image/png": "[encoded data removed]"
     },
     "metadata": {},
     "output_type": "display_data"
    }
   ],
   "source": [
    "# Plot the distribution of lengths\n",
    "import matplotlib.pyplot as plt\n",
    "plt.hist(lengths, bins=20)\n",
    "plt.show()"
   ],
   "metadata": {
    "collapsed": false
   }
  },
  {
   "cell_type": "code",
   "execution_count": 15,
   "outputs": [
    {
     "name": "stdout",
     "output_type": "stream",
     "text": [
      "Mean: 2320.5496\n",
      "Median: 2321.0\n",
      "Max: 3699\n",
      "Min: 2245\n",
      "Percentiles: [2289. 2321. 2349. 2368. 2378. 2399.]\n"
     ]
    }
   ],
   "source": [
    "# get the statistics of the lengths\n",
    "print(f\"Mean: {np.mean(lengths)}\")\n",
    "print(f\"Median: {np.median(lengths)}\")\n",
    "print(f\"Max: {np.max(lengths)}\")\n",
    "print(f\"Min: {np.min(lengths)}\")\n",
    "# percentiles\n",
    "print(f\"Percentiles: {np.percentile(lengths, [25, 50, 75, 90, 95, 99])}\")\n"
   ],
   "metadata": {
    "collapsed": false
   }
  },
  {
   "cell_type": "markdown",
   "source": [
    "#### Ensure that the inputs are exactly the same for each input and seed across models"
   ],
   "metadata": {
    "collapsed": false
   }
  },
  {
   "cell_type": "code",
   "execution_count": 6,
   "outputs": [],
   "source": [
    "def compare_list_of_prompts(lst_of_prompts):\n",
    "    # Check if all lists are identical\n",
    "    all_identical = all(single_list == lst_of_prompts[0] for single_list in lst_of_prompts)\n",
    "\n",
    "    # if all_identical:\n",
    "    #     print(\"All lists are identical.\")\n",
    "    # else:\n",
    "    #     print(\"Not all lists are identical.\")\n",
    "    return all_identical"
   ],
   "metadata": {
    "collapsed": false
   }
  },
  {
   "cell_type": "code",
   "execution_count": 7,
   "outputs": [
    {
     "ename": "FileNotFoundError",
     "evalue": "[Errno 2] No such file or directory: '/home/aiops/zhuty/tinyllama/scripts/fewshot_eval/outputs/tiny_LLaMA_1b_8k_cc_8k-iter-380000-ckpt-step-47500_hf/squad_24_42_prompts_and_preds.json'",
     "output_type": "error",
     "traceback": [
      "\u001B[0;31m---------------------------------------------------------------------------\u001B[0m",
      "\u001B[0;31mFileNotFoundError\u001B[0m                         Traceback (most recent call last)",
      "Cell \u001B[0;32mIn[7], line 26\u001B[0m\n\u001B[1;32m     24\u001B[0m full_name \u001B[38;5;241m=\u001B[39m \u001B[38;5;124mf\u001B[39m\u001B[38;5;124m\"\u001B[39m\u001B[38;5;124mtiny_LLaMA_1b_8k_\u001B[39m\u001B[38;5;132;01m{\u001B[39;00mmodel_name\u001B[38;5;132;01m}\u001B[39;00m\u001B[38;5;124m_8k-\u001B[39m\u001B[38;5;132;01m{\u001B[39;00miter_name\u001B[38;5;132;01m}\u001B[39;00m\u001B[38;5;124m\"\u001B[39m\n\u001B[1;32m     25\u001B[0m result_path \u001B[38;5;241m=\u001B[39m os\u001B[38;5;241m.\u001B[39mpath\u001B[38;5;241m.\u001B[39mjoin(BASE_PATH,full_name, \u001B[38;5;124mf\u001B[39m\u001B[38;5;124m'\u001B[39m\u001B[38;5;132;01m{\u001B[39;00mtask_name\u001B[38;5;132;01m}\u001B[39;00m\u001B[38;5;124m_\u001B[39m\u001B[38;5;132;01m{\u001B[39;00mshot_num\u001B[38;5;132;01m}\u001B[39;00m\u001B[38;5;124m_\u001B[39m\u001B[38;5;132;01m{\u001B[39;00mseed_num\u001B[38;5;132;01m}\u001B[39;00m\u001B[38;5;124m_prompts_and_preds.json\u001B[39m\u001B[38;5;124m'\u001B[39m)\n\u001B[0;32m---> 26\u001B[0m curr_data \u001B[38;5;241m=\u001B[39m json\u001B[38;5;241m.\u001B[39mload(\u001B[38;5;28;43mopen\u001B[39;49m\u001B[43m(\u001B[49m\u001B[43mresult_path\u001B[49m\u001B[43m)\u001B[49m)\n\u001B[1;32m     27\u001B[0m \u001B[38;5;66;03m# print(curr_data.keys())\u001B[39;00m\n\u001B[1;32m     28\u001B[0m prompts\u001B[38;5;241m.\u001B[39mappend([x[\u001B[38;5;124m'\u001B[39m\u001B[38;5;124mprompt\u001B[39m\u001B[38;5;124m'\u001B[39m] \u001B[38;5;28;01mfor\u001B[39;00m x \u001B[38;5;129;01min\u001B[39;00m curr_data[\u001B[38;5;124m'\u001B[39m\u001B[38;5;124mprompts\u001B[39m\u001B[38;5;124m'\u001B[39m]])\n",
      "File \u001B[0;32m~/.conda/envs/synpre_env/lib/python3.8/site-packages/IPython/core/interactiveshell.py:284\u001B[0m, in \u001B[0;36m_modified_open\u001B[0;34m(file, *args, **kwargs)\u001B[0m\n\u001B[1;32m    277\u001B[0m \u001B[38;5;28;01mif\u001B[39;00m file \u001B[38;5;129;01min\u001B[39;00m {\u001B[38;5;241m0\u001B[39m, \u001B[38;5;241m1\u001B[39m, \u001B[38;5;241m2\u001B[39m}:\n\u001B[1;32m    278\u001B[0m     \u001B[38;5;28;01mraise\u001B[39;00m \u001B[38;5;167;01mValueError\u001B[39;00m(\n\u001B[1;32m    279\u001B[0m         \u001B[38;5;124mf\u001B[39m\u001B[38;5;124m\"\u001B[39m\u001B[38;5;124mIPython won\u001B[39m\u001B[38;5;124m'\u001B[39m\u001B[38;5;124mt let you open fd=\u001B[39m\u001B[38;5;132;01m{\u001B[39;00mfile\u001B[38;5;132;01m}\u001B[39;00m\u001B[38;5;124m by default \u001B[39m\u001B[38;5;124m\"\u001B[39m\n\u001B[1;32m    280\u001B[0m         \u001B[38;5;124m\"\u001B[39m\u001B[38;5;124mas it is likely to crash IPython. If you know what you are doing, \u001B[39m\u001B[38;5;124m\"\u001B[39m\n\u001B[1;32m    281\u001B[0m         \u001B[38;5;124m\"\u001B[39m\u001B[38;5;124myou can use builtins\u001B[39m\u001B[38;5;124m'\u001B[39m\u001B[38;5;124m open.\u001B[39m\u001B[38;5;124m\"\u001B[39m\n\u001B[1;32m    282\u001B[0m     )\n\u001B[0;32m--> 284\u001B[0m \u001B[38;5;28;01mreturn\u001B[39;00m \u001B[43mio_open\u001B[49m\u001B[43m(\u001B[49m\u001B[43mfile\u001B[49m\u001B[43m,\u001B[49m\u001B[43m \u001B[49m\u001B[38;5;241;43m*\u001B[39;49m\u001B[43margs\u001B[49m\u001B[43m,\u001B[49m\u001B[43m \u001B[49m\u001B[38;5;241;43m*\u001B[39;49m\u001B[38;5;241;43m*\u001B[39;49m\u001B[43mkwargs\u001B[49m\u001B[43m)\u001B[49m\n",
      "\u001B[0;31mFileNotFoundError\u001B[0m: [Errno 2] No such file or directory: '/home/aiops/zhuty/tinyllama/scripts/fewshot_eval/outputs/tiny_LLaMA_1b_8k_cc_8k-iter-380000-ckpt-step-47500_hf/squad_24_42_prompts_and_preds.json'"
     ]
    }
   ],
   "source": [
    "BASE_PATH = '/home/aiops/zhuty/tinyllama/scripts/fewshot_eval/outputs/'\n",
    "commands = []\n",
    "data = []\n",
    "shot_num = 24\n",
    "iter_name = \"iter-380000-ckpt-step-47500_hf\"\n",
    "\n",
    "TASK_CLASS=\"obqa\"\n",
    "\n",
    "class_to_tasks_mapping = {\"icl\": ['agnews' ,'amazon' ,'dbpedia' ,'sst2' ,'tweet_hate' ,'tweet_offensive' ,'yelp' ],\n",
    "                          \"obqa\": [ \"squad\", \"nq_obqa\", \"tq_obqa\" ,\"hotpotqa\"],\n",
    "                          \"cbqa\": [\"tq\", \"nq\"]\n",
    "                          }\n",
    "\n",
    "class_to_seed_mapping = {\"icl\": range(42, 58),\n",
    "                         \"obqa\": range(42, 46+1),\n",
    "                         \"cbqa\": range(42, 46 + 1)\n",
    "                         }\n",
    "\n",
    "for task_name in  class_to_tasks_mapping[TASK_CLASS]:\n",
    "    for seed_num in class_to_seed_mapping[TASK_CLASS]:\n",
    "        prompts = []\n",
    "        for model_name in ['cc', 'cc_merged_v1', 'cc_merged_v2']:\n",
    "        # for seed_num in range(42, 46 + 1):\n",
    "            full_name = f\"tiny_LLaMA_1b_8k_{model_name}_8k-{iter_name}\"\n",
    "            result_path = os.path.join(BASE_PATH,full_name, f'{task_name}_{shot_num}_{seed_num}_prompts_and_preds.json')\n",
    "            curr_data = json.load(open(result_path))\n",
    "            # print(curr_data.keys())\n",
    "            prompts.append([x['prompt'] for x in curr_data['prompts']])\n",
    "\n",
    "        # ensure that the prompts are the same\n",
    "        all_identical = compare_list_of_prompts(prompts)\n",
    "        assert all_identical, f\"Not identical inputs! {task_name} {seed_num}\"\n",
    "\n"
   ],
   "metadata": {
    "collapsed": false
   }
  },
  {
   "cell_type": "code",
   "execution_count": null,
   "outputs": [],
   "source": [],
   "metadata": {
    "collapsed": false
   }
  },
  {
   "cell_type": "code",
   "execution_count": null,
   "outputs": [],
   "source": [],
   "metadata": {
    "collapsed": false
   }
  }
 ],
 "metadata": {
  "kernelspec": {
   "name": "synpre_env",
   "language": "python",
   "display_name": "synpre_env"
  },
  "language_info": {
   "codemirror_mode": {
    "name": "ipython",
    "version": 2
   },
   "file_extension": ".py",
   "mimetype": "text/x-python",
   "name": "python",
   "nbconvert_exporter": "python",
   "pygments_lexer": "ipython2",
   "version": "2.7.6"
  }
 },
 "nbformat": 4,
 "nbformat_minor": 0
}
