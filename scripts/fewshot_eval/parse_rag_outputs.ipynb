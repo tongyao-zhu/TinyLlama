{
 "cells": [
  {
   "cell_type": "code",
   "execution_count": null,
   "metadata": {
    "collapsed": true
   },
   "outputs": [],
   "source": [
    "import pandas as pd"
   ]
  },
  {
   "cell_type": "code",
   "execution_count": null,
   "outputs": [],
   "source": [
    "path = '/home/aiops/zhuty/tinyllama/scripts/fewshot_eval/results/rag_outputs_complete.csv'\n",
    "df = pd.read_csv(path)\n",
    "df.head()"
   ],
   "metadata": {
    "collapsed": false
   }
  },
  {
   "cell_type": "code",
   "execution_count": null,
   "outputs": [],
   "source": [
    "df"
   ],
   "metadata": {
    "collapsed": false
   }
  },
  {
   "cell_type": "code",
   "execution_count": null,
   "outputs": [],
   "source": [
    "selected_task = 'tq_obqa'\n",
    "df = df[df['task'] == selected_task]\n",
    "df = df[df['num_docs'] <=10]\n",
    "print(len(df))"
   ],
   "metadata": {
    "collapsed": false
   }
  },
  {
   "cell_type": "code",
   "execution_count": null,
   "outputs": [],
   "source": [
    "def extract_pretrain_dataset(x):\n",
    "    \"\"\"\n",
    "    Sample input: /home/aiops/zhuty/tinyllama/out/tiny_LLaMA_1b_8k_cc_8k/iter-200000-ckpt-step-25000_hf\n",
    "    Sample output: cc_8k\n",
    "    Args:\n",
    "        x:\n",
    "    Returns:\n",
    "\n",
    "    \"\"\"\n",
    "    if '/home/aiops/zhuty' in x:\n",
    "        folder_name = x.split('/')[-2] # tiny_LLaMA_1b_8k_cc_8k\n",
    "        return (\"_\").join(folder_name.split('_')[4:]) # cc_8k\n",
    "    else:\n",
    "        # sample model name: tyzhu/tiny_LLaMA_120M_8k_cc_8k_iter-240000-ckpt-step-60000_hf\n",
    "        return x.strip(\"tyzhu/\").split(\"_8k_\")[1]\n",
    "\n",
    "name_to_meaning_map = {\"cc_8k\": \"random\", \"intramask_cc_8k\": \"intradoc\", \"cc_merged_v1_8k\": \"dense\", \"cc_merged_v2_8k\": \"bm25\"}\n",
    "\n",
    "df['model'] = df['model'].apply(extract_pretrain_dataset)\n",
    "df['model'] = df['model'].map(name_to_meaning_map)"
   ],
   "metadata": {
    "collapsed": false
   }
  },
  {
   "cell_type": "code",
   "execution_count": null,
   "outputs": [],
   "source": [
    "grouped_df = df.groupby(['model', 'task', 'num_docs' ]).agg({'score': ['mean', 'std']})"
   ],
   "metadata": {
    "collapsed": false
   }
  },
  {
   "cell_type": "code",
   "execution_count": null,
   "outputs": [],
   "source": [
    "grouped_df"
   ],
   "metadata": {
    "collapsed": false
   }
  },
  {
   "cell_type": "code",
   "execution_count": null,
   "outputs": [],
   "source": [
    "# visualize as a line plot\n",
    "import matplotlib.pyplot as plt\n",
    "import seaborn as sns"
   ],
   "metadata": {
    "collapsed": false
   }
  },
  {
   "cell_type": "code",
   "execution_count": null,
   "outputs": [],
   "source": [
    "\n",
    "sns.set_theme(style=\"whitegrid\")\n",
    "plt.figure(figsize=(10, 6))\n",
    "# plot the mean and the standard deviation\n",
    "for model in grouped_df.index.get_level_values(0).unique():\n",
    "    for task in grouped_df.index.get_level_values(1).unique():\n",
    "        df_to_plot = grouped_df.loc[(model, task)]\n",
    "        plt.errorbar(df_to_plot.index.get_level_values(0), df_to_plot['score']['mean'], yerr=df_to_plot['score']['std'], label=model)\n",
    "plt.title('RAG performance on {}'.format(selected_task.upper()))\n",
    "plt.ylabel('Mean Score')\n",
    "plt.xlabel('Number of documents')\n",
    "plt.legend()\n",
    "plt.show()"
   ],
   "metadata": {
    "collapsed": false
   }
  }
 ],
 "metadata": {
  "kernelspec": {
   "name": "synpre_env",
   "language": "python",
   "display_name": "synpre_env"
  },
  "language_info": {
   "codemirror_mode": {
    "name": "ipython",
    "version": 2
   },
   "file_extension": ".py",
   "mimetype": "text/x-python",
   "name": "python",
   "nbconvert_exporter": "python",
   "pygments_lexer": "ipython2",
   "version": "2.7.6"
  }
 },
 "nbformat": 4,
 "nbformat_minor": 0
}
