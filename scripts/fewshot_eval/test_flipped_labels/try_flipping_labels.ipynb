{
 "cells": [
  {
   "cell_type": "code",
   "execution_count": 1,
   "metadata": {
    "collapsed": true
   },
   "outputs": [],
   "source": [
    "import numpy as np"
   ]
  },
  {
   "cell_type": "code",
   "execution_count": 10,
   "outputs": [],
   "source": [
    "train_data = [\n",
    "    {'input': 1, 'label': 0},\n",
    "    {'input': 2, 'label': 1},\n",
    "    {'input': 3, 'label': 0},\n",
    "    {'input': 4, 'label': 1},\n",
    "    {'input': 5, 'label': 0},\n",
    "    {'input': 6, 'label': 1},\n",
    "    {'input': 7, 'label': 0},\n",
    "    {'input': 8, 'label': 1},\n",
    "    {'input': 9, 'label': 0},\n",
    "    {'input': 10, 'label': 1},\n",
    "              ]"
   ],
   "metadata": {
    "collapsed": false
   }
  },
  {
   "cell_type": "code",
   "execution_count": 11,
   "outputs": [],
   "source": [
    "seed = 42"
   ],
   "metadata": {
    "collapsed": false
   }
  },
  {
   "cell_type": "code",
   "execution_count": 12,
   "outputs": [],
   "source": [
    "\n",
    "rng = np.random.RandomState(seed)\n"
   ],
   "metadata": {
    "collapsed": false
   }
  },
  {
   "cell_type": "code",
   "execution_count": 13,
   "outputs": [
    {
     "name": "stdout",
     "output_type": "stream",
     "text": [
      "[8 1]\n"
     ]
    }
   ],
   "source": [
    "num_demonstrations = len(train_data)\n",
    "flipped_ratio = 0.2\n",
    "flipped_indices = rng.choice(num_demonstrations, int(num_demonstrations * flipped_ratio), replace=False)\n",
    "print(flipped_indices)\n",
    "# select the indices from the training data"
   ],
   "metadata": {
    "collapsed": false
   }
  },
  {
   "cell_type": "code",
   "execution_count": 14,
   "outputs": [],
   "source": [
    "for idx in flipped_indices:\n",
    "    train_data[idx]['label'] = 1 - train_data[idx]['label']"
   ],
   "metadata": {
    "collapsed": false
   }
  },
  {
   "cell_type": "code",
   "execution_count": 9,
   "outputs": [
    {
     "data": {
      "text/plain": "[{'input': 1, 'label': 0},\n {'input': 2, 'label': 0},\n {'input': 3, 'label': 0},\n {'input': 4, 'label': 1},\n {'input': 5, 'label': 0}]"
     },
     "execution_count": 9,
     "metadata": {},
     "output_type": "execute_result"
    }
   ],
   "source": [
    "train_data"
   ],
   "metadata": {
    "collapsed": false
   }
  }
 ],
 "metadata": {
  "kernelspec": {
   "name": "synpre_env",
   "language": "python",
   "display_name": "synpre_env"
  },
  "language_info": {
   "codemirror_mode": {
    "name": "ipython",
    "version": 2
   },
   "file_extension": ".py",
   "mimetype": "text/x-python",
   "name": "python",
   "nbconvert_exporter": "python",
   "pygments_lexer": "ipython2",
   "version": "2.7.6"
  }
 },
 "nbformat": 4,
 "nbformat_minor": 0
}
