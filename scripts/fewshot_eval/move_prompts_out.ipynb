{
 "cells": [
  {
   "cell_type": "code",
   "execution_count": 1,
   "metadata": {
    "collapsed": true
   },
   "outputs": [],
   "source": [
    "import os\n",
    "BASE_PATH = \"/home/aiops/zhuty/tinyllama/scripts/fewshot_eval/outputs\"\n",
    "NEW_PATH = \"/home/aiops/zhuty/tinyllama/scripts/fewshot_eval/prompts_and_preds\"\n",
    "# move the pred file to another path\n",
    "for sub_dir in os.listdir(BASE_PATH)[:1]:\n",
    "    print(\"Moving files in \", sub_dir)\n",
    "    # skip if not a directory\n",
    "    if not os.path.isdir(os.path.join(BASE_PATH, sub_dir)):\n",
    "        continue\n",
    "    files = os.listdir(os.path.join(BASE_PATH, sub_dir))\n",
    "    preds_files = [f for f in files if f.endswith(\"prompts_and_preds.json\")]\n",
    "    new_dir = os.path.join(NEW_PATH, sub_dir)\n",
    "    if not os.path.exists(new_dir):\n",
    "        os.makedirs(new_dir)\n",
    "    for f in preds_files:\n",
    "        # ensure that new file does not exist\n",
    "        if not os.path.exists(os.path.join(new_dir, f)):\n",
    "            os.rename(os.path.join(BASE_PATH, sub_dir, f), os.path.join(new_dir, f))\n",
    "        else:\n",
    "            print(f\"File {f} already exists in {new_dir}\")"
   ]
  }
 ],
 "metadata": {
  "kernelspec": {
   "name": "synpre_env",
   "language": "python",
   "display_name": "synpre_env"
  },
  "language_info": {
   "codemirror_mode": {
    "name": "ipython",
    "version": 2
   },
   "file_extension": ".py",
   "mimetype": "text/x-python",
   "name": "python",
   "nbconvert_exporter": "python",
   "pygments_lexer": "ipython2",
   "version": "2.7.6"
  }
 },
 "nbformat": 4,
 "nbformat_minor": 0
}
