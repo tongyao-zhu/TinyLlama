{
 "cells": [
  {
   "cell_type": "code",
   "execution_count": null,
   "outputs": [],
   "source": [
    "from transformers.models.llama import LlamaTokenizer\n",
    "from transformers import LlamaForCausalLM\n",
    "from transformers import AutoModelForCausalLM\n",
    "from transformers import AutoTokenizer\n",
    "from torch.utils.data import DataLoader, Dataset\n",
    "import logging\n",
    "import json"
   ],
   "metadata": {
    "collapsed": false
   }
  },
  {
   "cell_type": "code",
   "execution_count": null,
   "outputs": [],
   "source": [
    "# model_path = 'TinyLlama/TinyLlama-1.1B-step-50K-105b'\n",
    "# model_path = 'tyzhu/tiny_LLaMA_1b_8k_intramask_cc_8k_iter-600000-ckpt-step-75000_hf'\n",
    "model_path = 'tyzhu/tiny_LLaMA_1b_8k_cc_merged_v1_8k_iter-600000-ckpt-step-75000_hf'\n",
    "model = AutoModelForCausalLM.from_pretrained(model_path, token = json.load(open('/home/aiops/zhuty/hf_token.json')))\n",
    "# tokenizer = LlamaTokenizer.from_pretrained('/home/aiops/zhuty/tinyllama/models' , padding_side='left', truncation_side=\"left\")\n",
    "tokenizer = AutoTokenizer.from_pretrained(model_path, token=json.load(open('/home/aiops/zhuty/hf_token.json')), use_fast=False)\n",
    "# tokenizer.pad_token = tokenizer.eos_token\n",
    "model.eval()\n",
    "# model = model.cuda()"
   ],
   "metadata": {
    "collapsed": false
   }
  },
  {
   "cell_type": "code",
   "execution_count": null,
   "outputs": [],
   "source": [
    "prompt = \"Text: @user This is disgusting practice, make sure Huntleigh USA rehires these women.\\nLabel: Non-hate\\nText: Rauner Drags His Feet While Immigrant Communities are Under Attack #ilgov #twill\\nLabel: Non-hate\\nText: Tory is going to pay in 2018 for the sins of 2014 (Kouvalis, SmartTrack). Cf Wynne and gas plants. Toronto Mayor John Tory Just Hired The Guy Who Ran Canada’s Worst Anti-Immigrant Campaign,\\xa0Again(https://t.co/OZiSfOXPhS)\\nLabel: Non-hate\\nText: * New Balkan route a problem.  Croatia ðŸ‡\\xadðŸ‡· is absolutely correct to tighten patrols to stop the illegal migrants from entering in an effort to reach the “rich” EU countries. #v4 #visegrad\\nLabel: Hate\\nText: A look at refugee and migrant camp ahead of EU meeting\\nLabel: Non-hate\\nText: Can anyone answer this question?Why is it OK in this country to make light-hearted, or even offensive comments about Christianity, but similar comments about Islam are considered Islamophobic by the mainstream media?#Burqa #Brexit #bitcoin #immigration #r4today #SaudiArabia\\nLabel: Hate\\nText: How close I am to quitting my job and becoming a prostitute\\nLabel: Non-hate\\nText: #Nigeria #news - Family of nine #Iraqi asylum seekers gang -rape drunk woman\\nLabel: Non-hate\\nText: @user @user @user Protecting the COUNTRY is the sole purpose of the Military. Not for unnessary foreign endeavours an interference.. The COUNTRY starts at the Border, Mr. Smith. #BuildThatWall\\nLabel: Hate\\nText: The EU’s migration solution? Throw cash at the problem\\nLabel: Non-hate\\nText: It’s ‘100 Percent’ On Trump Administration To Locate Separated Parents, Judge Says #DACAworks #HereToStay #Immigrantion\\nLabel: Non-hate\\nText: With military members already  being stripped of their service to our country and told to go home, Trump administration plans to limit citizenship for legal immigrants, NBC News reports\\nLabel: Hate\\nText: ok babies i'll go to sleep ok bitch shut the fuck up\\nLabel: Hate\\nText: RT @user 🤔🙀🐽🙈 #Repost @user with repostapp.\\nLabel: Non-hate\\nText: Pleased today to be addressing #Mekong #Migration Network meeting in #ChiangMai to present @user findings on continued use of forced labor in #Thailand's fishing industry. Rights respecting reforms still needed from Thai gov't! @user @user\\nLabel: Non-hate\\nText: When they tell you there's no wifi\\nLabel: Non-hate\\nText: #JaredKushner mulled disrupting the U.N. agency that provides relief to Palestinian refugees, a report says...\\nLabel: Non-hate\\nText: We appreciate the ongoing advocacy for immigrants by @user and @user\\nLabel: Non-hate\\nText: @user @user @user I Want Ram Mandir &; Development in India. Do you want both or Nothing?\\nLabel: Non-hate\\nText: Girls get so mad when you fuck em and never talk to them again... It's so fucking adorable\\nLabel: Hate\\nText: People that ask you why you unfollowed them are the worst kind of people... Bitch, cause fuck you, that's why\\nLabel: Hate\\nText: @user I tried to find a gif of Brett Butler calling you a Godless Whore but...well let's just say I didn…\\nLabel: Hate\\nText: “go talk to your other hoes” first of all, bitch you’re the only one i talk to!\\nLabel: Hate\\nText: Turkish government must immediately take precautions to protect it's borders and find solution for the trouble in Syria or else Turkey will be a refugee storage in the near future and this is a big threat for our survival #nomorerefugees\\nLabel: Hate\\nText: @user , you are correct that Reid certainly is a weasel. Sadly, we've got our own weasels; @user Sen McConnell & @user .The corrupt Mueller investigation w/be STOPPED if those 3 did their jobs.#MAGA #KAG #POTUS #Trump #NEWS #VoteRed #NoDACA #USA\\nLabel:\"\n",
    "prompt = \"Text: Give me a break!!  #Unbelievable #liberallosers #Trumpman #MAGA #DrainTheSwamp\\nLabel: Non-hate\\nText: @user You are right. Victoria is on the reverse...😱\\nLabel: Non-hate\\nText: @user @user @user Women + Liberals.  Nuff said.  Kavanaugh to be confirmed next week regardless of these desperate games.  Game over.  #MAGA\\nLabel: Non-hate\\nText: @user @user @user You are 100% right; successful prosecution will send the right message.   That said the inability of a voter to take a photo evidence of the party voted reduces the likelihood of vote buying.  No party will waste money with this new approach because there is zero guarantee.\\nLabel: Non-hate\\nText: @user @user @user I didn\\'t know if it was a guy or girl at first.  But she is definitely the most un-charismatic person I\\'ve ever seen hosting any type of show.\\nLabel: Non-hate\\nText: A mood.\\nLabel: Non-hate\\nText: @user @user There should be a serious FBI investigation into this woman’s motives behind this political hit job. This kind of shit is NEVER done to anyone other than conservatives. Such bullshit.\\nLabel: Hate\\nText: @user Hey Woodward: You are a silly old fart and do not know what is going on in the White House.  You are the one who has reached a mental stage yourself of Alzheimers\\nLabel: Hate\\nText: 3/? EEA migration boosts productivity and innovation and has NO IMPACT on the training of UK born. Another @user lie nailed.\\nLabel: Non-hate\\nText: Active shooter Middleton WI several ambulances 🚑 on stand by waiting for police to clear building #MAGA #TrumpTrain @user @user #KeepAmericaGreat2020 @user\\nLabel: Non-hate\\nText: @user @user @user @user @user @user @user @user @user @user @user @user Here is my 15 year old Daughter\\'s report\"\" 😄 (conservative as well) #fluffywolf1218\\nLabel: Non-hate\\nText: @user Anne Coulter. Oh, and Jack Abramoff. You kids were stupid enough to be courted by Conservatives\"\" when they showed up on U.S. campuses, back in \\'80.   So, there\\'s two...\"\"\\nLabel: Hate\\nText: (2020 election season)  Trump: my dick is the most magnificent dick. Just tremendous.   Leftists: prove it you Russian puppet!  Trump: *whips dick out in fit of senility*  Conservatives: *vote Trump to victory*\\nLabel: Hate\\nText: @user @user An airplane you say..no woman falls in love with you when you are a trek star.\\nLabel: Non-hate\\nText: @user Gotta give him credit where its due he may not be a mason but he is out there competing his ass off\\nLabel: Hate\\nText: @user Hеy! I am 21 years old. I\\'m waiting for you hеre 👉 👈 👰 😗 🌷\\nLabel: Non-hate\\nText: @user @user @user @user @user @user @user @user @user @user @user Nah they are liberals\\nLabel: Non-hate\\nText: @user @user This was a poor comparison. Jay Z literally said he fucked nas\\' baby mom and left the condom on his daughters baby seat. Cardi and nicki are fighting for what?\\nLabel: Hate\\nText: @user did you see the response i typed 😘 you are too much fun sometimes\\nLabel: Non-hate\\nText: @user David stop it with your logical connections.... True journalists like you are not in vogue..\\nLabel: Hate\\nText: @user Yet more evidence that the @user have turned ‘The Party of Business’ into ‘The Party of Fuck Business’. Bizarre.\\nLabel: Non-hate\\nText: @user A band of liars Eric has a big L\"\" on his forehead.  He is so disgusting.  Who votes for these people or don\\'t they really, it has to be rigged.\"\"\\nLabel: Hate\\nText: @user @user @user He is the un-indicted co-conspirator AKA Individual 1 .\\nLabel: Non-hate\\nText: @user @user @user He. Is. A. Sociopath.  They are incapable of feeling empathy. Period.\\nLabel: Hate\\nText: #ibelieveblaseyford is liar she is fat ugly libreal #snowflake she sold her  herself to get some cash !! From dems and Iran  ! Why she spoke after  #JohnKerryIranMeeting ?\\nLabel:\"\n",
    "inputs = tokenizer([prompt], return_tensors='pt', add_special_tokens=True)\n",
    "# inputs = tokenizer([prompt], return_tensors='pt')"
   ],
   "metadata": {
    "collapsed": false
   }
  },
  {
   "cell_type": "code",
   "execution_count": null,
   "outputs": [],
   "source": [
    "inputs"
   ],
   "metadata": {
    "collapsed": false
   }
  },
  {
   "cell_type": "code",
   "execution_count": null,
   "outputs": [],
   "source": [
    "len(inputs['input_ids'][0])"
   ],
   "metadata": {
    "collapsed": false
   }
  },
  {
   "cell_type": "code",
   "execution_count": null,
   "outputs": [],
   "source": [
    "result = model.generate(**inputs, max_new_tokens=20, )"
   ],
   "metadata": {
    "collapsed": false
   }
  },
  {
   "cell_type": "code",
   "execution_count": null,
   "outputs": [],
   "source": [
    "result[0][-100:]"
   ],
   "metadata": {
    "collapsed": false
   }
  },
  {
   "cell_type": "code",
   "execution_count": null,
   "outputs": [],
   "source": [
    "tokenizer.decode(result[0])"
   ],
   "metadata": {
    "collapsed": false
   }
  },
  {
   "cell_type": "code",
   "execution_count": null,
   "outputs": [],
   "source": [
    "print(\"input length:\","
   ],
   "metadata": {
    "collapsed": false
   }
  },
  {
   "cell_type": "code",
   "execution_count": null,
   "outputs": [],
   "source": [
    "tokenizer"
   ],
   "metadata": {
    "collapsed": false
   }
  },
  {
   "cell_type": "code",
   "execution_count": null,
   "outputs": [],
   "source": [
    "token=json.load(open('/home/aiops/zhuty/hf_token.json'))"
   ],
   "metadata": {
    "collapsed": false
   }
  },
  {
   "cell_type": "code",
   "execution_count": null,
   "outputs": [],
   "source": [
    "token"
   ],
   "metadata": {
    "collapsed": false
   }
  },
  {
   "cell_type": "code",
   "execution_count": null,
   "outputs": [],
   "source": [
    "# Use a pipeline as a high-level helper\n",
    "from transformers import pipeline\n",
    "import json\n",
    "\n",
    "pipe = pipeline(\"text-generation\", model=model, tokenizer=tokenizer,  token=token)"
   ],
   "metadata": {
    "collapsed": false
   }
  },
  {
   "cell_type": "code",
   "execution_count": null,
   "outputs": [],
   "source": [
    "pipe.tokenizer(prompt)"
   ],
   "metadata": {
    "collapsed": false
   }
  },
  {
   "cell_type": "code",
   "execution_count": null,
   "outputs": [],
   "source": [
    "pipe(prompt, max_new_tokens=20, do_sample=True)"
   ],
   "metadata": {
    "collapsed": false
   }
  }
 ],
 "metadata": {
  "kernelspec": {
   "name": "synpre_env",
   "language": "python",
   "display_name": "synpre_env"
  },
  "language_info": {
   "codemirror_mode": {
    "name": "ipython",
    "version": 2
   },
   "file_extension": ".py",
   "mimetype": "text/x-python",
   "name": "python",
   "nbconvert_exporter": "python",
   "pygments_lexer": "ipython2",
   "version": "2.7.6"
  }
 },
 "nbformat": 4,
 "nbformat_minor": 0
}
