{
 "cells": [
  {
   "cell_type": "code",
   "execution_count": 2,
   "metadata": {
    "collapsed": true
   },
   "outputs": [],
   "source": [
    "import faiss\n",
    "import numpy as np\n",
    "\n",
    "USE_GPU = False\n",
    "\n",
    "dataset_name = 'redpajama_20b'\n",
    "\n",
    "\n",
    "\n",
    "if \"c4_news\" in dataset_name:\n",
    "    # Load your existing flat index\n",
    "    flat_index = faiss.read_index(f'/home/aiops/zhuty/ret_pretraining_data/id_added/{dataset_name}/dense_index/shard_full/flatindex')\n",
    "else:\n",
    "    # Load your existing flat index\n",
    "    flat_index = faiss.read_index(f'/home/aiops/zhuty/ret_pretraining_data/id_added/{dataset_name}/dense_index/shard_full/index')"
   ]
  },
  {
   "cell_type": "code",
   "execution_count": 3,
   "outputs": [],
   "source": [
    "from typing import List\n",
    "\n",
    "def load_docids(docid_path: str) -> List[str]:\n",
    "    id_f = open(docid_path, 'r')\n",
    "    docids = [line.rstrip() for line in id_f.readlines()]\n",
    "    id_f.close()\n",
    "    return docids\n",
    "docids = load_docids(f'/home/aiops/zhuty/ret_pretraining_data/id_added/{dataset_name}/dense_index/shard_full/docid')"
   ],
   "metadata": {
    "collapsed": false
   }
  },
  {
   "cell_type": "code",
   "execution_count": 4,
   "outputs": [
    {
     "data": {
      "text/plain": "8900000"
     },
     "execution_count": 4,
     "metadata": {},
     "output_type": "execute_result"
    }
   ],
   "source": [
    "flat_index.ntotal"
   ],
   "metadata": {
    "collapsed": false
   }
  },
  {
   "cell_type": "code",
   "execution_count": 5,
   "outputs": [],
   "source": [
    "embedding = f\"/home/aiops/zhuty/ret_pretraining_data/id_added/{dataset_name}/dense_queries/chunk_0/embedding.pkl\"\n",
    "embedding = np.load(embedding, allow_pickle=True)\n"
   ],
   "metadata": {
    "collapsed": false
   }
  },
  {
   "cell_type": "code",
   "execution_count": 6,
   "outputs": [
    {
     "data": {
      "text/plain": "(768,)"
     },
     "execution_count": 6,
     "metadata": {},
     "output_type": "execute_result"
    }
   ],
   "source": [
    "embedding['embedding'][0].shape"
   ],
   "metadata": {
    "collapsed": false
   }
  },
  {
   "cell_type": "code",
   "execution_count": 7,
   "outputs": [
    {
     "data": {
      "text/plain": "'Basic number formating is supported in both SVG and HTML files. Standard numbering symbol like hash (#), zero (0), comma (,) and period (.) can be used in formatting a number. Moreover, IntegraXor number formatting is very flexible, any non-digit symbol or even space can be used as decimal or separator to support localized number formating. And the group separation can be a standard 3 digits thousand separator, or 2 digits, or 4 digits or any biggger numbers separator. Below are some examples of formating and its outcome.\\nEntering only one symbol will always be treated as Decimal, simply add a trailing space at the end to force it become Separator. For instance, inputting 1234567.890 into \"#,### \" will generate 1,234,568.'"
     },
     "execution_count": 7,
     "metadata": {},
     "output_type": "execute_result"
    }
   ],
   "source": [
    "embedding['text'][3]"
   ],
   "metadata": {
    "collapsed": false
   }
  },
  {
   "cell_type": "code",
   "execution_count": null,
   "outputs": [],
   "source": [
    "flat_index.metric_type"
   ],
   "metadata": {
    "collapsed": false,
    "pycharm": {
     "is_executing": true
    }
   }
  },
  {
   "cell_type": "code",
   "execution_count": null,
   "outputs": [],
   "source": [
    "len(embedding['embedding']  )"
   ],
   "metadata": {
    "collapsed": false,
    "pycharm": {
     "is_executing": true
    }
   }
  },
  {
   "cell_type": "code",
   "execution_count": 17,
   "outputs": [
    {
     "name": "stdout",
     "output_type": "stream",
     "text": [
      "q_embeddings.shape (100000, 768)\n",
      "(100, 768)\n"
     ]
    }
   ],
   "source": [
    "q_embeddings = np.array(embedding['embedding'].tolist())\n",
    "print(\"q_embeddings.shape\", q_embeddings.shape)\n",
    "q_embeddings = q_embeddings[:512, :]\n",
    "print(q_embeddings.shape)"
   ],
   "metadata": {
    "collapsed": false
   }
  },
  {
   "cell_type": "code",
   "execution_count": 18,
   "outputs": [
    {
     "name": "stdout",
     "output_type": "stream",
     "text": [
      "Search took 72.73102402687073 seconds\n"
     ]
    }
   ],
   "source": [
    "import time\n",
    "# time the search\n",
    "start = time.time()\n",
    "\n",
    "D, I = flat_index.search(q_embeddings, 1000)\n",
    "\n",
    "end = time.time()\n",
    "print(f\"Search took {end - start} seconds\")"
   ],
   "metadata": {
    "collapsed": false
   }
  },
  {
   "cell_type": "code",
   "execution_count": 32,
   "outputs": [
    {
     "data": {
      "text/plain": "7.0621133"
     },
     "execution_count": 32,
     "metadata": {},
     "output_type": "execute_result"
    }
   ],
   "source": [
    "embedding['embedding'][0].dot(flat_index.reconstruct(10989342))"
   ],
   "metadata": {
    "collapsed": false
   }
  },
  {
   "cell_type": "code",
   "execution_count": 41,
   "outputs": [
    {
     "data": {
      "text/plain": "10989342"
     },
     "execution_count": 41,
     "metadata": {},
     "output_type": "execute_result"
    }
   ],
   "source": [
    "docids.index('260_19549')"
   ],
   "metadata": {
    "collapsed": false
   }
  },
  {
   "cell_type": "code",
   "execution_count": 31,
   "outputs": [
    {
     "data": {
      "text/plain": "{'0_3': [('488_26675', 13.423204),\n  ('54_15364', 13.305187),\n  ('464_17743', 12.685675),\n  ('16_12271', 12.598089),\n  ('188_10357', 12.290218),\n  ('354_26802', 12.207288),\n  ('107_10189', 12.097836),\n  ('342_25796', 11.983659),\n  ('418_5252', 11.974178),\n  ('234_26553', 11.97171)]}"
     },
     "execution_count": 31,
     "metadata": {},
     "output_type": "execute_result"
    }
   ],
   "source": [
    "{key: [(docids[idx], score)\n",
    "                          for score, idx in zip(distances, indexes) if idx != -1]\n",
    "                    for key, distances, indexes in zip(['0_3'], D, I)}"
   ],
   "metadata": {
    "collapsed": false
   }
  },
  {
   "cell_type": "code",
   "execution_count": null,
   "outputs": [],
   "source": [],
   "metadata": {
    "collapsed": false
   }
  },
  {
   "cell_type": "code",
   "execution_count": null,
   "outputs": [],
   "source": [],
   "metadata": {
    "collapsed": false
   }
  },
  {
   "cell_type": "code",
   "execution_count": null,
   "outputs": [],
   "source": [],
   "metadata": {
    "collapsed": false
   }
  },
  {
   "cell_type": "code",
   "execution_count": null,
   "outputs": [],
   "source": [],
   "metadata": {
    "collapsed": false
   }
  },
  {
   "cell_type": "markdown",
   "source": [
    "Draft place"
   ],
   "metadata": {
    "collapsed": false
   }
  },
  {
   "cell_type": "code",
   "execution_count": 5,
   "outputs": [
    {
     "name": "stdout",
     "output_type": "stream",
     "text": [
      "sleep 5; sailctl job create bm25search0  --debug -f ~/Downloads/cpu_only_values.yaml  --command-line-args \"source /home/aiops/zhuty/start.sh ; cd /home/aiops/zhuty/tinyllama/processing/ ; bash range_search_bm25.sh rpwiki_en 0 50  \" ; sleep 5; sailctl job create bm25search50  --debug -f ~/Downloads/cpu_only_values.yaml  --command-line-args \"source /home/aiops/zhuty/start.sh ; cd /home/aiops/zhuty/tinyllama/processing/ ; bash range_search_bm25.sh rpwiki_en 50 100  \" ; sleep 5; sailctl job create bm25search100  --debug -f ~/Downloads/cpu_only_values.yaml  --command-line-args \"source /home/aiops/zhuty/start.sh ; cd /home/aiops/zhuty/tinyllama/processing/ ; bash range_search_bm25.sh rpwiki_en 100 150  \" ; sleep 5; sailctl job create bm25search150  --debug -f ~/Downloads/cpu_only_values.yaml  --command-line-args \"source /home/aiops/zhuty/start.sh ; cd /home/aiops/zhuty/tinyllama/processing/ ; bash range_search_bm25.sh rpwiki_en 150 200  \" ; sleep 5; sailctl job create bm25search200  --debug -f ~/Downloads/cpu_only_values.yaml  --command-line-args \"source /home/aiops/zhuty/start.sh ; cd /home/aiops/zhuty/tinyllama/processing/ ; bash range_search_bm25.sh rpwiki_en 200 250  \" ; sleep 5; sailctl job create bm25search250  --debug -f ~/Downloads/cpu_only_values.yaml  --command-line-args \"source /home/aiops/zhuty/start.sh ; cd /home/aiops/zhuty/tinyllama/processing/ ; bash range_search_bm25.sh rpwiki_en 250 300  \" ; sleep 5; sailctl job create bm25search300  --debug -f ~/Downloads/cpu_only_values.yaml  --command-line-args \"source /home/aiops/zhuty/start.sh ; cd /home/aiops/zhuty/tinyllama/processing/ ; bash range_search_bm25.sh rpwiki_en 300 350  \" ; sleep 5; sailctl job create bm25search350  --debug -f ~/Downloads/cpu_only_values.yaml  --command-line-args \"source /home/aiops/zhuty/start.sh ; cd /home/aiops/zhuty/tinyllama/processing/ ; bash range_search_bm25.sh rpwiki_en 350 400  \" ; sleep 5; sailctl job create bm25search400  --debug -f ~/Downloads/cpu_only_values.yaml  --command-line-args \"source /home/aiops/zhuty/start.sh ; cd /home/aiops/zhuty/tinyllama/processing/ ; bash range_search_bm25.sh rpwiki_en 400 450  \" ; sleep 5; sailctl job create bm25search450  --debug -f ~/Downloads/cpu_only_values.yaml  --command-line-args \"source /home/aiops/zhuty/start.sh ; cd /home/aiops/zhuty/tinyllama/processing/ ; bash range_search_bm25.sh rpwiki_en 450 500  \" ; sleep 5; sailctl job create bm25search500  --debug -f ~/Downloads/cpu_only_values.yaml  --command-line-args \"source /home/aiops/zhuty/start.sh ; cd /home/aiops/zhuty/tinyllama/processing/ ; bash range_search_bm25.sh rpwiki_en 500 550  \" ; sleep 5; sailctl job create bm25search550  --debug -f ~/Downloads/cpu_only_values.yaml  --command-line-args \"source /home/aiops/zhuty/start.sh ; cd /home/aiops/zhuty/tinyllama/processing/ ; bash range_search_bm25.sh rpwiki_en 550 600  \" ; sleep 5; sailctl job create bm25search600  --debug -f ~/Downloads/cpu_only_values.yaml  --command-line-args \"source /home/aiops/zhuty/start.sh ; cd /home/aiops/zhuty/tinyllama/processing/ ; bash range_search_bm25.sh rpwiki_en 600 650  \" ; sleep 5; sailctl job create bm25search650  --debug -f ~/Downloads/cpu_only_values.yaml  --command-line-args \"source /home/aiops/zhuty/start.sh ; cd /home/aiops/zhuty/tinyllama/processing/ ; bash range_search_bm25.sh rpwiki_en 650 700  \" ; sleep 5; sailctl job create bm25search700  --debug -f ~/Downloads/cpu_only_values.yaml  --command-line-args \"source /home/aiops/zhuty/start.sh ; cd /home/aiops/zhuty/tinyllama/processing/ ; bash range_search_bm25.sh rpwiki_en 700 750  \" ; sleep 5; sailctl job create bm25search750  --debug -f ~/Downloads/cpu_only_values.yaml  --command-line-args \"source /home/aiops/zhuty/start.sh ; cd /home/aiops/zhuty/tinyllama/processing/ ; bash range_search_bm25.sh rpwiki_en 750 800  \" ; sleep 5; sailctl job create bm25search800  --debug -f ~/Downloads/cpu_only_values.yaml  --command-line-args \"source /home/aiops/zhuty/start.sh ; cd /home/aiops/zhuty/tinyllama/processing/ ; bash range_search_bm25.sh rpwiki_en 800 850  \" ; sleep 5; sailctl job create bm25search850  --debug -f ~/Downloads/cpu_only_values.yaml  --command-line-args \"source /home/aiops/zhuty/start.sh ; cd /home/aiops/zhuty/tinyllama/processing/ ; bash range_search_bm25.sh rpwiki_en 850 900  \" ; sleep 5; sailctl job create bm25search900  --debug -f ~/Downloads/cpu_only_values.yaml  --command-line-args \"source /home/aiops/zhuty/start.sh ; cd /home/aiops/zhuty/tinyllama/processing/ ; bash range_search_bm25.sh rpwiki_en 900 950  \" ; sleep 5; sailctl job create bm25search950  --debug -f ~/Downloads/cpu_only_values.yaml  --command-line-args \"source /home/aiops/zhuty/start.sh ; cd /home/aiops/zhuty/tinyllama/processing/ ; bash range_search_bm25.sh rpwiki_en 950 1000  \" ; sleep 5; sailctl job create bm25search1000  --debug -f ~/Downloads/cpu_only_values.yaml  --command-line-args \"source /home/aiops/zhuty/start.sh ; cd /home/aiops/zhuty/tinyllama/processing/ ; bash range_search_bm25.sh rpwiki_en 1000 1050  \" ; sleep 5; sailctl job create bm25search1050  --debug -f ~/Downloads/cpu_only_values.yaml  --command-line-args \"source /home/aiops/zhuty/start.sh ; cd /home/aiops/zhuty/tinyllama/processing/ ; bash range_search_bm25.sh rpwiki_en 1050 1100  \" ; sleep 5; sailctl job create bm25search1100  --debug -f ~/Downloads/cpu_only_values.yaml  --command-line-args \"source /home/aiops/zhuty/start.sh ; cd /home/aiops/zhuty/tinyllama/processing/ ; bash range_search_bm25.sh rpwiki_en 1100 1150  \" ; sleep 5; sailctl job create bm25search1150  --debug -f ~/Downloads/cpu_only_values.yaml  --command-line-args \"source /home/aiops/zhuty/start.sh ; cd /home/aiops/zhuty/tinyllama/processing/ ; bash range_search_bm25.sh rpwiki_en 1150 1200  \" ;\n"
     ]
    }
   ],
   "source": [
    "step = 50\n",
    "commands = []\n",
    "for i in range(0, 1200, step):\n",
    "   # if i==0:\n",
    "   #      continue\n",
    "# missing = ['chunk_234', 'chunk_254', 'chunk_301', 'chunk_304', 'chunk_303', 'chunk_302', 'chunk_300', 'chunk_305', 'chunk_510', 'chunk_290', 'chunk_235', 'chunk_511']\n",
    "# for i in missing:\n",
    "#     i = i.split(\"_\")[1]\n",
    "    commands.append((f\"\"\"sleep 5; sailctl job create bm25search{i}  --debug -f ~/Downloads/cpu_only_values.yaml  --command-line-args \"source /home/aiops/zhuty/start.sh ; cd /home/aiops/zhuty/tinyllama/processing/ ; bash range_search_bm25.sh rpwiki_en {i} {i+step}  \" ;\"\"\"))\n",
    "print(\" \".join(commands))"
   ],
   "metadata": {
    "collapsed": false
   }
  },
  {
   "cell_type": "code",
   "execution_count": 2,
   "outputs": [
    {
     "name": "stdout",
     "output_type": "stream",
     "text": [
      "sleep 5; sailctl job create dsearch0  --debug -g 1  --command-line-args \"source /home/aiops/zhuty/start.sh ; cd /home/aiops/zhuty/tinyllama/processing/dense_index ; bash encode_queries.sh c4_news first 0 19 ;  bash range_search_dense.sh c4_news first 0  19  \" ; sleep 5; sailctl job create dsearch20  --debug -g 1  --command-line-args \"source /home/aiops/zhuty/start.sh ; cd /home/aiops/zhuty/tinyllama/processing/dense_index ; bash encode_queries.sh c4_news first 20 39 ;  bash range_search_dense.sh c4_news first 20  39  \" ; sleep 5; sailctl job create dsearch40  --debug -g 1  --command-line-args \"source /home/aiops/zhuty/start.sh ; cd /home/aiops/zhuty/tinyllama/processing/dense_index ; bash encode_queries.sh c4_news first 40 59 ;  bash range_search_dense.sh c4_news first 40  59  \" ; sleep 5; sailctl job create dsearch60  --debug -g 1  --command-line-args \"source /home/aiops/zhuty/start.sh ; cd /home/aiops/zhuty/tinyllama/processing/dense_index ; bash encode_queries.sh c4_news first 60 79 ;  bash range_search_dense.sh c4_news first 60  79  \" ; sleep 5; sailctl job create dsearch80  --debug -g 1  --command-line-args \"source /home/aiops/zhuty/start.sh ; cd /home/aiops/zhuty/tinyllama/processing/dense_index ; bash encode_queries.sh c4_news first 80 99 ;  bash range_search_dense.sh c4_news first 80  99  \" ; sleep 5; sailctl job create dsearch100  --debug -g 1  --command-line-args \"source /home/aiops/zhuty/start.sh ; cd /home/aiops/zhuty/tinyllama/processing/dense_index ; bash encode_queries.sh c4_news first 100 119 ;  bash range_search_dense.sh c4_news first 100  119  \" ; sleep 5; sailctl job create dsearch120  --debug -g 1  --command-line-args \"source /home/aiops/zhuty/start.sh ; cd /home/aiops/zhuty/tinyllama/processing/dense_index ; bash encode_queries.sh c4_news first 120 139 ;  bash range_search_dense.sh c4_news first 120  139  \" ; sleep 5; sailctl job create dsearch140  --debug -g 1  --command-line-args \"source /home/aiops/zhuty/start.sh ; cd /home/aiops/zhuty/tinyllama/processing/dense_index ; bash encode_queries.sh c4_news first 140 159 ;  bash range_search_dense.sh c4_news first 140  159  \" ; sleep 5; sailctl job create dsearch160  --debug -g 1  --command-line-args \"source /home/aiops/zhuty/start.sh ; cd /home/aiops/zhuty/tinyllama/processing/dense_index ; bash encode_queries.sh c4_news first 160 179 ;  bash range_search_dense.sh c4_news first 160  179  \" ; sleep 5; sailctl job create dsearch180  --debug -g 1  --command-line-args \"source /home/aiops/zhuty/start.sh ; cd /home/aiops/zhuty/tinyllama/processing/dense_index ; bash encode_queries.sh c4_news first 180 199 ;  bash range_search_dense.sh c4_news first 180  199  \" ; sleep 5; sailctl job create dsearch200  --debug -g 1  --command-line-args \"source /home/aiops/zhuty/start.sh ; cd /home/aiops/zhuty/tinyllama/processing/dense_index ; bash encode_queries.sh c4_news first 200 219 ;  bash range_search_dense.sh c4_news first 200  219  \" ; sleep 5; sailctl job create dsearch220  --debug -g 1  --command-line-args \"source /home/aiops/zhuty/start.sh ; cd /home/aiops/zhuty/tinyllama/processing/dense_index ; bash encode_queries.sh c4_news first 220 239 ;  bash range_search_dense.sh c4_news first 220  239  \" ; sleep 5; sailctl job create dsearch240  --debug -g 1  --command-line-args \"source /home/aiops/zhuty/start.sh ; cd /home/aiops/zhuty/tinyllama/processing/dense_index ; bash encode_queries.sh c4_news first 240 259 ;  bash range_search_dense.sh c4_news first 240  259  \" ; sleep 5; sailctl job create dsearch260  --debug -g 1  --command-line-args \"source /home/aiops/zhuty/start.sh ; cd /home/aiops/zhuty/tinyllama/processing/dense_index ; bash encode_queries.sh c4_news first 260 279 ;  bash range_search_dense.sh c4_news first 260  279  \" ; sleep 5; sailctl job create dsearch280  --debug -g 1  --command-line-args \"source /home/aiops/zhuty/start.sh ; cd /home/aiops/zhuty/tinyllama/processing/dense_index ; bash encode_queries.sh c4_news first 280 299 ;  bash range_search_dense.sh c4_news first 280  299  \" ; sleep 5; sailctl job create dsearch300  --debug -g 1  --command-line-args \"source /home/aiops/zhuty/start.sh ; cd /home/aiops/zhuty/tinyllama/processing/dense_index ; bash encode_queries.sh c4_news first 300 319 ;  bash range_search_dense.sh c4_news first 300  319  \" ; sleep 5; sailctl job create dsearch320  --debug -g 1  --command-line-args \"source /home/aiops/zhuty/start.sh ; cd /home/aiops/zhuty/tinyllama/processing/dense_index ; bash encode_queries.sh c4_news first 320 339 ;  bash range_search_dense.sh c4_news first 320  339  \" ; sleep 5; sailctl job create dsearch340  --debug -g 1  --command-line-args \"source /home/aiops/zhuty/start.sh ; cd /home/aiops/zhuty/tinyllama/processing/dense_index ; bash encode_queries.sh c4_news first 340 359 ;  bash range_search_dense.sh c4_news first 340  359  \" ; sleep 5; sailctl job create dsearch360  --debug -g 1  --command-line-args \"source /home/aiops/zhuty/start.sh ; cd /home/aiops/zhuty/tinyllama/processing/dense_index ; bash encode_queries.sh c4_news first 360 379 ;  bash range_search_dense.sh c4_news first 360  379  \" ; sleep 5; sailctl job create dsearch380  --debug -g 1  --command-line-args \"source /home/aiops/zhuty/start.sh ; cd /home/aiops/zhuty/tinyllama/processing/dense_index ; bash encode_queries.sh c4_news first 380 399 ;  bash range_search_dense.sh c4_news first 380  399  \" ; sleep 5; sailctl job create dsearch400  --debug -g 1  --command-line-args \"source /home/aiops/zhuty/start.sh ; cd /home/aiops/zhuty/tinyllama/processing/dense_index ; bash encode_queries.sh c4_news first 400 419 ;  bash range_search_dense.sh c4_news first 400  419  \" ; sleep 5; sailctl job create dsearch420  --debug -g 1  --command-line-args \"source /home/aiops/zhuty/start.sh ; cd /home/aiops/zhuty/tinyllama/processing/dense_index ; bash encode_queries.sh c4_news first 420 439 ;  bash range_search_dense.sh c4_news first 420  439  \" ; sleep 5; sailctl job create dsearch440  --debug -g 1  --command-line-args \"source /home/aiops/zhuty/start.sh ; cd /home/aiops/zhuty/tinyllama/processing/dense_index ; bash encode_queries.sh c4_news first 440 459 ;  bash range_search_dense.sh c4_news first 440  459  \" ; sleep 5; sailctl job create dsearch460  --debug -g 1  --command-line-args \"source /home/aiops/zhuty/start.sh ; cd /home/aiops/zhuty/tinyllama/processing/dense_index ; bash encode_queries.sh c4_news first 460 479 ;  bash range_search_dense.sh c4_news first 460  479  \" ; sleep 5; sailctl job create dsearch480  --debug -g 1  --command-line-args \"source /home/aiops/zhuty/start.sh ; cd /home/aiops/zhuty/tinyllama/processing/dense_index ; bash encode_queries.sh c4_news first 480 499 ;  bash range_search_dense.sh c4_news first 480  499  \" ;\n"
     ]
    }
   ],
   "source": [
    "step = 20\n",
    "commands = []\n",
    "ds = 'c4_news'\n",
    "# ds = 'rpwiki_en'\n",
    "query_type = \"first\"\n",
    "for i in range(0, 500, step):\n",
    "   # if i==0:\n",
    "   #      continue\n",
    "# missing = ['chunk_234', 'chunk_254', 'chunk_301', 'chunk_304', 'chunk_303', 'chunk_302', 'chunk_300', 'chunk_305', 'chunk_510', 'chunk_290', 'chunk_235', 'chunk_511']\n",
    "# for i in missing:\n",
    "#     i = i.split(\"_\")[1]\n",
    "    commands.append((f\"\"\"sleep 5; sailctl job create dsearch{i}  --debug -g 1  --command-line-args \"source /home/aiops/zhuty/start.sh ; cd /home/aiops/zhuty/tinyllama/processing/dense_index ; bash encode_queries.sh {ds} {query_type} {i} {i+step-1} ;  bash range_search_dense.sh {ds} {query_type} {i}  {i+step-1}  \" ;\"\"\"))\n",
    "print(\" \".join(commands))"
   ],
   "metadata": {
    "collapsed": false
   }
  },
  {
   "cell_type": "code",
   "execution_count": null,
   "outputs": [],
   "source": [
    "sailctl job create dsearch480  --debug -g 1  --command-line-args \"source /home/aiops/zhuty/start.sh ; cd /home/aiops/zhuty/tinyllama/processing/dense_index ; bash encode_queries.sh c4_news first 510 511 ;  bash range_search_dense.sh c4_news first 510  511  \" ;"
   ],
   "metadata": {
    "collapsed": false
   }
  }
 ],
 "metadata": {
  "kernelspec": {
   "name": "synpre_env",
   "language": "python",
   "display_name": "synpre_env"
  },
  "language_info": {
   "codemirror_mode": {
    "name": "ipython",
    "version": 2
   },
   "file_extension": ".py",
   "mimetype": "text/x-python",
   "name": "python",
   "nbconvert_exporter": "python",
   "pygments_lexer": "ipython2",
   "version": "2.7.6"
  }
 },
 "nbformat": 4,
 "nbformat_minor": 0
}
