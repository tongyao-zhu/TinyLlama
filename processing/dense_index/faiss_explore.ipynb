{
 "cells": [
  {
   "cell_type": "code",
   "execution_count": 2,
   "metadata": {
    "collapsed": true
   },
   "outputs": [],
   "source": [
    "import faiss\n",
    "import numpy as np\n",
    "\n",
    "USE_GPU = False\n",
    "\n",
    "dataset_name = 'redpajama_20b'\n",
    "\n",
    "\n",
    "\n",
    "if \"c4_news\" in dataset_name:\n",
    "    # Load your existing flat index\n",
    "    flat_index = faiss.read_index(f'/home/aiops/zhuty/ret_pretraining_data/id_added/{dataset_name}/dense_index/shard_full/flatindex')\n",
    "else:\n",
    "    # Load your existing flat index\n",
    "    flat_index = faiss.read_index(f'/home/aiops/zhuty/ret_pretraining_data/id_added/{dataset_name}/dense_index/shard_full/index')"
   ]
  },
  {
   "cell_type": "code",
   "execution_count": 3,
   "outputs": [],
   "source": [
    "from typing import List\n",
    "\n",
    "def load_docids(docid_path: str) -> List[str]:\n",
    "    id_f = open(docid_path, 'r')\n",
    "    docids = [line.rstrip() for line in id_f.readlines()]\n",
    "    id_f.close()\n",
    "    return docids\n",
    "docids = load_docids(f'/home/aiops/zhuty/ret_pretraining_data/id_added/{dataset_name}/dense_index/shard_full/docid')"
   ],
   "metadata": {
    "collapsed": false
   }
  },
  {
   "cell_type": "code",
   "execution_count": 4,
   "outputs": [
    {
     "data": {
      "text/plain": "8900000"
     },
     "execution_count": 4,
     "metadata": {},
     "output_type": "execute_result"
    }
   ],
   "source": [
    "flat_index.ntotal"
   ],
   "metadata": {
    "collapsed": false
   }
  },
  {
   "cell_type": "code",
   "execution_count": 5,
   "outputs": [],
   "source": [
    "embedding = f\"/home/aiops/zhuty/ret_pretraining_data/id_added/{dataset_name}/dense_queries/chunk_0/embedding.pkl\"\n",
    "embedding = np.load(embedding, allow_pickle=True)\n"
   ],
   "metadata": {
    "collapsed": false
   }
  },
  {
   "cell_type": "code",
   "execution_count": 6,
   "outputs": [
    {
     "data": {
      "text/plain": "(768,)"
     },
     "execution_count": 6,
     "metadata": {},
     "output_type": "execute_result"
    }
   ],
   "source": [
    "embedding['embedding'][0].shape"
   ],
   "metadata": {
    "collapsed": false
   }
  },
  {
   "cell_type": "code",
   "execution_count": 7,
   "outputs": [
    {
     "data": {
      "text/plain": "'Basic number formating is supported in both SVG and HTML files. Standard numbering symbol like hash (#), zero (0), comma (,) and period (.) can be used in formatting a number. Moreover, IntegraXor number formatting is very flexible, any non-digit symbol or even space can be used as decimal or separator to support localized number formating. And the group separation can be a standard 3 digits thousand separator, or 2 digits, or 4 digits or any biggger numbers separator. Below are some examples of formating and its outcome.\\nEntering only one symbol will always be treated as Decimal, simply add a trailing space at the end to force it become Separator. For instance, inputting 1234567.890 into \"#,### \" will generate 1,234,568.'"
     },
     "execution_count": 7,
     "metadata": {},
     "output_type": "execute_result"
    }
   ],
   "source": [
    "embedding['text'][3]"
   ],
   "metadata": {
    "collapsed": false
   }
  },
  {
   "cell_type": "code",
   "execution_count": null,
   "outputs": [],
   "source": [
    "flat_index.metric_type"
   ],
   "metadata": {
    "collapsed": false,
    "pycharm": {
     "is_executing": true
    }
   }
  },
  {
   "cell_type": "code",
   "execution_count": null,
   "outputs": [],
   "source": [
    "len(embedding['embedding']  )"
   ],
   "metadata": {
    "collapsed": false,
    "pycharm": {
     "is_executing": true
    }
   }
  },
  {
   "cell_type": "code",
   "execution_count": 17,
   "outputs": [
    {
     "name": "stdout",
     "output_type": "stream",
     "text": [
      "q_embeddings.shape (100000, 768)\n",
      "(100, 768)\n"
     ]
    }
   ],
   "source": [
    "q_embeddings = np.array(embedding['embedding'].tolist())\n",
    "print(\"q_embeddings.shape\", q_embeddings.shape)\n",
    "q_embeddings = q_embeddings[:512, :]\n",
    "print(q_embeddings.shape)"
   ],
   "metadata": {
    "collapsed": false
   }
  },
  {
   "cell_type": "code",
   "execution_count": 18,
   "outputs": [
    {
     "name": "stdout",
     "output_type": "stream",
     "text": [
      "Search took 72.73102402687073 seconds\n"
     ]
    }
   ],
   "source": [
    "import time\n",
    "# time the search\n",
    "start = time.time()\n",
    "\n",
    "D, I = flat_index.search(q_embeddings, 1000)\n",
    "\n",
    "end = time.time()\n",
    "print(f\"Search took {end - start} seconds\")"
   ],
   "metadata": {
    "collapsed": false
   }
  },
  {
   "cell_type": "code",
   "execution_count": 32,
   "outputs": [
    {
     "data": {
      "text/plain": "7.0621133"
     },
     "execution_count": 32,
     "metadata": {},
     "output_type": "execute_result"
    }
   ],
   "source": [
    "embedding['embedding'][0].dot(flat_index.reconstruct(10989342))"
   ],
   "metadata": {
    "collapsed": false
   }
  },
  {
   "cell_type": "code",
   "execution_count": 41,
   "outputs": [
    {
     "data": {
      "text/plain": "10989342"
     },
     "execution_count": 41,
     "metadata": {},
     "output_type": "execute_result"
    }
   ],
   "source": [
    "docids.index('260_19549')"
   ],
   "metadata": {
    "collapsed": false
   }
  },
  {
   "cell_type": "code",
   "execution_count": 31,
   "outputs": [
    {
     "data": {
      "text/plain": "{'0_3': [('488_26675', 13.423204),\n  ('54_15364', 13.305187),\n  ('464_17743', 12.685675),\n  ('16_12271', 12.598089),\n  ('188_10357', 12.290218),\n  ('354_26802', 12.207288),\n  ('107_10189', 12.097836),\n  ('342_25796', 11.983659),\n  ('418_5252', 11.974178),\n  ('234_26553', 11.97171)]}"
     },
     "execution_count": 31,
     "metadata": {},
     "output_type": "execute_result"
    }
   ],
   "source": [
    "{key: [(docids[idx], score)\n",
    "                          for score, idx in zip(distances, indexes) if idx != -1]\n",
    "                    for key, distances, indexes in zip(['0_3'], D, I)}"
   ],
   "metadata": {
    "collapsed": false
   }
  },
  {
   "cell_type": "code",
   "execution_count": null,
   "outputs": [],
   "source": [],
   "metadata": {
    "collapsed": false
   }
  },
  {
   "cell_type": "code",
   "execution_count": null,
   "outputs": [],
   "source": [],
   "metadata": {
    "collapsed": false
   }
  },
  {
   "cell_type": "code",
   "execution_count": null,
   "outputs": [],
   "source": [],
   "metadata": {
    "collapsed": false
   }
  },
  {
   "cell_type": "code",
   "execution_count": null,
   "outputs": [],
   "source": [],
   "metadata": {
    "collapsed": false
   }
  },
  {
   "cell_type": "markdown",
   "source": [
    "Draft place"
   ],
   "metadata": {
    "collapsed": false
   }
  },
  {
   "cell_type": "code",
   "execution_count": null,
   "outputs": [],
   "source": [
    "query_type = \"first\"\n",
    "commands = []\n",
    "\n",
    "ds, upper, step = 'cc', 10, 1\n",
    "# ds, upper, step = 'rpwiki_en' , 1200, 50\n",
    "# ds, upper, step = \"redpajama_20b\" , 89 , 4\n",
    "# for i in range(0, 1200, step):\n",
    "# for i in range(0, 500, step):\n",
    "for i in range(0, upper, step):\n",
    "   # if i==0:\n",
    "   #      continue\n",
    "# missing = ['chunk_234', 'chunk_254', 'chunk_301', 'chunk_304', 'chunk_303', 'chunk_302', 'chunk_300', 'chunk_305', 'chunk_510', 'chunk_290', 'chunk_235', 'chunk_511']\n",
    "# for i in missing:\n",
    "#     i = i.split(\"_\")[1]\n",
    "    commands.append((f\"\"\"sleep 5; sailctl job create bm25search{i} -g 1 --debug   --command-line-args \"source /home/aiops/zhuty/start.sh ; cd /home/aiops/zhuty/tinyllama/processing/ ; bash range_search_bm25.sh {ds} {query_type} {i} {i+step-1}  \" ;\"\"\"))\n",
    "print(\" \".join(commands))"
   ],
   "metadata": {
    "collapsed": false,
    "pycharm": {
     "is_executing": true
    }
   }
  },
  {
   "cell_type": "code",
   "execution_count": 4,
   "outputs": [
    {
     "name": "stdout",
     "output_type": "stream",
     "text": [
      "sleep 5; sailctl job create ccdsearch27  --debug -g 1 -p high --command-line-args \"source /home/aiops/zhuty/start.sh ; cd /home/aiops/zhuty/tinyllama/processing/dense_index ; bash encode_queries.sh cc keep 27 27 ;  bash range_search_dense.sh cc keep 27  27  \" ; sleep 5; sailctl job create ccdsearch29  --debug -g 1 -p high --command-line-args \"source /home/aiops/zhuty/start.sh ; cd /home/aiops/zhuty/tinyllama/processing/dense_index ; bash encode_queries.sh cc keep 29 29 ;  bash range_search_dense.sh cc keep 29  29  \" ; sleep 5; sailctl job create ccdsearch33  --debug -g 1 -p high --command-line-args \"source /home/aiops/zhuty/start.sh ; cd /home/aiops/zhuty/tinyllama/processing/dense_index ; bash encode_queries.sh cc keep 33 33 ;  bash range_search_dense.sh cc keep 33  33  \" ; sleep 5; sailctl job create ccdsearch35  --debug -g 1 -p high --command-line-args \"source /home/aiops/zhuty/start.sh ; cd /home/aiops/zhuty/tinyllama/processing/dense_index ; bash encode_queries.sh cc keep 35 35 ;  bash range_search_dense.sh cc keep 35  35  \" ; sleep 5; sailctl job create ccdsearch61  --debug -g 1 -p high --command-line-args \"source /home/aiops/zhuty/start.sh ; cd /home/aiops/zhuty/tinyllama/processing/dense_index ; bash encode_queries.sh cc keep 61 61 ;  bash range_search_dense.sh cc keep 61  61  \" ; sleep 5; sailctl job create ccdsearch63  --debug -g 1 -p high --command-line-args \"source /home/aiops/zhuty/start.sh ; cd /home/aiops/zhuty/tinyllama/processing/dense_index ; bash encode_queries.sh cc keep 63 63 ;  bash range_search_dense.sh cc keep 63  63  \" ; sleep 5; sailctl job create ccdsearch69  --debug -g 1 -p high --command-line-args \"source /home/aiops/zhuty/start.sh ; cd /home/aiops/zhuty/tinyllama/processing/dense_index ; bash encode_queries.sh cc keep 69 69 ;  bash range_search_dense.sh cc keep 69  69  \" ; sleep 5; sailctl job create ccdsearch71  --debug -g 1 -p high --command-line-args \"source /home/aiops/zhuty/start.sh ; cd /home/aiops/zhuty/tinyllama/processing/dense_index ; bash encode_queries.sh cc keep 71 71 ;  bash range_search_dense.sh cc keep 71  71  \" ; sleep 5; sailctl job create ccdsearch73  --debug -g 1 -p high --command-line-args \"source /home/aiops/zhuty/start.sh ; cd /home/aiops/zhuty/tinyllama/processing/dense_index ; bash encode_queries.sh cc keep 73 73 ;  bash range_search_dense.sh cc keep 73  73  \" ; sleep 5; sailctl job create ccdsearch75  --debug -g 1 -p high --command-line-args \"source /home/aiops/zhuty/start.sh ; cd /home/aiops/zhuty/tinyllama/processing/dense_index ; bash encode_queries.sh cc keep 75 75 ;  bash range_search_dense.sh cc keep 75  75  \" ; sleep 5; sailctl job create ccdsearch77  --debug -g 1 -p high --command-line-args \"source /home/aiops/zhuty/start.sh ; cd /home/aiops/zhuty/tinyllama/processing/dense_index ; bash encode_queries.sh cc keep 77 77 ;  bash range_search_dense.sh cc keep 77  77  \" ; sleep 5; sailctl job create ccdsearch79  --debug -g 1 -p high --command-line-args \"source /home/aiops/zhuty/start.sh ; cd /home/aiops/zhuty/tinyllama/processing/dense_index ; bash encode_queries.sh cc keep 79 79 ;  bash range_search_dense.sh cc keep 79  79  \" ; sleep 5; sailctl job create ccdsearch81  --debug -g 1 -p high --command-line-args \"source /home/aiops/zhuty/start.sh ; cd /home/aiops/zhuty/tinyllama/processing/dense_index ; bash encode_queries.sh cc keep 81 81 ;  bash range_search_dense.sh cc keep 81  81  \" ; sleep 5; sailctl job create ccdsearch83  --debug -g 1 -p high --command-line-args \"source /home/aiops/zhuty/start.sh ; cd /home/aiops/zhuty/tinyllama/processing/dense_index ; bash encode_queries.sh cc keep 83 83 ;  bash range_search_dense.sh cc keep 83  83  \" ; sleep 5; sailctl job create ccdsearch85  --debug -g 1 -p high --command-line-args \"source /home/aiops/zhuty/start.sh ; cd /home/aiops/zhuty/tinyllama/processing/dense_index ; bash encode_queries.sh cc keep 85 85 ;  bash range_search_dense.sh cc keep 85  85  \" ; sleep 5; sailctl job create ccdsearch87  --debug -g 1 -p high --command-line-args \"source /home/aiops/zhuty/start.sh ; cd /home/aiops/zhuty/tinyllama/processing/dense_index ; bash encode_queries.sh cc keep 87 87 ;  bash range_search_dense.sh cc keep 87  87  \" ; sleep 5; sailctl job create ccdsearch91  --debug -g 1 -p high --command-line-args \"source /home/aiops/zhuty/start.sh ; cd /home/aiops/zhuty/tinyllama/processing/dense_index ; bash encode_queries.sh cc keep 91 91 ;  bash range_search_dense.sh cc keep 91  91  \" ; sleep 5; sailctl job create ccdsearch93  --debug -g 1 -p high --command-line-args \"source /home/aiops/zhuty/start.sh ; cd /home/aiops/zhuty/tinyllama/processing/dense_index ; bash encode_queries.sh cc keep 93 93 ;  bash range_search_dense.sh cc keep 93  93  \" ; sleep 5; sailctl job create ccdsearch95  --debug -g 1 -p high --command-line-args \"source /home/aiops/zhuty/start.sh ; cd /home/aiops/zhuty/tinyllama/processing/dense_index ; bash encode_queries.sh cc keep 95 95 ;  bash range_search_dense.sh cc keep 95  95  \" ; sleep 5; sailctl job create ccdsearch97  --debug -g 1 -p high --command-line-args \"source /home/aiops/zhuty/start.sh ; cd /home/aiops/zhuty/tinyllama/processing/dense_index ; bash encode_queries.sh cc keep 97 97 ;  bash range_search_dense.sh cc keep 97  97  \" ; sleep 5; sailctl job create ccdsearch99  --debug -g 1 -p high --command-line-args \"source /home/aiops/zhuty/start.sh ; cd /home/aiops/zhuty/tinyllama/processing/dense_index ; bash encode_queries.sh cc keep 99 99 ;  bash range_search_dense.sh cc keep 99  99  \" ;\n"
     ]
    }
   ],
   "source": [
    "commands = []\n",
    "ds, upper, step = 'c4_news', 500, 20\n",
    "# ds, upper, step = 'rpwiki_en' , 1200, 50\n",
    "# ds, upper, step = \"redpajama_20b\" , 89 , 4\n",
    "ds, upper, step = 'cc', 100, 1\n",
    "query_type = \"keep\"\n",
    "# for i in range(0, upper, step):\n",
    "\n",
    "   # if i==0:\n",
    "   #      continue\n",
    "\n",
    "       # commands.append((f\"\"\"sleep 5; sailctl job create dsearch{i}  --debug -g 1  --command-line-args \"source /home/aiops/zhuty/start.sh ; cd /home/aiops/zhuty/tinyllama/processing/dense_index ; bash encode_queries.sh {ds} {query_type} {i} {i+step-1} ;  bash range_search_dense.sh {ds} {query_type} {i}  {i+step-1}  \" ;\"\"\"))\n",
    "# missing = ['chunk_238', 'chunk_410', 'chunk_309', 'chunk_137', 'chunk_136', 'chunk_356', 'chunk_0', 'chunk_392', 'chunk_114', 'chunk_31', 'chunk_82', 'chunk_426', 'chunk_389',\n",
    "# 'chunk_483', 'chunk_5', 'chunk_329', 'chunk_73', 'chunk_251', 'chunk_494', 'chunk_386', 'chunk_11', 'chunk_13', 'chunk_396', 'chunk_4', 'chunk_467', 'chunk_135', 'chunk_269', 'chunk_446', 'chunk_289', 'chunk_230', 'chunk_406',\n",
    "# 'chunk_93', 'chunk_16', 'chunk_62', 'chunk_1', 'chunk_330', 'chunk_511', 'chunk_470', 'chunk_332', 'chunk_297', 'chunk_346', 'chunk_115', 'chunk_316', 'chunk_326']\n",
    "# for i in missing:\n",
    "#     i = i.split(\"_\")[1]\n",
    "#     i = str(i)\n",
    "for i in [27, 29, 33, 35, 61, 63, 69, 71, 73, 75, 77, 79, 81, 83, 85, 87, 91, 93, 95, 97, 99]:\n",
    "    step = 1\n",
    "    commands.append((f\"\"\"sleep 5; sailctl job create {ds}dsearch{i}  --debug -g 1 -p high --command-line-args \"source /home/aiops/zhuty/start.sh ; cd /home/aiops/zhuty/tinyllama/processing/dense_index ; bash encode_queries.sh {ds} {query_type} {i} {i+step-1} ;  bash range_search_dense.sh {ds} {query_type} {i}  {i+step-1}  \" ;\"\"\"))\n",
    "print(\" \".join(commands))"
   ],
   "metadata": {
    "collapsed": false
   }
  },
  {
   "cell_type": "code",
   "execution_count": 9,
   "outputs": [
    {
     "name": "stdout",
     "output_type": "stream",
     "text": [
      "sailctl job create geninf -g 1 -p low  --debug --command-line-args \"source /home/aiops/zhuty/start.sh ; cd /home/aiops/zhuty/tinyllama/processing/inference ; bash run_batch_inf.sh /home/aiops/zhuty/tinyllama/out/tiny_LLaMA_120M_8k_c4_news_8k/hf_ckpt c4_news last 10 19 ;\" ; sailctl job create geninf -g 1 -p low  --debug --command-line-args \"source /home/aiops/zhuty/start.sh ; cd /home/aiops/zhuty/tinyllama/processing/inference ; bash run_batch_inf.sh /home/aiops/zhuty/tinyllama/out/tiny_LLaMA_120M_8k_c4_news_8k/hf_ckpt c4_news last 20 29 ;\" ; sailctl job create geninf -g 1 -p low  --debug --command-line-args \"source /home/aiops/zhuty/start.sh ; cd /home/aiops/zhuty/tinyllama/processing/inference ; bash run_batch_inf.sh /home/aiops/zhuty/tinyllama/out/tiny_LLaMA_120M_8k_c4_news_8k/hf_ckpt c4_news last 30 39 ;\" ; sailctl job create geninf -g 1 -p low  --debug --command-line-args \"source /home/aiops/zhuty/start.sh ; cd /home/aiops/zhuty/tinyllama/processing/inference ; bash run_batch_inf.sh /home/aiops/zhuty/tinyllama/out/tiny_LLaMA_120M_8k_c4_news_8k/hf_ckpt c4_news last 40 49 ;\" ; sailctl job create geninf -g 1 -p low  --debug --command-line-args \"source /home/aiops/zhuty/start.sh ; cd /home/aiops/zhuty/tinyllama/processing/inference ; bash run_batch_inf.sh /home/aiops/zhuty/tinyllama/out/tiny_LLaMA_120M_8k_c4_news_8k/hf_ckpt c4_news last 50 59 ;\" ; sailctl job create geninf -g 1 -p low  --debug --command-line-args \"source /home/aiops/zhuty/start.sh ; cd /home/aiops/zhuty/tinyllama/processing/inference ; bash run_batch_inf.sh /home/aiops/zhuty/tinyllama/out/tiny_LLaMA_120M_8k_c4_news_8k/hf_ckpt c4_news last 60 69 ;\" ; sailctl job create geninf -g 1 -p low  --debug --command-line-args \"source /home/aiops/zhuty/start.sh ; cd /home/aiops/zhuty/tinyllama/processing/inference ; bash run_batch_inf.sh /home/aiops/zhuty/tinyllama/out/tiny_LLaMA_120M_8k_c4_news_8k/hf_ckpt c4_news last 70 79 ;\" ; sailctl job create geninf -g 1 -p low  --debug --command-line-args \"source /home/aiops/zhuty/start.sh ; cd /home/aiops/zhuty/tinyllama/processing/inference ; bash run_batch_inf.sh /home/aiops/zhuty/tinyllama/out/tiny_LLaMA_120M_8k_c4_news_8k/hf_ckpt c4_news last 80 89 ;\" ; sailctl job create geninf -g 1 -p low  --debug --command-line-args \"source /home/aiops/zhuty/start.sh ; cd /home/aiops/zhuty/tinyllama/processing/inference ; bash run_batch_inf.sh /home/aiops/zhuty/tinyllama/out/tiny_LLaMA_120M_8k_c4_news_8k/hf_ckpt c4_news last 90 99 ;\" ; sailctl job create geninf -g 1 -p low  --debug --command-line-args \"source /home/aiops/zhuty/start.sh ; cd /home/aiops/zhuty/tinyllama/processing/inference ; bash run_batch_inf.sh /home/aiops/zhuty/tinyllama/out/tiny_LLaMA_120M_8k_c4_news_8k/hf_ckpt c4_news last 100 109 ;\" ; sailctl job create geninf -g 1 -p low  --debug --command-line-args \"source /home/aiops/zhuty/start.sh ; cd /home/aiops/zhuty/tinyllama/processing/inference ; bash run_batch_inf.sh /home/aiops/zhuty/tinyllama/out/tiny_LLaMA_120M_8k_c4_news_8k/hf_ckpt c4_news last 110 119 ;\" ; sailctl job create geninf -g 1 -p low  --debug --command-line-args \"source /home/aiops/zhuty/start.sh ; cd /home/aiops/zhuty/tinyllama/processing/inference ; bash run_batch_inf.sh /home/aiops/zhuty/tinyllama/out/tiny_LLaMA_120M_8k_c4_news_8k/hf_ckpt c4_news last 120 129 ;\" ; sailctl job create geninf -g 1 -p low  --debug --command-line-args \"source /home/aiops/zhuty/start.sh ; cd /home/aiops/zhuty/tinyllama/processing/inference ; bash run_batch_inf.sh /home/aiops/zhuty/tinyllama/out/tiny_LLaMA_120M_8k_c4_news_8k/hf_ckpt c4_news last 130 139 ;\" ; sailctl job create geninf -g 1 -p low  --debug --command-line-args \"source /home/aiops/zhuty/start.sh ; cd /home/aiops/zhuty/tinyllama/processing/inference ; bash run_batch_inf.sh /home/aiops/zhuty/tinyllama/out/tiny_LLaMA_120M_8k_c4_news_8k/hf_ckpt c4_news last 140 149 ;\" ; sailctl job create geninf -g 1 -p low  --debug --command-line-args \"source /home/aiops/zhuty/start.sh ; cd /home/aiops/zhuty/tinyllama/processing/inference ; bash run_batch_inf.sh /home/aiops/zhuty/tinyllama/out/tiny_LLaMA_120M_8k_c4_news_8k/hf_ckpt c4_news last 150 159 ;\" ; sailctl job create geninf -g 1 -p low  --debug --command-line-args \"source /home/aiops/zhuty/start.sh ; cd /home/aiops/zhuty/tinyllama/processing/inference ; bash run_batch_inf.sh /home/aiops/zhuty/tinyllama/out/tiny_LLaMA_120M_8k_c4_news_8k/hf_ckpt c4_news last 160 169 ;\" ; sailctl job create geninf -g 1 -p low  --debug --command-line-args \"source /home/aiops/zhuty/start.sh ; cd /home/aiops/zhuty/tinyllama/processing/inference ; bash run_batch_inf.sh /home/aiops/zhuty/tinyllama/out/tiny_LLaMA_120M_8k_c4_news_8k/hf_ckpt c4_news last 170 179 ;\" ; sailctl job create geninf -g 1 -p low  --debug --command-line-args \"source /home/aiops/zhuty/start.sh ; cd /home/aiops/zhuty/tinyllama/processing/inference ; bash run_batch_inf.sh /home/aiops/zhuty/tinyllama/out/tiny_LLaMA_120M_8k_c4_news_8k/hf_ckpt c4_news last 180 189 ;\" ; sailctl job create geninf -g 1 -p low  --debug --command-line-args \"source /home/aiops/zhuty/start.sh ; cd /home/aiops/zhuty/tinyllama/processing/inference ; bash run_batch_inf.sh /home/aiops/zhuty/tinyllama/out/tiny_LLaMA_120M_8k_c4_news_8k/hf_ckpt c4_news last 190 199 ;\" ; sailctl job create geninf -g 1 -p low  --debug --command-line-args \"source /home/aiops/zhuty/start.sh ; cd /home/aiops/zhuty/tinyllama/processing/inference ; bash run_batch_inf.sh /home/aiops/zhuty/tinyllama/out/tiny_LLaMA_120M_8k_c4_news_8k/hf_ckpt c4_news last 200 209 ;\" ; sailctl job create geninf -g 1 -p low  --debug --command-line-args \"source /home/aiops/zhuty/start.sh ; cd /home/aiops/zhuty/tinyllama/processing/inference ; bash run_batch_inf.sh /home/aiops/zhuty/tinyllama/out/tiny_LLaMA_120M_8k_c4_news_8k/hf_ckpt c4_news last 210 219 ;\" ; sailctl job create geninf -g 1 -p low  --debug --command-line-args \"source /home/aiops/zhuty/start.sh ; cd /home/aiops/zhuty/tinyllama/processing/inference ; bash run_batch_inf.sh /home/aiops/zhuty/tinyllama/out/tiny_LLaMA_120M_8k_c4_news_8k/hf_ckpt c4_news last 220 229 ;\" ; sailctl job create geninf -g 1 -p low  --debug --command-line-args \"source /home/aiops/zhuty/start.sh ; cd /home/aiops/zhuty/tinyllama/processing/inference ; bash run_batch_inf.sh /home/aiops/zhuty/tinyllama/out/tiny_LLaMA_120M_8k_c4_news_8k/hf_ckpt c4_news last 230 239 ;\" ; sailctl job create geninf -g 1 -p low  --debug --command-line-args \"source /home/aiops/zhuty/start.sh ; cd /home/aiops/zhuty/tinyllama/processing/inference ; bash run_batch_inf.sh /home/aiops/zhuty/tinyllama/out/tiny_LLaMA_120M_8k_c4_news_8k/hf_ckpt c4_news last 240 249 ;\" ; sailctl job create geninf -g 1 -p low  --debug --command-line-args \"source /home/aiops/zhuty/start.sh ; cd /home/aiops/zhuty/tinyllama/processing/inference ; bash run_batch_inf.sh /home/aiops/zhuty/tinyllama/out/tiny_LLaMA_120M_8k_c4_news_8k/hf_ckpt c4_news last 250 259 ;\" ; sailctl job create geninf -g 1 -p low  --debug --command-line-args \"source /home/aiops/zhuty/start.sh ; cd /home/aiops/zhuty/tinyllama/processing/inference ; bash run_batch_inf.sh /home/aiops/zhuty/tinyllama/out/tiny_LLaMA_120M_8k_c4_news_8k/hf_ckpt c4_news last 260 269 ;\" ; sailctl job create geninf -g 1 -p low  --debug --command-line-args \"source /home/aiops/zhuty/start.sh ; cd /home/aiops/zhuty/tinyllama/processing/inference ; bash run_batch_inf.sh /home/aiops/zhuty/tinyllama/out/tiny_LLaMA_120M_8k_c4_news_8k/hf_ckpt c4_news last 270 279 ;\" ; sailctl job create geninf -g 1 -p low  --debug --command-line-args \"source /home/aiops/zhuty/start.sh ; cd /home/aiops/zhuty/tinyllama/processing/inference ; bash run_batch_inf.sh /home/aiops/zhuty/tinyllama/out/tiny_LLaMA_120M_8k_c4_news_8k/hf_ckpt c4_news last 280 289 ;\" ; sailctl job create geninf -g 1 -p low  --debug --command-line-args \"source /home/aiops/zhuty/start.sh ; cd /home/aiops/zhuty/tinyllama/processing/inference ; bash run_batch_inf.sh /home/aiops/zhuty/tinyllama/out/tiny_LLaMA_120M_8k_c4_news_8k/hf_ckpt c4_news last 290 299 ;\" ; sailctl job create geninf -g 1 -p low  --debug --command-line-args \"source /home/aiops/zhuty/start.sh ; cd /home/aiops/zhuty/tinyllama/processing/inference ; bash run_batch_inf.sh /home/aiops/zhuty/tinyllama/out/tiny_LLaMA_120M_8k_c4_news_8k/hf_ckpt c4_news last 300 309 ;\" ; sailctl job create geninf -g 1 -p low  --debug --command-line-args \"source /home/aiops/zhuty/start.sh ; cd /home/aiops/zhuty/tinyllama/processing/inference ; bash run_batch_inf.sh /home/aiops/zhuty/tinyllama/out/tiny_LLaMA_120M_8k_c4_news_8k/hf_ckpt c4_news last 310 319 ;\" ; sailctl job create geninf -g 1 -p low  --debug --command-line-args \"source /home/aiops/zhuty/start.sh ; cd /home/aiops/zhuty/tinyllama/processing/inference ; bash run_batch_inf.sh /home/aiops/zhuty/tinyllama/out/tiny_LLaMA_120M_8k_c4_news_8k/hf_ckpt c4_news last 320 329 ;\" ; sailctl job create geninf -g 1 -p low  --debug --command-line-args \"source /home/aiops/zhuty/start.sh ; cd /home/aiops/zhuty/tinyllama/processing/inference ; bash run_batch_inf.sh /home/aiops/zhuty/tinyllama/out/tiny_LLaMA_120M_8k_c4_news_8k/hf_ckpt c4_news last 330 339 ;\" ; sailctl job create geninf -g 1 -p low  --debug --command-line-args \"source /home/aiops/zhuty/start.sh ; cd /home/aiops/zhuty/tinyllama/processing/inference ; bash run_batch_inf.sh /home/aiops/zhuty/tinyllama/out/tiny_LLaMA_120M_8k_c4_news_8k/hf_ckpt c4_news last 340 349 ;\" ; sailctl job create geninf -g 1 -p low  --debug --command-line-args \"source /home/aiops/zhuty/start.sh ; cd /home/aiops/zhuty/tinyllama/processing/inference ; bash run_batch_inf.sh /home/aiops/zhuty/tinyllama/out/tiny_LLaMA_120M_8k_c4_news_8k/hf_ckpt c4_news last 350 359 ;\" ; sailctl job create geninf -g 1 -p low  --debug --command-line-args \"source /home/aiops/zhuty/start.sh ; cd /home/aiops/zhuty/tinyllama/processing/inference ; bash run_batch_inf.sh /home/aiops/zhuty/tinyllama/out/tiny_LLaMA_120M_8k_c4_news_8k/hf_ckpt c4_news last 360 369 ;\" ; sailctl job create geninf -g 1 -p low  --debug --command-line-args \"source /home/aiops/zhuty/start.sh ; cd /home/aiops/zhuty/tinyllama/processing/inference ; bash run_batch_inf.sh /home/aiops/zhuty/tinyllama/out/tiny_LLaMA_120M_8k_c4_news_8k/hf_ckpt c4_news last 370 379 ;\" ; sailctl job create geninf -g 1 -p low  --debug --command-line-args \"source /home/aiops/zhuty/start.sh ; cd /home/aiops/zhuty/tinyllama/processing/inference ; bash run_batch_inf.sh /home/aiops/zhuty/tinyllama/out/tiny_LLaMA_120M_8k_c4_news_8k/hf_ckpt c4_news last 380 389 ;\" ; sailctl job create geninf -g 1 -p low  --debug --command-line-args \"source /home/aiops/zhuty/start.sh ; cd /home/aiops/zhuty/tinyllama/processing/inference ; bash run_batch_inf.sh /home/aiops/zhuty/tinyllama/out/tiny_LLaMA_120M_8k_c4_news_8k/hf_ckpt c4_news last 390 399 ;\" ; sailctl job create geninf -g 1 -p low  --debug --command-line-args \"source /home/aiops/zhuty/start.sh ; cd /home/aiops/zhuty/tinyllama/processing/inference ; bash run_batch_inf.sh /home/aiops/zhuty/tinyllama/out/tiny_LLaMA_120M_8k_c4_news_8k/hf_ckpt c4_news last 400 409 ;\" ; sailctl job create geninf -g 1 -p low  --debug --command-line-args \"source /home/aiops/zhuty/start.sh ; cd /home/aiops/zhuty/tinyllama/processing/inference ; bash run_batch_inf.sh /home/aiops/zhuty/tinyllama/out/tiny_LLaMA_120M_8k_c4_news_8k/hf_ckpt c4_news last 410 419 ;\" ; sailctl job create geninf -g 1 -p low  --debug --command-line-args \"source /home/aiops/zhuty/start.sh ; cd /home/aiops/zhuty/tinyllama/processing/inference ; bash run_batch_inf.sh /home/aiops/zhuty/tinyllama/out/tiny_LLaMA_120M_8k_c4_news_8k/hf_ckpt c4_news last 420 429 ;\" ; sailctl job create geninf -g 1 -p low  --debug --command-line-args \"source /home/aiops/zhuty/start.sh ; cd /home/aiops/zhuty/tinyllama/processing/inference ; bash run_batch_inf.sh /home/aiops/zhuty/tinyllama/out/tiny_LLaMA_120M_8k_c4_news_8k/hf_ckpt c4_news last 430 439 ;\" ; sailctl job create geninf -g 1 -p low  --debug --command-line-args \"source /home/aiops/zhuty/start.sh ; cd /home/aiops/zhuty/tinyllama/processing/inference ; bash run_batch_inf.sh /home/aiops/zhuty/tinyllama/out/tiny_LLaMA_120M_8k_c4_news_8k/hf_ckpt c4_news last 440 449 ;\" ; sailctl job create geninf -g 1 -p low  --debug --command-line-args \"source /home/aiops/zhuty/start.sh ; cd /home/aiops/zhuty/tinyllama/processing/inference ; bash run_batch_inf.sh /home/aiops/zhuty/tinyllama/out/tiny_LLaMA_120M_8k_c4_news_8k/hf_ckpt c4_news last 450 459 ;\" ; sailctl job create geninf -g 1 -p low  --debug --command-line-args \"source /home/aiops/zhuty/start.sh ; cd /home/aiops/zhuty/tinyllama/processing/inference ; bash run_batch_inf.sh /home/aiops/zhuty/tinyllama/out/tiny_LLaMA_120M_8k_c4_news_8k/hf_ckpt c4_news last 460 469 ;\" ; sailctl job create geninf -g 1 -p low  --debug --command-line-args \"source /home/aiops/zhuty/start.sh ; cd /home/aiops/zhuty/tinyllama/processing/inference ; bash run_batch_inf.sh /home/aiops/zhuty/tinyllama/out/tiny_LLaMA_120M_8k_c4_news_8k/hf_ckpt c4_news last 470 479 ;\" ; sailctl job create geninf -g 1 -p low  --debug --command-line-args \"source /home/aiops/zhuty/start.sh ; cd /home/aiops/zhuty/tinyllama/processing/inference ; bash run_batch_inf.sh /home/aiops/zhuty/tinyllama/out/tiny_LLaMA_120M_8k_c4_news_8k/hf_ckpt c4_news last 480 489 ;\" ; sailctl job create geninf -g 1 -p low  --debug --command-line-args \"source /home/aiops/zhuty/start.sh ; cd /home/aiops/zhuty/tinyllama/processing/inference ; bash run_batch_inf.sh /home/aiops/zhuty/tinyllama/out/tiny_LLaMA_120M_8k_c4_news_8k/hf_ckpt c4_news last 490 499 ;\" ;\n"
     ]
    }
   ],
   "source": [
    "commands = []\n",
    "ds, upper, step = 'c4_news', 500, 10\n",
    "# ds, upper, step = 'rpwiki_en' , 1200, 50\n",
    "# ds, upper, step = \"redpajama_20b\" , 89 , 4\n",
    "query_type = \"first\"\n",
    "for i in range(0, upper, step):\n",
    "   # if i==0:\n",
    "   #      continue\n",
    "# missing = ['chunk_234', 'chunk_254', 'chunk_301', 'chunk_304', 'chunk_303', 'chunk_302', 'chunk_300', 'chunk_305', 'chunk_510', 'chunk_290', 'chunk_235', 'chunk_511']\n",
    "# for i in missing:\n",
    "#     i = i.split(\"_\")[1]\n",
    "    if i == 0:\n",
    "        continue\n",
    "    commands.append(f\"\"\"sailctl job create geninf -g 1 -p low  --debug --command-line-args \"source /home/aiops/zhuty/start.sh ; cd /home/aiops/zhuty/tinyllama/processing/inference ; bash run_batch_inf.sh /home/aiops/zhuty/tinyllama/out/tiny_LLaMA_120M_8k_c4_news_8k/hf_ckpt c4_news last {i} {i+step-1} ;\" ;\"\"\")\n",
    "print(\" \".join(commands))"
   ],
   "metadata": {
    "collapsed": false
   }
  },
  {
   "cell_type": "code",
   "execution_count": null,
   "outputs": [],
   "source": [],
   "metadata": {
    "collapsed": false
   }
  },
  {
   "cell_type": "code",
   "execution_count": null,
   "outputs": [],
   "source": [
    "sailctl job create dsearch480  --debug -g 1  --command-line-args \"source /home/aiops/zhuty/start.sh ; cd /home/aiops/zhuty/tinyllama/processing/dense_index ; bash encode_queries.sh c4_news first 510 511 ;  bash range_search_dense.sh c4_news first 510  511  \" ;"
   ],
   "metadata": {
    "collapsed": false
   }
  }
 ],
 "metadata": {
  "kernelspec": {
   "name": "synpre_env",
   "language": "python",
   "display_name": "synpre_env"
  },
  "language_info": {
   "codemirror_mode": {
    "name": "ipython",
    "version": 2
   },
   "file_extension": ".py",
   "mimetype": "text/x-python",
   "name": "python",
   "nbconvert_exporter": "python",
   "pygments_lexer": "ipython2",
   "version": "2.7.6"
  }
 },
 "nbformat": 4,
 "nbformat_minor": 0
}
