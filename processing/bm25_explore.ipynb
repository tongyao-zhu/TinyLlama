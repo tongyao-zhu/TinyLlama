{
 "cells": [
  {
   "cell_type": "code",
   "execution_count": null,
   "outputs": [],
   "source": [
    "import os\n",
    "os.environ['JAVA_HOME'] = '/home/aiops/zhuty/jdk-11.0.20'\n",
    "os.environ['PATH'] = os.environ['JAVA_HOME'] + '/bin:' + os.environ['PATH']\n"
   ],
   "metadata": {
    "collapsed": false
   }
  },
  {
   "cell_type": "code",
   "execution_count": null,
   "metadata": {
    "collapsed": true
   },
   "outputs": [],
   "source": [
    "from pyserini.search.lucene import LuceneSearcher\n",
    "from pyserini.index.lucene import IndexReader\n",
    "\n",
    "index_path = \"/home/aiops/zhuty/ret_pretraining_data/redpajama_20b_id_added/bm25_index\"\n",
    "index_path = \"/home/aiops/zhuty/ret_pretraining_data/redpajama_2b_id_added/bm25_index\"\n",
    "index_reader = IndexReader(index_path)\n",
    "index_reader.stats()"
   ]
  },
  {
   "cell_type": "code",
   "execution_count": null,
   "outputs": [],
   "source": [
    "doc_vector = index_reader.get_document_vector('0_0')\n",
    "print(doc_vector)"
   ],
   "metadata": {
    "collapsed": false
   }
  },
  {
   "cell_type": "code",
   "execution_count": null,
   "outputs": [],
   "source": [
    "searcher = LuceneSearcher(index_path)\n",
    "doc = searcher.doc('0_0')\n",
    "print(doc.raw())\n",
    "print(doc.contents())"
   ],
   "metadata": {
    "collapsed": false
   }
  },
  {
   "cell_type": "code",
   "execution_count": null,
   "outputs": [],
   "source": [
    "doc.contents()"
   ],
   "metadata": {
    "collapsed": false
   }
  },
  {
   "cell_type": "code",
   "execution_count": null,
   "outputs": [],
   "source": [
    "doc.lucene_document(), doc.raw()\n"
   ],
   "metadata": {
    "collapsed": false
   }
  },
  {
   "cell_type": "code",
   "execution_count": null,
   "outputs": [],
   "source": [
    "hits = searcher.search('What is the best way to prepare for a job interview?', k=100)\n",
    "for i in range(len(hits)):\n",
    "    print(f'{i+1:2} {hits[i].docid:4} {hits[i].score:.5f}')"
   ],
   "metadata": {
    "collapsed": false
   }
  },
  {
   "cell_type": "code",
   "execution_count": null,
   "outputs": [],
   "source": [
    "import os"
   ],
   "metadata": {
    "collapsed": false
   }
  },
  {
   "cell_type": "code",
   "execution_count": null,
   "outputs": [],
   "source": [
    "import json\n",
    "docid = \"3_10026\"\n",
    "chunk_id, seq_id = docid.split(\"_\")\n",
    "base_path = \"/home/aiops/zhuty/ret_pretraining_data/redpajama_2b_id_added/train\"\n",
    "base_path = \"/home/aiops/zhuty/ret_pretraining_data/redpajama_2b_id_added/queries\"\n",
    "jsonl_file = os.path.join(base_path, \"chunk_{}.jsonl\".format(chunk_id))\n",
    "with open(jsonl_file, \"r\") as f:\n",
    "    for line in f:\n",
    "        line = line.strip()\n",
    "        if line:\n",
    "            data = json.loads(line)\n",
    "            if data[\"id\"] == docid:\n",
    "                # print(data)\n",
    "                print(len(data['title'].split()))\n",
    "                break"
   ],
   "metadata": {
    "collapsed": false
   }
  },
  {
   "cell_type": "code",
   "execution_count": null,
   "outputs": [],
   "source": [
    "data"
   ],
   "metadata": {
    "collapsed": false
   }
  },
  {
   "cell_type": "code",
   "execution_count": null,
   "outputs": [],
   "source": [
    "for chunk_num in range(0, 90):\n",
    "    print(f'sailctl job create bm25search{chunk_num}  --command-line-args \"source /home/aiops/zhuty/start.sh ; cd /home/aiops/zhuty/tinyllama/processing; bash search_bm25.sh {chunk_num} \" --debug')"
   ],
   "metadata": {
    "collapsed": false
   }
  },
  {
   "cell_type": "code",
   "execution_count": null,
   "outputs": [],
   "source": [
    "sailctl job create bm25search0  --args \"source /home/aiops/zhuty/start.sh ; cd /home/aiops/zhuty/tinyllama/processing; bash search_bm25.sh 0 \" --debug"
   ],
   "metadata": {
    "collapsed": false
   }
  },
  {
   "cell_type": "code",
   "execution_count": null,
   "outputs": [],
   "source": [],
   "metadata": {
    "collapsed": false
   }
  },
  {
   "cell_type": "markdown",
   "source": [
    "Understand how tinyllama works"
   ],
   "metadata": {
    "collapsed": false
   }
  },
  {
   "cell_type": "code",
   "execution_count": 10,
   "outputs": [],
   "source": [
    "import json\n",
    "import os\n",
    "\n",
    "lengths = []\n",
    "\n",
    "for i in range(0, 512):\n",
    "    # read jsonl file\n",
    "    file_path = f\"/home/aiops/zhuty/ret_pretraining_data/c4_news/train/chunk_{i}.jsonl\"\n",
    "\n",
    "    lines = []\n",
    "    with open(file_path, \"r\") as f:\n",
    "        for line in f:\n",
    "            line = line.strip()\n",
    "            if line:\n",
    "                data = json.loads(line)\n",
    "                lines.append(data)\n",
    "    lengths.append(len(lines))\n"
   ],
   "metadata": {
    "collapsed": false
   }
  },
  {
   "cell_type": "code",
   "execution_count": 11,
   "outputs": [
    {
     "data": {
      "text/plain": "[26953,\n 26953,\n 26952,\n 26953,\n 26953,\n 26953,\n 26953,\n 26952,\n 26953,\n 26953,\n 26953,\n 26953,\n 26953,\n 26952,\n 26953,\n 26953,\n 26953,\n 26953,\n 26952,\n 26953,\n 26953,\n 26953,\n 26953,\n 26952,\n 26953,\n 26953,\n 26953,\n 26953,\n 26952,\n 26953,\n 26953,\n 26953,\n 26953,\n 26952,\n 26953,\n 26953,\n 26953,\n 26953,\n 26953,\n 26952,\n 26953,\n 26953,\n 26953,\n 26953,\n 26952,\n 26953,\n 26953,\n 26953,\n 26953,\n 26952,\n 26953,\n 26953,\n 26953,\n 26953,\n 26952,\n 26953,\n 26953,\n 26953,\n 26953,\n 26953,\n 26952,\n 26953,\n 26953,\n 26953,\n 26953,\n 26952,\n 26953,\n 26953,\n 26953,\n 26953,\n 26952,\n 26953,\n 26953,\n 26953,\n 26953,\n 26952,\n 26953,\n 26953,\n 26953,\n 26953,\n 26952,\n 26953,\n 26953,\n 26953,\n 26953,\n 26953,\n 26952,\n 26953,\n 26953,\n 26953,\n 26953,\n 26952,\n 26953,\n 26953,\n 26953,\n 26953,\n 26952,\n 26953,\n 26953,\n 26953,\n 26953,\n 26952,\n 26953,\n 26953,\n 26953,\n 26953,\n 26953,\n 26952,\n 26953,\n 26953,\n 26953,\n 26953,\n 26952,\n 26953,\n 26953,\n 26953,\n 26953,\n 26952,\n 26953,\n 26953,\n 26953,\n 26953,\n 26952,\n 26953,\n 26953,\n 26953,\n 26953,\n 26953,\n 26952,\n 26953,\n 26953,\n 26953,\n 26953,\n 26952,\n 26953,\n 26953,\n 26953,\n 26953,\n 26952,\n 26953,\n 26953,\n 26953,\n 26953,\n 26952,\n 26953,\n 26953,\n 26953,\n 26953,\n 26952,\n 26953,\n 26953,\n 26953,\n 26953,\n 26953,\n 26952,\n 26953,\n 26953,\n 26953,\n 26953,\n 26952,\n 26953,\n 26953,\n 26953,\n 26953,\n 26952,\n 26953,\n 26953,\n 26953,\n 26953,\n 26952,\n 26953,\n 26953,\n 26953,\n 26953,\n 26953,\n 26952,\n 26953,\n 26953,\n 26953,\n 26953,\n 26952,\n 26953,\n 26953,\n 26953,\n 26953,\n 26952,\n 26953,\n 26953,\n 26953,\n 26953,\n 26952,\n 26953,\n 26953,\n 26953,\n 26953,\n 26952,\n 26953,\n 26953,\n 26953,\n 26953,\n 26953,\n 26952,\n 26953,\n 26953,\n 26953,\n 26953,\n 26952,\n 26953,\n 26953,\n 26953,\n 26953,\n 26952,\n 26953,\n 26953,\n 26953,\n 26953,\n 26952,\n 26953,\n 26953,\n 26953,\n 26953,\n 26953,\n 26952,\n 26953,\n 26953,\n 26953,\n 26953,\n 26952,\n 26953,\n 26953,\n 26953,\n 26953,\n 26952,\n 26953,\n 26953,\n 26953,\n 26953,\n 26952,\n 26953,\n 26953,\n 26953,\n 26953,\n 26952,\n 26953,\n 26953,\n 26953,\n 26953,\n 26953,\n 26952,\n 26953,\n 26953,\n 26953,\n 26953,\n 26952,\n 26953,\n 26953,\n 26953,\n 26953,\n 26952,\n 26953,\n 26953,\n 26953,\n 26953,\n 26952,\n 26953,\n 26953,\n 26953,\n 26953,\n 26953,\n 26952,\n 26953,\n 26953,\n 26953,\n 26953,\n 26952,\n 26953,\n 26953,\n 26953,\n 26953,\n 26952,\n 26953,\n 26953,\n 26953,\n 26953,\n 26952,\n 26953,\n 26953,\n 26953,\n 26953,\n 26952,\n 26953,\n 26953,\n 26953,\n 26953,\n 26953,\n 26952,\n 26953,\n 26953,\n 26953,\n 26953,\n 26952,\n 26953,\n 26953,\n 26953,\n 26953,\n 26952,\n 26953,\n 26953,\n 26953,\n 26953,\n 26952,\n 26953,\n 26953,\n 26953,\n 26953,\n 26953,\n 26952,\n 26953,\n 26953,\n 26953,\n 26953,\n 26952,\n 26953,\n 26953,\n 26953,\n 26953,\n 26952,\n 26953,\n 26953,\n 26953,\n 26953,\n 26952,\n 26953,\n 26953,\n 26953,\n 26953,\n 26952,\n 26953,\n 26953,\n 26953,\n 26953,\n 26953,\n 26952,\n 26953,\n 26953,\n 26953,\n 26953,\n 26952,\n 26953,\n 26953,\n 26953,\n 26953,\n 26952,\n 26953,\n 26953,\n 26953,\n 26953,\n 26952,\n 26953,\n 26953,\n 26953,\n 26953,\n 26953,\n 26952,\n 26953,\n 26953,\n 26953,\n 26953,\n 26952,\n 26953,\n 26953,\n 26953,\n 26953,\n 26952,\n 26953,\n 26953,\n 26953,\n 26953,\n 26952,\n 26953,\n 26953,\n 26953,\n 26953,\n 26952,\n 26953,\n 26953,\n 26953,\n 26953,\n 26953,\n 26952,\n 26953,\n 26953,\n 26953,\n 26953,\n 26952,\n 26953,\n 26953,\n 26953,\n 26953,\n 26952,\n 26953,\n 26953,\n 26953,\n 26953,\n 26952,\n 26953,\n 26953,\n 26953,\n 26953,\n 26953,\n 26952,\n 26953,\n 26953,\n 26953,\n 26953,\n 26952,\n 26953,\n 26953,\n 26953,\n 26953,\n 26952,\n 26953,\n 26953,\n 26953,\n 26953,\n 26952,\n 26953,\n 26953,\n 26953,\n 26953,\n 26953,\n 26952,\n 26953,\n 26953,\n 26953,\n 26953,\n 26952,\n 26953,\n 26953,\n 26953,\n 26953,\n 26952,\n 26953,\n 26953,\n 26953,\n 26953,\n 26952,\n 26953,\n 26953,\n 26953,\n 26953,\n 26952,\n 26953,\n 26953,\n 26953,\n 26953,\n 26953,\n 26952,\n 26953,\n 26953,\n 26953,\n 26953,\n 26952,\n 26953,\n 26953,\n 26953,\n 26953,\n 26952,\n 26953,\n 26953,\n 26953,\n 26953,\n 26952,\n 26953,\n 26953,\n 26953,\n 26953,\n 26953,\n 26952,\n 26953,\n 26953,\n 26953,\n 26953,\n 26952,\n 26953,\n 26953,\n 26953,\n 26953,\n 26952,\n 26953,\n 26953,\n 26953,\n 26953,\n 26952,\n 26953,\n 26953,\n 26953,\n 26953,\n 26952,\n 26953,\n 26953,\n 26953,\n 26953,\n 26953,\n 26952,\n 26953,\n 26953,\n 26953,\n 26953,\n 26952,\n 26953,\n 26953]"
     },
     "execution_count": 11,
     "metadata": {},
     "output_type": "execute_result"
    }
   ],
   "source": [
    "lengths"
   ],
   "metadata": {
    "collapsed": false
   }
  },
  {
   "cell_type": "code",
   "execution_count": 12,
   "outputs": [
    {
     "data": {
      "text/plain": "13799838"
     },
     "execution_count": 12,
     "metadata": {},
     "output_type": "execute_result"
    }
   ],
   "source": [
    "sum(lengths)"
   ],
   "metadata": {
    "collapsed": false
   }
  },
  {
   "cell_type": "code",
   "execution_count": 13,
   "outputs": [
    {
     "data": {
      "text/plain": "26952.80859375"
     },
     "execution_count": 13,
     "metadata": {},
     "output_type": "execute_result"
    }
   ],
   "source": [
    "13799838/512"
   ],
   "metadata": {
    "collapsed": false
   }
  },
  {
   "cell_type": "code",
   "execution_count": 2,
   "outputs": [],
   "source": [
    "import os\n"
   ],
   "metadata": {
    "collapsed": false
   }
  },
  {
   "cell_type": "code",
   "execution_count": 6,
   "outputs": [
    {
     "name": "stdout",
     "output_type": "stream",
     "text": [
      "4\n",
      "9\n",
      "16\n",
      "17\n",
      "18\n",
      "19\n",
      "23\n",
      "27\n",
      "28\n",
      "29\n",
      "31\n",
      "32\n",
      "33\n",
      "35\n",
      "37\n",
      "38\n",
      "39\n",
      "46\n",
      "47\n",
      "48\n",
      "49\n",
      "50\n",
      "55\n",
      "57\n",
      "58\n",
      "59\n",
      "64\n",
      "65\n",
      "67\n",
      "68\n",
      "69\n",
      "70\n",
      "73\n",
      "76\n",
      "77\n",
      "79\n",
      "83\n",
      "84\n",
      "88\n"
     ]
    }
   ],
   "source": [
    "path = \"/home/aiops/zhuty/ret_pretraining_data/id_added/redpajama_2b/generated_queries\"\n",
    "for i in range(0,89):\n",
    "    if not os.path.exists(os.path.join(path, f\"_chunk_{i}_results.json\")):\n",
    "        print(i)"
   ],
   "metadata": {
    "collapsed": false
   }
  },
  {
   "cell_type": "code",
   "execution_count": null,
   "outputs": [],
   "source": [
    "step = 50\n",
    "commands = []\n",
    "for i in range(0, 1200, step):\n",
    "   if i==0:\n",
    "        continue\n",
    "# missing = ['chunk_234', 'chunk_254', 'chunk_301', 'chunk_304', 'chunk_303', 'chunk_302', 'chunk_300', 'chunk_305', 'chunk_510', 'chunk_290', 'chunk_235', 'chunk_511']\n",
    "# for i in missing:\n",
    "#     i = i.split(\"_\")[1]\n",
    "    commands.append((f\"\"\"sleep 5; sailctl job create bm25search{i}  --debug -f ~/Downloads/cpu_only_values.yaml  --command-line-args \"source /home/aiops/zhuty/start.sh ; cd /home/aiops/zhuty/tinyllama/processing/ ; bash range_search_bm25.sh c4_news {i} {i}  \" ;\"\"\"))\n",
    "print(\" \".join(commands))"
   ],
   "metadata": {
    "collapsed": false,
    "pycharm": {
     "is_executing": true
    }
   }
  },
  {
   "cell_type": "code",
   "execution_count": 1,
   "outputs": [],
   "source": [
    "dataset_name = \"c4_news_adv_8k\""
   ],
   "metadata": {
    "collapsed": false
   }
  },
  {
   "cell_type": "code",
   "execution_count": 5,
   "outputs": [
    {
     "ename": "ValueError",
     "evalue": "Invalid dataset name",
     "output_type": "error",
     "traceback": [
      "\u001B[0;31m---------------------------------------------------------------------------\u001B[0m",
      "\u001B[0;31mValueError\u001B[0m                                Traceback (most recent call last)",
      "Cell \u001B[0;32mIn[5], line 9\u001B[0m\n\u001B[1;32m      7\u001B[0m     max_step \u001B[38;5;241m=\u001B[39m \u001B[38;5;241m25000\u001B[39m\n\u001B[1;32m      8\u001B[0m \u001B[38;5;28;01melse\u001B[39;00m:\n\u001B[0;32m----> 9\u001B[0m     \u001B[38;5;28;01mraise\u001B[39;00m \u001B[38;5;167;01mValueError\u001B[39;00m(\u001B[38;5;124m\"\u001B[39m\u001B[38;5;124mInvalid dataset name\u001B[39m\u001B[38;5;124m\"\u001B[39m)\n",
      "\u001B[0;31mValueError\u001B[0m: Invalid dataset name"
     ]
    }
   ],
   "source": [
    "if \"2b_tokens\" in dataset_name or \"2b\" in dataset_name:\n",
    "    max_step = 10000\n",
    "elif \"20b_tokens\" in dataset_name or \"20b\" in dataset_name:\n",
    "    max_step = 40000\n",
    "elif \"c4_news\" in dataset_name or \"wiki\" in dataset_name:\n",
    "    # around 9b tokens?\n",
    "    max_step = 25000\n",
    "else:\n",
    "    raise ValueError(\"Invalid dataset name\")"
   ],
   "metadata": {
    "collapsed": false
   }
  },
  {
   "cell_type": "code",
   "execution_count": 3,
   "outputs": [
    {
     "data": {
      "text/plain": "10000"
     },
     "execution_count": 3,
     "metadata": {},
     "output_type": "execute_result"
    }
   ],
   "source": [
    "max_step"
   ],
   "metadata": {
    "collapsed": false
   }
  }
 ],
 "metadata": {
  "kernelspec": {
   "name": "synpre_env",
   "language": "python",
   "display_name": "synpre_env"
  },
  "language_info": {
   "codemirror_mode": {
    "name": "ipython",
    "version": 2
   },
   "file_extension": ".py",
   "mimetype": "text/x-python",
   "name": "python",
   "nbconvert_exporter": "python",
   "pygments_lexer": "ipython2",
   "version": "2.7.6"
  }
 },
 "nbformat": 4,
 "nbformat_minor": 0
}
