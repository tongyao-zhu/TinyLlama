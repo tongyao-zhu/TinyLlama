{
 "cells": [
  {
   "cell_type": "code",
   "execution_count": null,
   "outputs": [],
   "source": [
    "import os\n",
    "os.environ['JAVA_HOME'] = '/home/aiops/zhuty/jdk-11.0.20'\n",
    "os.environ['PATH'] = os.environ['JAVA_HOME'] + '/bin:' + os.environ['PATH']\n"
   ],
   "metadata": {
    "collapsed": false
   }
  },
  {
   "cell_type": "code",
   "execution_count": null,
   "metadata": {
    "collapsed": true
   },
   "outputs": [],
   "source": [
    "from pyserini.search.lucene import LuceneSearcher\n",
    "from pyserini.index.lucene import IndexReader\n",
    "\n",
    "index_path = \"/home/aiops/zhuty/ret_pretraining_data/redpajama_20b_id_added/bm25_index\"\n",
    "index_path = \"/home/aiops/zhuty/ret_pretraining_data/redpajama_2b_id_added/bm25_index\"\n",
    "index_reader = IndexReader(index_path)\n",
    "index_reader.stats()"
   ]
  },
  {
   "cell_type": "code",
   "execution_count": null,
   "outputs": [],
   "source": [
    "doc_vector = index_reader.get_document_vector('0_0')\n",
    "print(doc_vector)"
   ],
   "metadata": {
    "collapsed": false
   }
  },
  {
   "cell_type": "code",
   "execution_count": null,
   "outputs": [],
   "source": [
    "searcher = LuceneSearcher(index_path)\n",
    "doc = searcher.doc('0_0')\n",
    "print(doc.raw())\n",
    "print(doc.contents())"
   ],
   "metadata": {
    "collapsed": false
   }
  },
  {
   "cell_type": "code",
   "execution_count": null,
   "outputs": [],
   "source": [
    "doc.contents()"
   ],
   "metadata": {
    "collapsed": false
   }
  },
  {
   "cell_type": "code",
   "execution_count": null,
   "outputs": [],
   "source": [
    "doc.lucene_document(), doc.raw()\n"
   ],
   "metadata": {
    "collapsed": false
   }
  },
  {
   "cell_type": "code",
   "execution_count": null,
   "outputs": [],
   "source": [
    "hits = searcher.search('What is the best way to prepare for a job interview?', k=100)\n",
    "for i in range(len(hits)):\n",
    "    print(f'{i+1:2} {hits[i].docid:4} {hits[i].score:.5f}')"
   ],
   "metadata": {
    "collapsed": false
   }
  },
  {
   "cell_type": "code",
   "execution_count": null,
   "outputs": [],
   "source": [
    "import os"
   ],
   "metadata": {
    "collapsed": false
   }
  },
  {
   "cell_type": "code",
   "execution_count": null,
   "outputs": [],
   "source": [
    "import json\n",
    "docid = \"3_10026\"\n",
    "chunk_id, seq_id = docid.split(\"_\")\n",
    "base_path = \"/home/aiops/zhuty/ret_pretraining_data/redpajama_2b_id_added/train\"\n",
    "base_path = \"/home/aiops/zhuty/ret_pretraining_data/redpajama_2b_id_added/queries\"\n",
    "jsonl_file = os.path.join(base_path, \"chunk_{}.jsonl\".format(chunk_id))\n",
    "with open(jsonl_file, \"r\") as f:\n",
    "    for line in f:\n",
    "        line = line.strip()\n",
    "        if line:\n",
    "            data = json.loads(line)\n",
    "            if data[\"id\"] == docid:\n",
    "                # print(data)\n",
    "                print(len(data['title'].split()))\n",
    "                break"
   ],
   "metadata": {
    "collapsed": false
   }
  },
  {
   "cell_type": "code",
   "execution_count": null,
   "outputs": [],
   "source": [
    "data"
   ],
   "metadata": {
    "collapsed": false
   }
  },
  {
   "cell_type": "code",
   "execution_count": null,
   "outputs": [],
   "source": [
    "for chunk_num in range(0, 90):\n",
    "    print(f'sailctl job create bm25search{chunk_num}  --command-line-args \"source /home/aiops/zhuty/start.sh ; cd /home/aiops/zhuty/tinyllama/processing; bash search_bm25.sh {chunk_num} \" --debug')"
   ],
   "metadata": {
    "collapsed": false
   }
  },
  {
   "cell_type": "code",
   "execution_count": null,
   "outputs": [],
   "source": [
    "sailctl job create bm25search0  --args \"source /home/aiops/zhuty/start.sh ; cd /home/aiops/zhuty/tinyllama/processing; bash search_bm25.sh 0 \" --debug"
   ],
   "metadata": {
    "collapsed": false
   }
  }
 ],
 "metadata": {
  "kernelspec": {
   "name": "synpre_env",
   "language": "python",
   "display_name": "synpre_env"
  },
  "language_info": {
   "codemirror_mode": {
    "name": "ipython",
    "version": 2
   },
   "file_extension": ".py",
   "mimetype": "text/x-python",
   "name": "python",
   "nbconvert_exporter": "python",
   "pygments_lexer": "ipython2",
   "version": "2.7.6"
  }
 },
 "nbformat": 4,
 "nbformat_minor": 0
}
