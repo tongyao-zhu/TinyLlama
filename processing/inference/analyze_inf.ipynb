{
 "cells": [
  {
   "cell_type": "code",
   "execution_count": 11,
   "outputs": [],
   "source": [
    "import json\n",
    "import os"
   ],
   "metadata": {
    "collapsed": false
   }
  },
  {
   "cell_type": "code",
   "execution_count": 4,
   "metadata": {
    "collapsed": true
   },
   "outputs": [
    {
     "data": {
      "text/plain": "Downloading tokenizer_config.json:   0%|          | 0.00/776 [00:00<?, ?B/s]",
      "application/vnd.jupyter.widget-view+json": {
       "version_major": 2,
       "version_minor": 0,
       "model_id": "840e6c145c0b41dbbd374bdf035f2d73"
      }
     },
     "metadata": {},
     "output_type": "display_data"
    },
    {
     "data": {
      "text/plain": "Downloading tokenizer.model:   0%|          | 0.00/500k [00:00<?, ?B/s]",
      "application/vnd.jupyter.widget-view+json": {
       "version_major": 2,
       "version_minor": 0,
       "model_id": "a1cf297d8f494923852fbb757170faba"
      }
     },
     "metadata": {},
     "output_type": "display_data"
    },
    {
     "data": {
      "text/plain": "Downloading tokenizer.json:   0%|          | 0.00/1.84M [00:00<?, ?B/s]",
      "application/vnd.jupyter.widget-view+json": {
       "version_major": 2,
       "version_minor": 0,
       "model_id": "62f585f6271648a796a6cb969e6c8f78"
      }
     },
     "metadata": {},
     "output_type": "display_data"
    },
    {
     "data": {
      "text/plain": "Downloading (…)cial_tokens_map.json:   0%|          | 0.00/414 [00:00<?, ?B/s]",
      "application/vnd.jupyter.widget-view+json": {
       "version_major": 2,
       "version_minor": 0,
       "model_id": "0a604fb9f9e34e96b477f019b30165e4"
      }
     },
     "metadata": {},
     "output_type": "display_data"
    }
   ],
   "source": [
    "from transformers import AutoTokenizer\n",
    "tokenizer = AutoTokenizer.from_pretrained(\"meta-llama/Llama-2-7b-hf\", use_fast=True, truncation=False, max_length=196, token=json.load(open(\"/home/aiops/zhuty/hf_token.json\")))\n"
   ]
  },
  {
   "cell_type": "code",
   "execution_count": 14,
   "outputs": [],
   "source": [
    "def read_jsonl(file_path):\n",
    "    with open(file_path, \"r\") as f:\n",
    "        lines = f.readlines()\n",
    "    return [json.loads(l) for l in lines]"
   ],
   "metadata": {
    "collapsed": false
   }
  },
  {
   "cell_type": "code",
   "execution_count": 26,
   "outputs": [
    {
     "ename": "FileNotFoundError",
     "evalue": "[Errno 2] No such file or directory: '/home/aiops/zhuty/ret_pretraining_data/id_added/cc/generated_queries/last/tiny_LLaMA_120M_8k_cc_8k_chunk_1_input.jsonl'",
     "output_type": "error",
     "traceback": [
      "\u001B[0;31m---------------------------------------------------------------------------\u001B[0m",
      "\u001B[0;31mFileNotFoundError\u001B[0m                         Traceback (most recent call last)",
      "Cell \u001B[0;32mIn[26], line 3\u001B[0m\n\u001B[1;32m      1\u001B[0m chunk_num \u001B[38;5;241m=\u001B[39m \u001B[38;5;241m1\u001B[39m\n\u001B[1;32m      2\u001B[0m input_path \u001B[38;5;241m=\u001B[39m os\u001B[38;5;241m.\u001B[39mpath\u001B[38;5;241m.\u001B[39mjoin(\u001B[38;5;124m\"\u001B[39m\u001B[38;5;124m/home/aiops/zhuty/ret_pretraining_data/id_added/cc/generated_queries/last\u001B[39m\u001B[38;5;124m\"\u001B[39m, \u001B[38;5;124mf\u001B[39m\u001B[38;5;124m\"\u001B[39m\u001B[38;5;124mtiny_LLaMA_120M_8k_cc_8k_chunk_\u001B[39m\u001B[38;5;132;01m{\u001B[39;00mchunk_num\u001B[38;5;132;01m}\u001B[39;00m\u001B[38;5;124m_input.jsonl\u001B[39m\u001B[38;5;124m\"\u001B[39m)\n\u001B[0;32m----> 3\u001B[0m inputs \u001B[38;5;241m=\u001B[39m \u001B[43mread_jsonl\u001B[49m\u001B[43m(\u001B[49m\u001B[43minput_path\u001B[49m\u001B[43m)\u001B[49m\n\u001B[1;32m      4\u001B[0m generated_path \u001B[38;5;241m=\u001B[39m os\u001B[38;5;241m.\u001B[39mpath\u001B[38;5;241m.\u001B[39mjoin(\u001B[38;5;124m\"\u001B[39m\u001B[38;5;124m/home/aiops/zhuty/ret_pretraining_data/id_added/cc/generated_queries/last\u001B[39m\u001B[38;5;124m\"\u001B[39m, \u001B[38;5;124mf\u001B[39m\u001B[38;5;124m\"\u001B[39m\u001B[38;5;124mtiny_LLaMA_120M_8k_cc_8k_chunk_\u001B[39m\u001B[38;5;132;01m{\u001B[39;00mchunk_num\u001B[38;5;132;01m}\u001B[39;00m\u001B[38;5;124m_result.jsonl\u001B[39m\u001B[38;5;124m\"\u001B[39m)\n\u001B[1;32m      5\u001B[0m generated \u001B[38;5;241m=\u001B[39m read_jsonl(generated_path)\n",
      "Cell \u001B[0;32mIn[14], line 2\u001B[0m, in \u001B[0;36mread_jsonl\u001B[0;34m(file_path)\u001B[0m\n\u001B[1;32m      1\u001B[0m \u001B[38;5;28;01mdef\u001B[39;00m \u001B[38;5;21mread_jsonl\u001B[39m(file_path):\n\u001B[0;32m----> 2\u001B[0m     \u001B[38;5;28;01mwith\u001B[39;00m \u001B[38;5;28;43mopen\u001B[39;49m\u001B[43m(\u001B[49m\u001B[43mfile_path\u001B[49m\u001B[43m,\u001B[49m\u001B[43m \u001B[49m\u001B[38;5;124;43m\"\u001B[39;49m\u001B[38;5;124;43mr\u001B[39;49m\u001B[38;5;124;43m\"\u001B[39;49m\u001B[43m)\u001B[49m \u001B[38;5;28;01mas\u001B[39;00m f:\n\u001B[1;32m      3\u001B[0m         lines \u001B[38;5;241m=\u001B[39m f\u001B[38;5;241m.\u001B[39mreadlines()\n\u001B[1;32m      4\u001B[0m     \u001B[38;5;28;01mreturn\u001B[39;00m [json\u001B[38;5;241m.\u001B[39mloads(l) \u001B[38;5;28;01mfor\u001B[39;00m l \u001B[38;5;129;01min\u001B[39;00m lines]\n",
      "File \u001B[0;32m~/.conda/envs/synpre_env/lib/python3.8/site-packages/IPython/core/interactiveshell.py:284\u001B[0m, in \u001B[0;36m_modified_open\u001B[0;34m(file, *args, **kwargs)\u001B[0m\n\u001B[1;32m    277\u001B[0m \u001B[38;5;28;01mif\u001B[39;00m file \u001B[38;5;129;01min\u001B[39;00m {\u001B[38;5;241m0\u001B[39m, \u001B[38;5;241m1\u001B[39m, \u001B[38;5;241m2\u001B[39m}:\n\u001B[1;32m    278\u001B[0m     \u001B[38;5;28;01mraise\u001B[39;00m \u001B[38;5;167;01mValueError\u001B[39;00m(\n\u001B[1;32m    279\u001B[0m         \u001B[38;5;124mf\u001B[39m\u001B[38;5;124m\"\u001B[39m\u001B[38;5;124mIPython won\u001B[39m\u001B[38;5;124m'\u001B[39m\u001B[38;5;124mt let you open fd=\u001B[39m\u001B[38;5;132;01m{\u001B[39;00mfile\u001B[38;5;132;01m}\u001B[39;00m\u001B[38;5;124m by default \u001B[39m\u001B[38;5;124m\"\u001B[39m\n\u001B[1;32m    280\u001B[0m         \u001B[38;5;124m\"\u001B[39m\u001B[38;5;124mas it is likely to crash IPython. If you know what you are doing, \u001B[39m\u001B[38;5;124m\"\u001B[39m\n\u001B[1;32m    281\u001B[0m         \u001B[38;5;124m\"\u001B[39m\u001B[38;5;124myou can use builtins\u001B[39m\u001B[38;5;124m'\u001B[39m\u001B[38;5;124m open.\u001B[39m\u001B[38;5;124m\"\u001B[39m\n\u001B[1;32m    282\u001B[0m     )\n\u001B[0;32m--> 284\u001B[0m \u001B[38;5;28;01mreturn\u001B[39;00m \u001B[43mio_open\u001B[49m\u001B[43m(\u001B[49m\u001B[43mfile\u001B[49m\u001B[43m,\u001B[49m\u001B[43m \u001B[49m\u001B[38;5;241;43m*\u001B[39;49m\u001B[43margs\u001B[49m\u001B[43m,\u001B[49m\u001B[43m \u001B[49m\u001B[38;5;241;43m*\u001B[39;49m\u001B[38;5;241;43m*\u001B[39;49m\u001B[43mkwargs\u001B[49m\u001B[43m)\u001B[49m\n",
      "\u001B[0;31mFileNotFoundError\u001B[0m: [Errno 2] No such file or directory: '/home/aiops/zhuty/ret_pretraining_data/id_added/cc/generated_queries/last/tiny_LLaMA_120M_8k_cc_8k_chunk_1_input.jsonl'"
     ]
    }
   ],
   "source": [
    "chunk_num = 1\n",
    "input_path = os.path.join(\"/home/aiops/zhuty/ret_pretraining_data/id_added/cc/generated_queries/last\", f\"tiny_LLaMA_120M_8k_cc_8k_chunk_{chunk_num}_input.jsonl\")\n",
    "inputs = read_jsonl(input_path)\n",
    "generated_path = os.path.join(\"/home/aiops/zhuty/ret_pretraining_data/id_added/cc/generated_queries/last\", f\"tiny_LLaMA_120M_8k_cc_8k_chunk_{chunk_num}_result.jsonl\")\n",
    "generated = read_jsonl(generated_path)\n"
   ],
   "metadata": {
    "collapsed": false
   }
  },
  {
   "cell_type": "code",
   "execution_count": 19,
   "outputs": [
    {
     "data": {
      "text/plain": "[{'generated_text': ' Star Wars: Episode IX Star Wars: The Last Jedi Star Wars: The Last Jedi Season 2 Star Wars: Episode IX Star Wars: The Last Jedi HBO Max Star Wars: Episode IX Star Wars: The Last Jedi HBO Max Star Wars: Episode IX Star Wars: The Last Jedi Online Star Wars: Episode IX Star Wars: The Last'},\n {'generated_text': '\\nBuy Now: Star Wars: Episode IX – Rise of the Tomb Raider\\nby Miley Cyrus on Jun 15, 2017\\nStar Wars: Episode IX – Rise of the Tomb Raider, a 10-part miniseries featuring the first two films, is set for release on May 1, 2'},\n {'generated_text': '\\n\"The Last Jedi\" S2E8\\nThe Last Jedi is a saga of a galaxy far, far away. The film, directed by Steven Spielberg, is a mashup of 2002\\'s \"The Last Jedi,\" starring Taron Egerton, Eva Mendes, and John Boyega, as the Jedi. After blow'}]"
     },
     "execution_count": 19,
     "metadata": {},
     "output_type": "execute_result"
    }
   ],
   "source": [
    "generated[0]"
   ],
   "metadata": {
    "collapsed": false
   }
  },
  {
   "cell_type": "code",
   "execution_count": 29,
   "outputs": [
    {
     "name": "stdout",
     "output_type": "stream",
     "text": [
      "Input token length 2701 283\n",
      "Input token length 2702 318\n",
      "Input token length 2703 443\n",
      "Input token length 2704 316\n",
      "Input token length 2705 259\n",
      "Input token length 2706 290\n",
      "Input token length 2707 288\n",
      "Input token length 2708 285\n",
      "Input token length 2709 281\n",
      "Input token length 2710 331\n",
      "Input token length 2711 335\n",
      "Input token length 2712 327\n",
      "Input token length 2713 280\n",
      "Input token length 2714 391\n",
      "Input token length 2715 313\n",
      "Input token length 2716 356\n",
      "Input token length 2717 316\n",
      "Input token length 2718 381\n",
      "Input token length 2719 413\n",
      "Input token length 2720 277\n",
      "Input token length 2721 304\n",
      "Input token length 2722 594\n",
      "Input token length 2723 256\n",
      "Input token length 2724 359\n",
      "Input token length 2725 334\n",
      "Input token length 2726 425\n",
      "Input token length 2727 375\n",
      "Input token length 2728 297\n",
      "Input token length 2729 289\n",
      "Input token length 2730 307\n",
      "Input token length 2731 241\n",
      "Input token length 2732 652\n",
      "Input token length 2733 282\n",
      "Input token length 2734 306\n",
      "Input token length 2735 338\n",
      "Input token length 2736 274\n",
      "Input token length 2737 307\n",
      "Input token length 2738 320\n",
      "Input token length 2739 390\n",
      "Input token length 2740 339\n",
      "Input token length 2741 309\n",
      "Input token length 2742 331\n",
      "Input token length 2743 278\n",
      "Input token length 2744 351\n",
      "Input token length 2745 232\n",
      "Input token length 2746 270\n",
      "Input token length 2747 274\n",
      "Input token length 2748 790\n",
      "Input token length 2749 350\n",
      "Input token length 2750 303\n",
      "Input token length 2751 350\n",
      "Input token length 2752 313\n",
      "Input token length 2753 287\n",
      "Input token length 2754 289\n",
      "Input token length 2755 312\n",
      "Input token length 2756 292\n",
      "Input token length 2757 350\n",
      "Input token length 2758 248\n",
      "Input token length 2759 326\n",
      "Input token length 2760 347\n",
      "Input token length 2761 347\n",
      "Input token length 2762 302\n",
      "Input token length 2763 291\n",
      "Input token length 2764 294\n",
      "Input token length 2765 301\n",
      "Input token length 2766 325\n",
      "Input token length 2767 418\n",
      "Input token length 2768 284\n",
      "Input token length 2769 306\n",
      "Input token length 2770 335\n",
      "Input token length 2771 356\n",
      "Input token length 2772 389\n",
      "Input token length 2773 342\n",
      "Input token length 2774 518\n",
      "Input token length 2775 282\n",
      "Input token length 2776 354\n",
      "Input token length 2777 293\n",
      "Input token length 2778 389\n",
      "Input token length 2779 329\n",
      "Input token length 2780 325\n",
      "Input token length 2781 269\n",
      "Input token length 2782 304\n",
      "Input token length 2783 268\n",
      "Input token length 2784 680\n",
      "Input token length 2785 294\n",
      "Input token length 2786 278\n",
      "Input token length 2787 375\n",
      "Input token length 2788 313\n",
      "Input token length 2789 301\n",
      "Input token length 2790 354\n",
      "Input token length 2791 566\n",
      "Input token length 2792 327\n",
      "Input token length 2793 313\n",
      "Input token length 2794 316\n",
      "Input token length 2795 446\n",
      "Input token length 2796 350\n",
      "Input token length 2797 308\n",
      "Input token length 2798 351\n",
      "Input token length 2799 268\n"
     ]
    }
   ],
   "source": [
    "for i, gen_texts in enumerate(generated):\n",
    "    if i<=2700 or i>=2800:\n",
    "        continue\n",
    "    print(f\"Input token length {i}\", len(tokenizer.encode(inputs[i][\"text\"])))\n",
    "    # print([len(tokenizer.encode(item[\"generated_text\"])) for item in gen_texts])\n",
    "  #   for gen_text in gen_texts:\n",
    "#         print(gen_text)\n",
    "        # print(len(tokenizer.encode(gen_text)))"
   ],
   "metadata": {
    "collapsed": false
   }
  },
  {
   "cell_type": "code",
   "execution_count": 22,
   "outputs": [
    {
     "data": {
      "text/plain": "[{'generated_text': ' Star Wars: Episode IX Star Wars: The Last Jedi Star Wars: The Last Jedi Season 2 Star Wars: Episode IX Star Wars: The Last Jedi HBO Max Star Wars: Episode IX Star Wars: The Last Jedi HBO Max Star Wars: Episode IX Star Wars: The Last Jedi Online Star Wars: Episode IX Star Wars: The Last'},\n {'generated_text': '\\nBuy Now: Star Wars: Episode IX – Rise of the Tomb Raider\\nby Miley Cyrus on Jun 15, 2017\\nStar Wars: Episode IX – Rise of the Tomb Raider, a 10-part miniseries featuring the first two films, is set for release on May 1, 2'},\n {'generated_text': '\\n\"The Last Jedi\" S2E8\\nThe Last Jedi is a saga of a galaxy far, far away. The film, directed by Steven Spielberg, is a mashup of 2002\\'s \"The Last Jedi,\" starring Taron Egerton, Eva Mendes, and John Boyega, as the Jedi. After blow'}]"
     },
     "execution_count": 22,
     "metadata": {},
     "output_type": "execute_result"
    }
   ],
   "source": [
    "[item for item in gen_texts]"
   ],
   "metadata": {
    "collapsed": false
   }
  }
 ],
 "metadata": {
  "kernelspec": {
   "name": "synpre_env",
   "language": "python",
   "display_name": "synpre_env"
  },
  "language_info": {
   "codemirror_mode": {
    "name": "ipython",
    "version": 2
   },
   "file_extension": ".py",
   "mimetype": "text/x-python",
   "name": "python",
   "nbconvert_exporter": "python",
   "pygments_lexer": "ipython2",
   "version": "2.7.6"
  }
 },
 "nbformat": 4,
 "nbformat_minor": 0
}
