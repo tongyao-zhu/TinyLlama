{
 "cells": [
  {
   "cell_type": "code",
   "execution_count": 53,
   "outputs": [],
   "source": [
    "# set working directory\n",
    "import os\n",
    "os.chdir(\"/home/aiops/zhuty/tinyllama\")"
   ],
   "metadata": {
    "collapsed": false
   }
  },
  {
   "cell_type": "code",
   "execution_count": 3,
   "outputs": [
    {
     "ename": "ModuleNotFoundError",
     "evalue": "No module named 'lightning_utilities'",
     "output_type": "error",
     "traceback": [
      "\u001B[0;31m---------------------------------------------------------------------------\u001B[0m",
      "\u001B[0;31mModuleNotFoundError\u001B[0m                       Traceback (most recent call last)",
      "Cell \u001B[0;32mIn[3], line 4\u001B[0m\n\u001B[1;32m      2\u001B[0m \u001B[38;5;28;01mimport\u001B[39;00m \u001B[38;5;21;01mtransformers\u001B[39;00m\n\u001B[1;32m      3\u001B[0m \u001B[38;5;28;01mfrom\u001B[39;00m \u001B[38;5;21;01mtransformers\u001B[39;00m \u001B[38;5;28;01mimport\u001B[39;00m AutoModel, AutoTokenizer\n\u001B[0;32m----> 4\u001B[0m \u001B[38;5;28;01mfrom\u001B[39;00m \u001B[38;5;21;01mlit_gpt\u001B[39;00m \u001B[38;5;28;01mimport\u001B[39;00m Tokenizer\n\u001B[1;32m      6\u001B[0m model \u001B[38;5;241m=\u001B[39m AutoModel\u001B[38;5;241m.\u001B[39mfrom_pretrained(\u001B[38;5;124m\"\u001B[39m\u001B[38;5;124m/home/aiops/zhuty/tinyllama/out/tinyllama_120M\u001B[39m\u001B[38;5;124m\"\u001B[39m)\n\u001B[1;32m      7\u001B[0m tokenizer \u001B[38;5;241m=\u001B[39m Tokenizer(checkpoint_dir\u001B[38;5;241m=\u001B[39mPath(\u001B[38;5;124m\"\u001B[39m\u001B[38;5;124m/home/aiops/zhuty/tinyllama/models\u001B[39m\u001B[38;5;124m\"\u001B[39m))\n",
      "File \u001B[0;32m~/tinyllama/lit_gpt/__init__.py:1\u001B[0m\n\u001B[0;32m----> 1\u001B[0m \u001B[38;5;28;01mfrom\u001B[39;00m \u001B[38;5;21;01mlit_gpt\u001B[39;00m\u001B[38;5;21;01m.\u001B[39;00m\u001B[38;5;21;01mmodel\u001B[39;00m \u001B[38;5;28;01mimport\u001B[39;00m GPT\n\u001B[1;32m      2\u001B[0m \u001B[38;5;28;01mfrom\u001B[39;00m \u001B[38;5;21;01mlit_gpt\u001B[39;00m\u001B[38;5;21;01m.\u001B[39;00m\u001B[38;5;21;01mconfig\u001B[39;00m \u001B[38;5;28;01mimport\u001B[39;00m Config\n\u001B[1;32m      3\u001B[0m \u001B[38;5;28;01mfrom\u001B[39;00m \u001B[38;5;21;01mlit_gpt\u001B[39;00m\u001B[38;5;21;01m.\u001B[39;00m\u001B[38;5;21;01mtokenizer\u001B[39;00m \u001B[38;5;28;01mimport\u001B[39;00m Tokenizer\n",
      "File \u001B[0;32m~/tinyllama/lit_gpt/model.py:11\u001B[0m\n\u001B[1;32m      9\u001B[0m \u001B[38;5;28;01mimport\u001B[39;00m \u001B[38;5;21;01mtorch\u001B[39;00m\n\u001B[1;32m     10\u001B[0m \u001B[38;5;28;01mimport\u001B[39;00m \u001B[38;5;21;01mtorch\u001B[39;00m\u001B[38;5;21;01m.\u001B[39;00m\u001B[38;5;21;01mnn\u001B[39;00m \u001B[38;5;28;01mas\u001B[39;00m \u001B[38;5;21;01mnn\u001B[39;00m\n\u001B[0;32m---> 11\u001B[0m \u001B[38;5;28;01mfrom\u001B[39;00m \u001B[38;5;21;01mlightning_utilities\u001B[39;00m\u001B[38;5;21;01m.\u001B[39;00m\u001B[38;5;21;01mcore\u001B[39;00m\u001B[38;5;21;01m.\u001B[39;00m\u001B[38;5;21;01mimports\u001B[39;00m \u001B[38;5;28;01mimport\u001B[39;00m RequirementCache\n\u001B[1;32m     12\u001B[0m \u001B[38;5;28;01mfrom\u001B[39;00m \u001B[38;5;21;01mtyping_extensions\u001B[39;00m \u001B[38;5;28;01mimport\u001B[39;00m Self\n\u001B[1;32m     13\u001B[0m \u001B[38;5;28;01mfrom\u001B[39;00m \u001B[38;5;21;01mflash_attn\u001B[39;00m \u001B[38;5;28;01mimport\u001B[39;00m flash_attn_func\n",
      "\u001B[0;31mModuleNotFoundError\u001B[0m: No module named 'lightning_utilities'"
     ]
    }
   ],
   "source": [
    "from pathlib import Path\n",
    "import transformers\n",
    "from transformers import AutoModel, AutoTokenizer, LlamaForCausalLM\n",
    "from lit_gpt import Tokenizer\n",
    "\n",
    "model = LlamaForCausalLM.from_pretrained(\"/home/aiops/zhuty/tinyllama/out/tinyllama_120M\")\n",
    "tokenizer = AutoTokenizer.from_pretrained(\"meta-llama/Llama-2-7b-hf\")\n",
    "## Generate text using this mdoel\n",
    "from transformers import pipeline\n",
    "generator = pipeline('text-generation', model=model, tokenizer=tokenizer)\n",
    "text = \"(Shandaken, NY) -- A New York City music teacher who had been missing for over a week is dead after he was found in the woods in Ulster County.\\nForty-six-year-old Keith Johnson was last seen May 4th at his Queens school. His vehicle was found at the Woodland Valley Trailhead. Johnson, an avid hiker, was found suffering from hypothermia in the woods of Shandaken on Saturday. Officials say he died before medics were able to get to him. Foul play is not suspected.\"\n",
    "generator(text, max_length=64, num_return_sequences=1, min_new_tokens=12)"
   ],
   "metadata": {
    "collapsed": false
   }
  },
  {
   "cell_type": "markdown",
   "source": [
    "## Analyze the generated results"
   ],
   "metadata": {
    "collapsed": false
   }
  },
  {
   "cell_type": "code",
   "execution_count": 41,
   "outputs": [],
   "source": [
    "import json\n",
    "\n",
    "# result_path = \"/home/aiops/zhuty/ret_pretraining_data/redpajama_2b_id_added/generated_queries/tinyllama_120M_20b.json\"\n",
    "# inputs_path = \"/home/aiops/zhuty/ret_pretraining_data/redpajama_2b_id_added/generated_queries/tinyllama_120M_20b_inputs.json\"\n",
    "result_path = \"/home/aiops/zhuty/ret_pretraining_data/redpajama_2b_id_added/generated_queries/tinyllama_120M.json\"\n",
    "inputs_path = \"/home/aiops/zhuty/ret_pretraining_data/redpajama_2b_id_added/generated_queries/tinyllama_120M_inputs.json\""
   ],
   "metadata": {
    "collapsed": false
   }
  },
  {
   "cell_type": "code",
   "execution_count": 42,
   "outputs": [],
   "source": [
    "with open(result_path, 'r') as f:\n",
    "    results = json.load(f)\n",
    "with open(inputs_path, 'r') as f:\n",
    "    inputs = json.load(f)"
   ],
   "metadata": {
    "collapsed": false
   }
  },
  {
   "cell_type": "code",
   "execution_count": 47,
   "outputs": [
    {
     "name": "stdout",
     "output_type": "stream",
     "text": [
      "=====================================\n",
      "Input:  aid. \"What resonated with a lot of people was the Google ethos of 'do no evil' and doing tech for good.\" For talent pros seeking solutions, hearing how workers' causes connect to the organizational mission might help start conversations. Urging other leaders to address the root of the unrest may be a step toward fixing tech's brand of turnover, burnout and disengagement. \"I always wanted to sell a product that people wanted to buy as a recruiter,\" Degg said. \"Life is too short to hate your job.\" \n",
      "\n",
      "Generated:  \n",
      "Designing for a Lead\n",
      "\"If you had a beast, that beast would be very self-adjusted, and there's nothing else you can do to help the process and produce it, you could have a built-in time to educate and encourage your employees to take time forward and understand the impact you have on them,\" Degg added.\n",
      "Duty Supervisor\n",
      "\"I'm so grateful to have been\n",
      "=====================================\n",
      "Input:  tant to try and reduce one’s stress levels, by following practices such as the ones suggested by CCOHS: take several deep breaths throughout the day; have regular stretch breaks; and organize and prioritize your day. After all, whether a business owner or laborer, as one tries to cope with all the potential industry stressors on and off the job site, as noted throughout the various policies and procedures, employers and employees must work together to ensure a healthy and safe workplace for all. \n",
      "\n",
      "Generated:  11The increased risks of disease and aging of the job, along with factors that could drive risk at the individual level, may drastically reduce the incidence of these problems.13\n",
      "Recovery of Stage 3 Evaluation Predicts Exposure, Profit, Benefit, At-Risk, and Eliminate Risks of Delivery\n",
      "To assess the utility of decreased availability of attention to prevention and control\n",
      "=====================================\n",
      "Input:  ans into 15 year plans. However, a blend of long term infrastructure projects, and short term ones, where the former gets more share of central funds and the latter, that of state funds could be a model that could move parallel to the 15-year agenda. It is only when political priorities create hurdles before agencies such as Niti Aayog, one would see asymmetry in planning. Or else, the duration of strategies and plans will not be in the way of development. It shouldn't be. Labels: Civil Services \n",
      "\n",
      "Generated:   North America, New England 2019/20Protest 12/19/21/101780.\n",
      "3. Progress underway in Central America, Third World nations.\n",
      "The overall aim is to persevere in the coming years and create opportunities for solving problems.\n",
      "It is one thing to have to wade through structural and functional crises because the twinning of various challenges is fundament\n",
      "=====================================\n",
      "Input:  , any non-digit symbol or even space can be used as decimal or separator to support localized number formating. And the group separation can be a standard 3 digits thousand separator, or 2 digits, or 4 digits or any biggger numbers separator. Below are some examples of formating and its outcome.\n",
      "Entering only one symbol will always be treated as Decimal, simply add a trailing space at the end to force it become Separator. For instance, inputting 1234567.890 into \"#,### \" will generate 1,234,568. \n",
      "\n",
      "Generated:  1-25330, or another octadecimal number 1.08. This value is not to match the percentage amount of short time needed. For example, inputting 2,021,1-0.4 is to convert 2,020 511 513. An octadecimal 1016691.98. This will generate 0,101\n",
      "=====================================\n",
      "Input:  … In Praise of Stoicism: Derren Brown’s Happy. Book Review. Iona Italia Stoicism has got a bad rap lately. In the popular imagination, it is associated with reluctance—particularly male reluctance—to show vulnerability or talk frankly about emotions. The new APA guidelines on… The Case Against Mental Health Awareness Raising In the wake of World Mental Health Day and Theresa May’s appointment of a suicide prevention minister, this might seem like the least propitious time to make a case against… \n",
      "\n",
      "Generated:  \n",
      "on 20/01/2016 at 5:06 am\n",
      "Yes, Gates was paid half a pint. And he spied the same egotistical orthodoxy he was making in her. He shoved down the wheel and had to pony up some stupid bosses from the board of trustees, who threw him over his head, and drove him off.\n",
      "Oy, I remember asking how he was\n",
      "=====================================\n",
      "Input:   steel flange for KKK K-27 turbocharger exhaust side, 3 inch center hole.\n",
      "KKK K-27 turbocharger to V-band clamp adapter.\n",
      "For stock KKK K-27 turbo to use V-band clamp. Made with 304 stainless steel.\n",
      "For Tial GT-28R GT-30R GT-35R turbocharger, on Tial turbine housing it is with female side.\n",
      "connector. 50 mm on the side where flanges meet, 54.5 mm on the back of the flange.\n",
      "76 mm OD made with 304 stainless steel.\n",
      "42mm OD inlet, 51 mm OD outlet, 2 mm thick.\n",
      "42mm OD inlet, 52.7 OD outlet, 2 mm thick. \n",
      "\n",
      "Generated:  \n",
      "54mm ATM-01 baired rake.\n",
      "54mm G. Flange. 1⁄2.5\" high.\n",
      "S. F. Tomohar S.\n",
      "24.5\" standard.\n",
      "24\" High. High. High. Layered.\n",
      "L: 48.63\" / 140m / 12ft.\n",
      "30 mm LOWOWSKA\n",
      "=====================================\n",
      "Input:  ain small parts, and accordingly, it is not suitable for use by children unless under adult supervision.\n",
      "TRENDY 5 PIECE NAVY SUIT WITH WHITE NECK TIE & POCKET SQUARE : This boy’s 5 piece suit includes matching jacket, trousers and vest; white classic lay-down collar dress shirt as well as a matching neck tie and pocket square.\n",
      "BOYS AND YOUTH SIZES: Boys sizes 6, 7, 8, 10, 12 and 14, Youth sizes 16, 18 and 20. This formal suit does run true to size. Refer to Tuxgear’s size chart in photo section. \n",
      "\n",
      "Generated:  \n",
      "VENUELY RIMANO TEAM WHITE HOUSE | PACKAGES FOR 18 DAY-STONE PAYABLES | COURT RISING & MORE WITH GOOD WITH THE ‘N’ GRANTS BY DOWN'S FORD-MAJOR'S LIFE / TEAM MAMBURG, A.J. » MORE » O'CONNECT COURT\n",
      "=====================================\n",
      "Input:  ment Iran doubles its crude oil sales to China despite economic sanctions Tags:United Arab Emirates Biden administration iran nuclear deal New Biden plan requires health insurers to cover 8 free COVID at-home tests per person per month as of Jan. 15 Controversy over video interruption of Taiwan minister at Biden’s democracy summit. US Defense Secretary on China: The United States is not a ‘country that fears competition’ Biden threatens Putin with consequences over military escalation in Ukraine \n",
      "\n",
      "Generated:  . Further in this conflict we have right now on the West Indies laureate. He will leave his cabinet, the diplomatic world, to cover it with a shot of heart and a stain of nuclear. As a matter of fact, Iran does not allow 85 per cent of the country’s population to question Iranian and other politicians are doing so because of what little they speak on Iran.\n",
      "As Iranian President Mohsen Akhund,\n",
      "=====================================\n",
      "Input:  arativeContent.onPageChanged.removeRules(undefined, function() {\n",
      "      chrome.declarativeContent.onPageChanged.addRules([{\n",
      "        conditions: [new chrome.declarativeContent.PageStateMatcher({\n",
      "          css: [\"meta[content*='design']\"]\n",
      "        })\n",
      "        ],\n",
      "            actions: [new chrome.declarativeContent.ShowPageAction()]\n",
      "      }]);\n",
      "    });\n",
      "\n",
      "I can't seem to find an answer anywhere. Does anyone know how to do this with PageStateMatcher, or should I use an alternative? Thanks for your help :)\n",
      " \n",
      "\n",
      "Generated:  \n",
      "A: You are trying to recompile a bug from the old question,\n",
      "which is:\n",
      "This should work fine for main content. I'm just only putting text on my screen because there isn't a branch in there,\n",
      "anybody can find when the URL is set, but it's supposed to compile the code on windows. \n",
      "I thought so would that be reasonable, even\n",
      "\n",
      "=====================================\n",
      "Input:  Great news for all the variable rate mortgage holders. The Bank of Canada announced this morning that they will not raise the overnight rate which means Prime will remain at 3.45%. You can start your happy dance now.\n",
      "The next scheduled date for announcing the overnight rate target is July 11, 2018. \n",
      "\n",
      "Generated:   The Government will then begin to hit the market’s limit…..\n",
      "As of Wednesday morning, the State Bank of Newfoundland announced the closing of the first building across the Southern Territories, the South Pacific, and the Australia, in addition to expanding.\n",
      "The bank also announced that there will be a total of 216,000 new forums across the region and it will be amended in the near future.\n",
      "Canada\n",
      "=====================================\n",
      "Input:   of these photos in the lobby of the current building. This entry was posted in Arts & Humanities Month, History, Theatre and tagged 2nd Friday Art Night, Andrew Kilgore, Arkansas Arts Center, Arkansas Repertory Theatre, Charles Hatchock, Cliff Fannin Baker, Dallas Miles, Jay Kinney, Jonathan Michaelson, Larry Edwards, Montgomery Kuklenski, Peter White, Rebeccas Wilenski, Ronald J. Aulgur, Scott Edmonds, Sharon Douglas, Ted Eades, Tommy Cherepski, UA Little Rock by Scott. Bookmark the permalink. \n",
      "\n",
      "Generated:  \n",
      "Simone Morris\n",
      "Jeannie Murray\n",
      "Annual Discovery Experience\n",
      "The Art Collaborative\n",
      "One Shot\n",
      "Eric Barton\n",
      "Alexis Woodgate\n",
      "Vanessa Redgrave\n",
      "Kathy Horey\n",
      "Elena Lyons\n",
      "The Pittsburgh Arts Center\n",
      "VanessaRedgrave\n",
      "Vanessa Redgrave\n",
      "=====================================\n",
      "Input:  the entire project, and our staff is going to show up on time and ready. There's many good reasons to choose Backyard Pond Guys for Backyard Ponds in Ulm, MT. We have the greatest customer satisfaction ratings, the highest quality materials, and the most useful and productive cash saving solutions. Our company has the expertise you will want to fulfill all of your goals. If you need Backyard Ponds in Ulm, contact Backyard Pond Guys by dialing 800-372-6460, and we're going to be glad to help you. \n",
      "\n",
      "Generated:  \n",
      "Arlington, VA | 450/2019 - 20:39\n",
      "For Restaurant & Crafts a special thank you\n",
      "Federal Chancellor St. Johnstone Graduate Commitment\n",
      "New Frontier Inn will open in Ruislip, MT\n",
      "The new Frontier Inn on Urbino Road Twin Car\n",
      "Glenhill Twin Car Named Best Buy by the\n",
      "=====================================\n",
      "Input:   many favors to powerful lobbyists in Congress, she will get a nice golden parachute on her way out. She might join a think tank or a cable news network. She will publish a book for millions of dollars, whether anyone reads it or not. That’s what you get when you betray Americans for your own profit. Liz Cheney increased her wealth while in Congress by 600%. She served as a representative from Wyoming for only six years. Cheney was ousted after losing her primary race against another Republican. \n",
      "\n",
      "Generated:   She ran down a wave after WWII. Speaking to Lead. The Letter: How a Demagogic Civil Defense. American.\n",
      "The decision. This decision gives us pause. Now we’re getting a change. I want to make a quick decision on how actions will have to perform before the election. I don’t think there’s anything in this to go by, just some details of a humanitarian or situation that will likely be\n",
      "=====================================\n",
      "Input:  ask Force. Walter Bradley is former chairman of the University of Miami Department of Neurology and an expert in ALS. He has researched environmental causes of ALS (Lou Gehrig’s disease), including exposure to cyanobacteria, for more than 15 years. Howard L. Simon is the retired Executive Director of the American Civil Liberties Union of Florida. He is now President of the Clean Okeechobee Waters Foundation. Most Read • Viewpoints Why Trump is the most pro-gay president in U.S. history | Opinion \n",
      "\n",
      "Generated:   | Watch | Obama’s Brian Oldman’s America WASHINGTON: TERREARD LIBEOR ISTA BIRFLANE BUSINESS: AFTER WHITNEY’S STATE TIME WITH INJURES ON OCTOBER 4:15 PM 8:30 PM 7:30 PM 8:30 PM EST:00 AM EST Friday,\n",
      "=====================================\n",
      "Input:   an overhaul or propeller replacement. Any time your prop is removed, it’s a good idea to have it rebalanced. But keep in mind, not all prop shops have the specialized equipment, tools or training needed to perform quality dynamic balancing. Be sure to do your research before choosing a shop to service your propeller. At Hartzell, we’ve assembled a global network of Recommended Service Facilities (RSF) that have met our high standards for quality and safety. To find your nearest RSF, click here. \n",
      "\n",
      "Generated:  \n",
      "When you’ve all talked with us about the latest trends and technologies to be put in place, our professional team will carefully review our process and consider if your prop buying process is going to be successful in marketing and on the road. They’ll know that our approach will vary, so make sure to come up with the next level to see how you’ll be involved in the marketing process. This month, we’ve been working with our\n",
      "=====================================\n",
      "Input:  e to view aw-bad in early Genesis usage to mean serve, just as it does more than 200 times in the rest of scripture. Finally, I understand Hebrew to be less literal than English and the Hebrew mind thinks and communicates more in images than literal discription. So, for the Hebrew, the picture of man serving the ground is more likely than man tilling the ground. Is all this definitive? I can’t claim it to be. But, I can rest easy in my decision to view aw-bad to mean serve based on the evidence. \n",
      "\n",
      "Generated:  \n",
      "It really doesn’t prove much for the Hebrew and his talents after his resumption as a senior priest. He relies very closely upon self-care to assure those young men were there for his grief. On another level, a friend of a seminary professor asked that these young men be beaten to death. The answer was only to suicide. And yes. The other men were able to forgo their time, and cut the course of\n",
      "=====================================\n",
      "Input:  oper Rick Caruso made cleaning up homeless camps throughout Los Angeles a focus of his campaign. Caruso, best known for his popular outdoor shopping malls, is a one-time Republican who registered as a Democrat less than a year ago. He campaigned as a can-do businessman and political outsider, and promised to clean up corruption at LA City Hall. He also promised to cut bureaucratic red tape and build more shelters to deal with the city's massive homelessness crisis. Copyright 2022 KCRW Anna Scott \n",
      "\n",
      "Generated:   - Updated Nov 28th, 2022\n",
      "=====================================\n",
      "Input:  let _ = t => t,\n",
      "    _t;\n",
      "\n",
      "import styled from 'styled-components';\n",
      "import { cursor, flexbox, shouldForwardProp, userSelect } from '@looker/design-tokens';\n",
      "import { commonLayoutCSS } from '../utils/common';\n",
      "export const Box = styled.div.withConfig({\n",
      "  shouldForwardProp,\n",
      "  displayName: \"Box\",\n",
      "  componentId: \"sc-5738oh-0\"\n",
      "})(_t || (_t = _`\n",
      "  ${0}\n",
      "  ${0}\n",
      "   ${0}\n",
      "   ${0}\n",
      "`), commonLayoutCSS, userSelect, flexbox, cursor);\n",
      "//# sourceMappingURL=Box.js.map \n",
      "\n",
      "Generated:  (styleSettings);\n",
      "/*         */\n",
      "/*\\Componentable\\Browser\\CSS\\ActiveCell;\n",
      "/*        */ \n",
      "        \n",
      "\t/* @var cc_name_class=<xsl:forward=\"http://schema.org/\"+cc_name_class+>github.com/csla/plugins/css/Generic/CustomXML.9\">\n",
      "\t\tpaste: when_html is set as \"<disabled>\" + cd.replace(/ /\n",
      "=====================================\n",
      "Input:  hat getting veterans involved in archaeology could be a useful way to help them along the road to recovery and wellbeing. Waterloo Uncovered is comprised of five partner organisations: The Centre for Battlefield Archaeology at the University of Glasgow, L-P Archaeology, Service Public de Wallonie, Ghent University and University College Roosevelt/University of Utrecht. You can follow the progress of the dig via Waterloo Uncovered Twitter or Facebook accounts. << University news << previous story \n",
      "\n",
      "Generated:   updated on 11/06/14, 12:14:17 -0700\n",
      "=====================================\n",
      "Input:  y Davidson has been taking their prototype electric motorcycle called Project Live Wire on the road this year giving many motorcycle enthusiasts their first chance to ride an electric motorcycle. Getting people to try electric vehicles no matter how many wheels they have is important to their acceptance. Riding a motorcycle has never been easier than when it is equipped with an electric motor, so perhaps now is a great time to give your four wheeled electric car a two wheeled electric companion! \n",
      "\n",
      "Generated:  \n",
      "Are Chandler, Norwood, Conway, Ford, BMW and Zinc, Ford and Ford to Ride Squash and stand together in the kitchen of each other in the midst of a busy community, with a community of around 18 kittens to meet in their tees, spinning and enjoying their dinner at their home. You will enjoy an outdoor BBQ enchanted by how excited we are about the future!\n",
      "\n",
      "=====================================\n",
      "Input:  es on a daily basis. At LFMSS, students take advantage of the many curricular and extra-curricular educational opportunities that our school offers. The more you put into life, the more you get back … so I want to encourage all new and returning students to get involved! Join a team, learn a new activity, make new friends, take risks, and stretch yourself. Like Wayne Gretzky said, “You miss 100% of the shots that you don’t take.” I’m looking forward to a wonderful year with all of you…Go Titans! \n",
      "\n",
      "Generated:   Hopefully you’ll donate the same!\n",
      "Judy Desmond: 100% did you know that you think this was the greatest in the history of the school, as she saw it as the only school in our area, less than 100 years ago. I was so excited that she saw me on the streets, and as we did not get to see her stand and make fun of me, I just felt like the amazing thing\n",
      "=====================================\n",
      "Input:  e solution, the remains of seven people, and a how-to video on cannibalism in the couple's apartment. According to the BBC, \"food fragments and frozen meat pieces of unknown origin\" found in the apartment are being tested for human DNA. Authorities say Baksheev and his wife, Natalia Baksheeva, would knock their victims out with sedatives, though it's unclear how they chose their victims. So far authorities have only charged Baksheev with a single count of murder. (Read more cannibalism stories.) \n",
      "\n",
      "Generated:  \n",
      "The Kroger Inventive Special Edition is an online retailer offering Kroger patents, beginning in July, to 47. The Sotheby's and Larimer's discotheques will be featured in the third week of October for just the first edition (September was based on July's findings and The 10 Most Effective Words Can Be Already). The 135-page, full-\n",
      "=====================================\n",
      "Input:  if you just want some festive baubles to put up without breaking the bank. With stores in shopping centres across the city and country, Kaison has a large selection of home décor, soft furnishings, gifts and all those cute things you always think you need! Get their very well-priced boxes of Christmas ornaments in a variety of shiny colours. This is also a great place for stocking fillers and affordable quirky gifts – a LED lamp in the shape of a unicorn for RM9.90 would make someone very happy. \n",
      "\n",
      "Generated:  \n",
      "Of course, looking forward to the patio prices you could get up close to one of you, as the previous one is often listed in the order of £99 or £20. Alternatively, you could get one that you might decide to buy or maybe have more room in a retail shop at another time. Here are the highlights, including a top notch yet, that will surely give your Christmas surprise, but would be up to you before your Christmas\n",
      "=====================================\n",
      "Input:  Mayaca baumii är en gräsväxtart som beskrevs av Robert Louis August Maximilian Gürke. Mayaca baumii ingår i släktet Mayaca och familjen Mayacaceae. Inga underarter finns listade i Catalogue of Life.\n",
      "\n",
      "Källor \n",
      "\n",
      "Gräsordningen\n",
      "baumii \n",
      "\n",
      "Generated:  \n",
      "marginnor\n",
      "ir\n",
      "Astronomiska instagram\n",
      "blinkit\n",
      "1579\n",
      "21 a och Flensburgs (Ill.)\n",
      "2677b\n",
      "26429\n",
      "etal - 24 x 25 cm\n",
      "250d Afrikaefound\n",
      "268s (117x122 cm)\n",
      "=====================================\n",
      "Input:  , social philosophy, and culture. Jeffrey is available for speaking and interviews via his email. Tw | FB | LinkedIn This entry was posted in Business, Civil Liberties, Collapse, Government, Horseshit, Medicine and tagged Covid-19 insanity. Bookmark the permalink. One response to “When Will the Madness End? by Jeffrey A. Tucker” uwe.roland.gross | July 11, 2020 at 4:14 am | Reply Reblogged this on uwerolandgross. b on As Tech Companies Purge Users,… ursel doran on COVID Vaccine Secret, a Stunne… \n",
      "\n",
      "Generated:   b Tennissimus Thabas – Impact of Morpho War on the Democracy\n",
      "TaggedCoronavirus,Coronavirus (COVID), Barack Obama, Covid, Covid-19, HIV, Immunisation, Liberty Law, Liberalism, NCAH, Prince, teaching, Tucson Pollack, Trans Day, Technology | 2 comments\n",
      "=====================================\n",
      "Input:  The H&I subcommittee will be meeting this Friday, December 14th at 7pm at the Barnett Center located on the corner of Hal Greer Blvd. and 10th Ave. They will be holding elections for the new panel leaders. Come out, get involved and let your voice be heard. \n",
      "\n",
      "Generated:  \n",
      "About the H&I Data and Analysis Center\n",
      "The H&I Data and Analysis Center is a leader in the public and digital information ecosystem. People of tomorrow are able to take action through digital and digital marketing, data technology, and digital commerce. Technological advances has kept pace with digital marketing budgets and on-going growth through major initiatives such as EOD, DVMs, Clipboard, and EPID.\n",
      "H\n",
      "=====================================\n",
      "Input:  elhi to Kashi, for a memorable and hassle-free experience.\n",
      "In addition to this, we have also launched the Yatra app for an enhanced user experience. You can book Delhi to Kashi flights as well as look for other details regarding the reservation by using our mobile app. Download this app from the Google Play Store, Windows Store, BlackBerry World or App Store to use our services, and make your travel economical by availing various app-only offers and deals rolled out by this online travel agency. \n",
      "\n",
      "Generated:   According to the data file type, Kashi is 24/7 with GSAT, which is great for connecting to airports via our app centre or on-boarders such as instant messengers.\n",
      "It only takes the user to the travel authorities to check the status data of the airports and he is in fact travelling anywhere in the world and getting free food. For this you get an immaculate experience, all the specialized apps have created by\n",
      "=====================================\n",
      "Input:  RS) Air Force Office of Scientific Research (AFOSR) United States Department of Defense (DoD) Defense Advanced Research Projects Agency (DARPA) United States Department of Energy (DoE) United States Small Business Administration SBIR/STTR Program Angstrom Engineering CyOptics NanoFlex Power Corp. PD-LD Semiconductor Research Corporation Universal Display Corp. Links | Opportunities Copyright (c) 2014 Optoelectronic Components and Materials Group All rights reserved. Design by Free CSS Templates. \n",
      "\n",
      "Generated:   The cost for the client is $2,500, divided into Shuttle Shipping & Logistics Services, and Shuttle Shipping Services, together with Area Services. All other utilities are subject to automated response to request availability, privacy and attention under the new \"Standard\" header of the Security Acts. Services under these terms are for only electrical solutions such as bears, radar tanks, airliners, radar\n",
      "=====================================\n",
      "Input:  PathArgument[0]; } char[] volumes = Utils.GetAllAvailableVolumes().ToArray(); if (!volumes.Contains(Drive)) { ErrorDetails = \"The volume \" + Drive + \" does not exist.\"; return false; } return true; } public void DisplayHelp() { Console.WriteLine(\"NtfsDetails Help\"); _options.WriteOptionDescriptions(Console.Out); } } public enum ActionType { Unknown, ShowHelp, ShowFull, ShowExtents, Path } public enum PathType { Unknown, File, Directory, MftId } public enum SizeUnit { Clusters, Sectors, Bytes } } \n",
      "\n",
      "Generated:   public enum Set { Intrinsic; CompressedModerator *column; } public enum Set { IntPtr; Target; FloodId_Type; State(), State() => State(); }, ValueAssurances); } public enum Programs { Type.Compressed; Construct; List; VolumesList; Profiles; Authority.Lists; } public enum Workplace { State() => State() => State() => State(); State() => State()\n",
      "=====================================\n",
      "Input:  ices in Philadelphia and New Hope, our law firm proudly serves injury victims throughout Pennsylvania and New Jersey. Bensalem Office One Northbrook Corporate Center 1210 Northbrook Drive 1500 JFK Blvd Request a Free Consultation! Let us represent you. Contact us today for a free initial consultation with one of our seasoned personal injury lawyers. Name Email Phone Number Case Type Case TypePersonal InjuryMunicipal Law Additional Comments Copyright 2022 Flager & Associates. All rights reserved. \n",
      "\n",
      "Generated:   Learn More Additional Terms for Flexible Listing and Certification 181-913. Feeding Your Injury at Advantage, Philadelphia Attorney’s Law Group will assist you with a background evaluation and financial analysis. Our specialty is medical records and insurance coverage, and if you are accused of an accidental injury, you can get recovery assistance for a claim for an Injury For more information. Visit our offices\n"
     ]
    }
   ],
   "source": [
    "for i in range(30):\n",
    "    print(\"=====================================\")\n",
    "    print(\"Input: \", inputs['text'][i], \"\\n\")\n",
    "    print(\"Generated: \", results[i][0]['generated_text'])\n"
   ],
   "metadata": {
    "collapsed": false
   }
  },
  {
   "cell_type": "code",
   "execution_count": 51,
   "outputs": [],
   "source": [
    "jsonlines = []\n",
    "# write to jsonlines\n",
    "for i in range(len(results)):\n",
    "    jsonlines.append({\"id\": inputs['id'][i],  \"title\": results[i][0]['generated_text']}) # title is for search\n",
    "\n",
    "# # write to file\n",
    "# with open(\"/home/aiops/zhuty/ret_pretraining_data/redpajama_2b_id_added/generated_queries/chunk_0_1k.jsonl\", 'w') as f:\n",
    "#     for line in jsonlines:\n",
    "#         f.write(json.dumps(line) + '\\n')"
   ],
   "metadata": {
    "collapsed": false
   }
  },
  {
   "cell_type": "code",
   "execution_count": 56,
   "outputs": [],
   "source": [
    "from processing.graphs.utils import read_trec_results"
   ],
   "metadata": {
    "collapsed": false
   }
  },
  {
   "cell_type": "code",
   "execution_count": 61,
   "outputs": [],
   "source": [
    "new_result = \"/home/aiops/zhuty/ret_pretraining_data/redpajama_2b_id_added/bm25_search_results/chunk_0_gen1k.result.txt\"\n",
    "old_result = \"/home/aiops/zhuty/ret_pretraining_data/redpajama_2b_id_added/bm25_search_results/chunk_0.result.txt\"\n",
    "new_result = read_trec_results(new_result)\n",
    "old_result = read_trec_results(old_result)"
   ],
   "metadata": {
    "collapsed": false
   }
  },
  {
   "cell_type": "code",
   "execution_count": 64,
   "outputs": [],
   "source": [
    "def calculate_jaccard_at_k(list1, list2, k):\n",
    "    set1 = set(item['doc_id'] for item in list1[:k])\n",
    "    set2 = set(item['doc_id'] for item in list2[:k])\n",
    "    intersection = len(set1.intersection(set2))\n",
    "    union = len(set1.union(set2))\n",
    "    return intersection / union if union != 0 else 0\n",
    "\n",
    "def calculate_precision_at_k(list1, list2, k):\n",
    "    set1 = set(item['doc_id'] for item in list1[:k])\n",
    "    set2 = set(item['doc_id'] for item in list2[:k])\n",
    "    intersection = len(set1.intersection(set2))\n",
    "    return intersection / k\n",
    "\n",
    "def compare_search_results_at_k(list1, list2, ks=[5, 10, 20]):\n",
    "    results = {}\n",
    "    for k in ks:\n",
    "        jaccard_similarity = calculate_jaccard_at_k(list1, list2, k)\n",
    "        precision_at_k = calculate_precision_at_k(list1, list2, k)\n",
    "        results[k] = {\n",
    "            \"Jaccard Similarity at k\": jaccard_similarity,\n",
    "            \"Precision at k\": precision_at_k\n",
    "        }\n",
    "    return results\n",
    "\n",
    "# # Example usage\n",
    "# list1 = [...]  # Your first list\n",
    "# list2 = [...]  # Your second list\n",
    "#\n",
    "# comparison_metrics = compare_search_results_at_k(list1, list2, ks=[5, 10, 20])\n",
    "# for k, metrics in comparison_metrics.items():\n",
    "#     print(f\"Metrics at k={k}: {metrics}\")\n"
   ],
   "metadata": {
    "collapsed": false
   }
  },
  {
   "cell_type": "code",
   "execution_count": 70,
   "outputs": [
    {
     "name": "stdout",
     "output_type": "stream",
     "text": [
      "Average Jaccard Similarity at k=1: 0.0180\n",
      "Average Precision at k=1: 0.0180\n",
      "Average Jaccard Similarity at k=3: 0.0208\n",
      "Average Precision at k=3: 0.0334\n",
      "Average Jaccard Similarity at k=5: 0.0245\n",
      "Average Precision at k=5: 0.0412\n",
      "Average Jaccard Similarity at k=10: 0.0324\n",
      "Average Precision at k=10: 0.0560\n",
      "Average Jaccard Similarity at k=20: 0.0402\n",
      "Average Precision at k=20: 0.0700\n",
      "Average Jaccard Similarity at k=100: 0.0676\n",
      "Average Precision at k=100: 0.1168\n"
     ]
    }
   ],
   "source": [
    "def calculate_average_metrics_at_k(all_results, ks=[5, 10, 20]):\n",
    "    # Initialize dictionaries to store total metrics\n",
    "    total_jaccard_at_k = {k: 0 for k in ks}\n",
    "    total_precision_at_k = {k: 0 for k in ks}\n",
    "\n",
    "    # Number of queries\n",
    "    num_queries = len(all_results)\n",
    "\n",
    "    for list1, list2 in all_results:\n",
    "        for k in ks:\n",
    "            jaccard_at_k = calculate_jaccard_at_k(list1, list2, k)\n",
    "            precision_at_k = calculate_precision_at_k(list1, list2, k)\n",
    "\n",
    "            total_jaccard_at_k[k] += jaccard_at_k\n",
    "            total_precision_at_k[k] += precision_at_k\n",
    "\n",
    "    # Calculate averages\n",
    "    avg_jaccard_at_k = {k: total_jaccard_at_k[k] / num_queries for k in ks}\n",
    "    avg_precision_at_k = {k: total_precision_at_k[k] / num_queries for k in ks}\n",
    "\n",
    "    return avg_jaccard_at_k, avg_precision_at_k\n",
    "\n",
    "# Example usage\n",
    "# all_results is a list of tuples, each containing two lists (list1, list2) for each query\n",
    "# all_results = [([...], [...]), ([...], [...]), ...]  # Replace [...] with actual lists for each query\n",
    "all_results = [(new_result[i], old_result[i]) for i in new_result.keys()]\n",
    "\n",
    "k_list = [1, 3, 5, 10, 20, 100]\n",
    "avg_jaccard, avg_precision = calculate_average_metrics_at_k(all_results, ks=k_list)\n",
    "\n",
    "for k in k_list:\n",
    "    print(f\"Average Jaccard Similarity at k={k}: {avg_jaccard[k]:.4f}\")\n",
    "    print(f\"Average Precision at k={k}: {avg_precision[k]:.4f}\")\n"
   ],
   "metadata": {
    "collapsed": false
   }
  },
  {
   "cell_type": "code",
   "execution_count": null,
   "outputs": [],
   "source": [],
   "metadata": {
    "collapsed": false
   }
  },
  {
   "cell_type": "code",
   "execution_count": null,
   "outputs": [],
   "source": [],
   "metadata": {
    "collapsed": false
   }
  },
  {
   "cell_type": "code",
   "execution_count": null,
   "outputs": [],
   "source": [],
   "metadata": {
    "collapsed": false
   }
  },
  {
   "cell_type": "code",
   "execution_count": null,
   "outputs": [],
   "source": [],
   "metadata": {
    "collapsed": false
   }
  },
  {
   "cell_type": "code",
   "execution_count": null,
   "outputs": [],
   "source": [],
   "metadata": {
    "collapsed": false
   }
  },
  {
   "cell_type": "code",
   "execution_count": null,
   "outputs": [],
   "source": [],
   "metadata": {
    "collapsed": false
   }
  },
  {
   "cell_type": "code",
   "execution_count": 6,
   "outputs": [
    {
     "name": "stdout",
     "output_type": "stream",
     "text": [
      "sailctl job create bm25search1and4 -p low -g 1  --command-line-args \"source /home/aiops/zhuty/start.sh ; cd /home/aiops/zhuty/tinyllama; bash processing/range_search_bm25.sh 1 4 \" --debug ; \n",
      "sailctl job create bm25search5and8 -p low -g 1  --command-line-args \"source /home/aiops/zhuty/start.sh ; cd /home/aiops/zhuty/tinyllama; bash processing/range_search_bm25.sh 5 8 \" --debug ; \n",
      "sailctl job create bm25search9and12 -p low -g 1  --command-line-args \"source /home/aiops/zhuty/start.sh ; cd /home/aiops/zhuty/tinyllama; bash processing/range_search_bm25.sh 9 12 \" --debug ; \n",
      "sailctl job create bm25search13and16 -p low -g 1  --command-line-args \"source /home/aiops/zhuty/start.sh ; cd /home/aiops/zhuty/tinyllama; bash processing/range_search_bm25.sh 13 16 \" --debug ; \n",
      "sailctl job create bm25search17and20 -p low -g 1  --command-line-args \"source /home/aiops/zhuty/start.sh ; cd /home/aiops/zhuty/tinyllama; bash processing/range_search_bm25.sh 17 20 \" --debug ; \n",
      "sailctl job create bm25search21and24 -p low -g 1  --command-line-args \"source /home/aiops/zhuty/start.sh ; cd /home/aiops/zhuty/tinyllama; bash processing/range_search_bm25.sh 21 24 \" --debug ; \n",
      "sailctl job create bm25search25and28 -p low -g 1  --command-line-args \"source /home/aiops/zhuty/start.sh ; cd /home/aiops/zhuty/tinyllama; bash processing/range_search_bm25.sh 25 28 \" --debug ; \n",
      "sailctl job create bm25search29and32 -p low -g 1  --command-line-args \"source /home/aiops/zhuty/start.sh ; cd /home/aiops/zhuty/tinyllama; bash processing/range_search_bm25.sh 29 32 \" --debug ; \n",
      "sailctl job create bm25search33and36 -p low -g 1  --command-line-args \"source /home/aiops/zhuty/start.sh ; cd /home/aiops/zhuty/tinyllama; bash processing/range_search_bm25.sh 33 36 \" --debug ; \n",
      "sailctl job create bm25search37and40 -p low -g 1  --command-line-args \"source /home/aiops/zhuty/start.sh ; cd /home/aiops/zhuty/tinyllama; bash processing/range_search_bm25.sh 37 40 \" --debug ; \n",
      "sailctl job create bm25search41and44 -p low -g 1  --command-line-args \"source /home/aiops/zhuty/start.sh ; cd /home/aiops/zhuty/tinyllama; bash processing/range_search_bm25.sh 41 44 \" --debug ; \n",
      "sailctl job create bm25search45and48 -p low -g 1  --command-line-args \"source /home/aiops/zhuty/start.sh ; cd /home/aiops/zhuty/tinyllama; bash processing/range_search_bm25.sh 45 48 \" --debug ; \n",
      "sailctl job create bm25search49and52 -p low -g 1  --command-line-args \"source /home/aiops/zhuty/start.sh ; cd /home/aiops/zhuty/tinyllama; bash processing/range_search_bm25.sh 49 52 \" --debug ; \n",
      "sailctl job create bm25search53and56 -p low -g 1  --command-line-args \"source /home/aiops/zhuty/start.sh ; cd /home/aiops/zhuty/tinyllama; bash processing/range_search_bm25.sh 53 56 \" --debug ; \n",
      "sailctl job create bm25search57and60 -p low -g 1  --command-line-args \"source /home/aiops/zhuty/start.sh ; cd /home/aiops/zhuty/tinyllama; bash processing/range_search_bm25.sh 57 60 \" --debug ; \n",
      "sailctl job create bm25search61and64 -p low -g 1  --command-line-args \"source /home/aiops/zhuty/start.sh ; cd /home/aiops/zhuty/tinyllama; bash processing/range_search_bm25.sh 61 64 \" --debug ; \n",
      "sailctl job create bm25search65and68 -p low -g 1  --command-line-args \"source /home/aiops/zhuty/start.sh ; cd /home/aiops/zhuty/tinyllama; bash processing/range_search_bm25.sh 65 68 \" --debug ; \n",
      "sailctl job create bm25search69and72 -p low -g 1  --command-line-args \"source /home/aiops/zhuty/start.sh ; cd /home/aiops/zhuty/tinyllama; bash processing/range_search_bm25.sh 69 72 \" --debug ; \n",
      "sailctl job create bm25search73and76 -p low -g 1  --command-line-args \"source /home/aiops/zhuty/start.sh ; cd /home/aiops/zhuty/tinyllama; bash processing/range_search_bm25.sh 73 76 \" --debug ; \n",
      "sailctl job create bm25search77and80 -p low -g 1  --command-line-args \"source /home/aiops/zhuty/start.sh ; cd /home/aiops/zhuty/tinyllama; bash processing/range_search_bm25.sh 77 80 \" --debug ; \n",
      "sailctl job create bm25search81and84 -p low -g 1  --command-line-args \"source /home/aiops/zhuty/start.sh ; cd /home/aiops/zhuty/tinyllama; bash processing/range_search_bm25.sh 81 84 \" --debug ; \n",
      "sailctl job create bm25search85and88 -p low -g 1  --command-line-args \"source /home/aiops/zhuty/start.sh ; cd /home/aiops/zhuty/tinyllama; bash processing/range_search_bm25.sh 85 88 \" --debug ; \n"
     ]
    }
   ],
   "source": [
    "# split the chunks\n",
    "num_chunks = 4\n",
    "shard_numbers = list(range(1, 89))\n",
    "chunked_shard_numbers = [shard_numbers[i:i + num_chunks] for i in range(0, len(shard_numbers), num_chunks)]\n",
    "\n",
    "for curr_chunk in chunked_shard_numbers:\n",
    "    lower_bound = curr_chunk[0]\n",
    "    upper_bound = curr_chunk[-1]\n",
    "    print(f'sailctl job create bm25search{lower_bound}and{upper_bound} -p low -g 1  --command-line-args \"source /home/aiops/zhuty/start.sh ; cd /home/aiops/zhuty/tinyllama; bash processing/range_search_bm25.sh {lower_bound} {upper_bound} \" --debug ; ')\n"
   ],
   "metadata": {
    "collapsed": false
   }
  }
 ],
 "metadata": {
  "kernelspec": {
   "name": "synpre_env",
   "language": "python",
   "display_name": "synpre_env"
  },
  "language_info": {
   "codemirror_mode": {
    "name": "ipython",
    "version": 2
   },
   "file_extension": ".py",
   "mimetype": "text/x-python",
   "name": "python",
   "nbconvert_exporter": "python",
   "pygments_lexer": "ipython2",
   "version": "2.7.6"
  }
 },
 "nbformat": 4,
 "nbformat_minor": 0
}
