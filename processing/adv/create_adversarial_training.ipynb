{
 "cells": [
  {
   "cell_type": "markdown",
   "source": [
    "Following Longxu's advice, we will deliberately break the sentences and see if the training differs"
   ],
   "metadata": {
    "collapsed": false
   }
  },
  {
   "cell_type": "code",
   "execution_count": null,
   "outputs": [],
   "source": [
    "import os\n",
    "import glob\n",
    "import json\n",
    "import tqdm"
   ],
   "metadata": {
    "collapsed": false
   }
  },
  {
   "cell_type": "code",
   "execution_count": null,
   "outputs": [],
   "source": [
    "json_path = '/home/aiops/zhuty/ret_pretraining_data/c4_news_id_added/train/'\n",
    "def read_jsonl(paths):\n",
    "    \"\"\"Read a JSON Lines file and return a list of documents.\"\"\"\n",
    "    documents = []\n",
    "    for file_path in tqdm.tqdm(paths):\n",
    "        with open(file_path, 'r') as file:\n",
    "            for line in file:\n",
    "                document = json.loads(line)\n",
    "                document['text'] = document['contents']\n",
    "                del document['contents']\n",
    "                documents.append(document)\n",
    "    return documents\n"
   ],
   "metadata": {
    "collapsed": false
   }
  },
  {
   "cell_type": "code",
   "execution_count": null,
   "outputs": [],
   "source": [
    "documents = read_jsonl(glob.glob(os.path.join(json_path, '*.jsonl'))[:])\n",
    "len(documents)\n",
    "num_of_paragraphs = []\n",
    "all_paragraphs = []\n",
    "for doc in documents:\n",
    "    paragraphs = doc['text'].split(\"\\n\")\n",
    "    num_of_paragraphs.append(len(paragraphs))\n",
    "    all_paragraphs.extend(paragraphs)\n",
    "\n",
    "# get some stats on the number of paragraphs\n",
    "print(\"Total number of paragraphs: \", sum(num_of_paragraphs))\n",
    "print(\"Average number of paragraphs: \", sum(num_of_paragraphs)/len(num_of_paragraphs))\n",
    "print(\"Max number of paragraphs: \", max(num_of_paragraphs))\n",
    "print(\"Min number of paragraphs: \", min(num_of_paragraphs))\n",
    "\n",
    "import matplotlib.pyplot as plt\n",
    "# plot histogram of the number of paragraphs\n",
    "plt.hist(num_of_paragraphs, bins=100)\n",
    "plt.show()\n",
    "\n",
    "\n"
   ],
   "metadata": {
    "collapsed": false
   }
  },
  {
   "cell_type": "code",
   "execution_count": null,
   "outputs": [],
   "source": [
    "import random\n",
    "random.seed(42)\n",
    "random.shuffle(all_paragraphs)"
   ],
   "metadata": {
    "collapsed": false
   }
  },
  {
   "cell_type": "code",
   "execution_count": null,
   "outputs": [],
   "source": [
    "def split_paragraphs(paragraphs, paragraph_counts):\n",
    "    documents = []\n",
    "    start = 0\n",
    "\n",
    "    for count in tqdm.tqdm(paragraph_counts):\n",
    "        end = start + count\n",
    "        documents.append(paragraphs[start:end])\n",
    "        start = end\n",
    "\n",
    "    return documents\n",
    "\n",
    "documents = split_paragraphs(all_paragraphs, num_of_paragraphs)"
   ],
   "metadata": {
    "collapsed": false
   }
  },
  {
   "cell_type": "code",
   "execution_count": null,
   "outputs": [],
   "source": [
    "assert len(all_paragraphs) == sum(num_of_paragraphs)"
   ],
   "metadata": {
    "collapsed": false
   }
  },
  {
   "cell_type": "code",
   "execution_count": null,
   "outputs": [],
   "source": [
    "len(all_paragraphs)"
   ],
   "metadata": {
    "collapsed": false
   }
  },
  {
   "cell_type": "code",
   "execution_count": null,
   "outputs": [],
   "source": [
    "sum(num_of_paragraphs)"
   ],
   "metadata": {
    "collapsed": false
   }
  },
  {
   "cell_type": "code",
   "execution_count": null,
   "outputs": [],
   "source": [
    "new_docs = []\n",
    "for i ,doc in enumerate(documents):\n",
    "    new_docs.append({\n",
    "        'text': '\\n'.join(doc),\n",
    "        'id': \"adv_\" + str(i),\n",
    "    })"
   ],
   "metadata": {
    "collapsed": false
   }
  },
  {
   "cell_type": "code",
   "execution_count": null,
   "outputs": [],
   "source": [
    "def write_jsonl(dir_path, documents, chunk_size=100000):\n",
    "    \"\"\"Write a list of documents to chunks of JSON Lines file.\"\"\"\n",
    "    num_chunks = len(documents) // chunk_size + 1\n",
    "    for i in range(num_chunks):\n",
    "        chunk_path = os.path.join(dir_path, f'chunk_{i}.jsonl')\n",
    "        start = i * chunk_size\n",
    "        end = min((i + 1) * chunk_size, len(documents))\n",
    "        with open(chunk_path, 'w') as file:\n",
    "            for document in documents[start:end]:\n",
    "                file.write(json.dumps(document) + '\\n')\n"
   ],
   "metadata": {
    "collapsed": false
   }
  },
  {
   "cell_type": "code",
   "execution_count": null,
   "outputs": [],
   "source": [
    "dir_path = '/home/aiops/zhuty/ret_pretraining_data/c4_news_adv/train'\n",
    "write_jsonl(dir_path, new_docs)"
   ],
   "metadata": {
    "collapsed": false
   }
  },
  {
   "cell_type": "code",
   "execution_count": null,
   "outputs": [],
   "source": [
    "print(len(new_docs))"
   ],
   "metadata": {
    "collapsed": false
   }
  },
  {
   "cell_type": "markdown",
   "source": [
    "Explore how to process zst file"
   ],
   "metadata": {
    "collapsed": false
   }
  },
  {
   "cell_type": "code",
   "execution_count": 2,
   "outputs": [
    {
     "name": "stdout",
     "output_type": "stream",
     "text": [
      "100\n"
     ]
    },
    {
     "name": "stderr",
     "output_type": "stream",
     "text": [
      "100%|██████████| 100/100 [05:56<00:00,  3.57s/it]\n"
     ]
    },
    {
     "name": "stdout",
     "output_type": "stream",
     "text": [
      "629\n"
     ]
    },
    {
     "name": "stderr",
     "output_type": "stream",
     "text": [
      "100%|██████████| 629/629 [00:15<00:00, 39.37it/s]\n"
     ]
    }
   ],
   "source": [
    "import os\n",
    "import zstandard as zstd\n",
    "import glob\n",
    "import tqdm\n",
    "\n",
    "def decompress_zst_file(zst_file, output_dir):\n",
    "    with open(zst_file, 'rb') as compressed:\n",
    "        decomp = zstd.ZstdDecompressor()\n",
    "        with decomp.stream_reader(compressed) as reader:\n",
    "            jsonl_file = zst_file.replace('.zst', '')\n",
    "            output_path = os.path.join(output_dir, os.path.basename(jsonl_file))\n",
    "            with open(output_path, 'wb') as destination:\n",
    "                while True:\n",
    "                    chunk = reader.read(16384)  # Read in chunks of 16 KB\n",
    "                    if not chunk:\n",
    "                        break\n",
    "                    destination.write(chunk)\n",
    "\n",
    "def decompress_all_files(file_list, output_dir):\n",
    "    for file in tqdm.tqdm(file_list):\n",
    "        decompress_zst_file(file, output_dir)\n",
    "\n",
    "# Example usage\n",
    "for split in ['train', 'validation']:\n",
    "    file_list = glob.glob(os.path.join('/home/aiops/zhuty/ret_pretraining_data/cc_raw', split, \"RedPajamaCommonCrawl\", '*.zst'))\n",
    "    print(len(file_list))\n",
    "    output_dir = os.path.join('/home/aiops/zhuty/ret_pretraining_data/cc', split)\n",
    "    decompress_all_files(file_list, output_dir)\n"
   ],
   "metadata": {
    "collapsed": false
   }
  },
  {
   "cell_type": "code",
   "execution_count": null,
   "outputs": [],
   "source": [
    "import json\n",
    "from lingua import Language, LanguageDetectorBuilder\n",
    "import os\n",
    "import zstandard as zstd\n",
    "import glob\n",
    "import tqdm\n",
    "\n",
    "def read_jsonl(paths):\n",
    "    \"\"\"Read a JSON Lines file and return a list of documents.\"\"\"\n",
    "    documents = []\n",
    "    for file_path in tqdm.tqdm(paths, disable=True):\n",
    "        with open(file_path, 'r') as file:\n",
    "            for line in file:\n",
    "                document = json.loads(line)\n",
    "                documents.append(document)\n",
    "    return documents\n",
    "\n",
    "\n",
    "def write_jsonl(file_name, documents):\n",
    "    \"\"\"Write a list of documents to a JSON Lines file.\"\"\"\n",
    "    with open(file_name, 'w') as file:\n",
    "        for document in documents:\n",
    "            file.write(json.dumps(document) + '\\n')\n",
    "\n",
    "\n",
    "for split in ['train', 'test', 'validation']:\n",
    "    chunk_paths = glob.glob(os.path.join('/home/aiops/zhuty/ret_pretraining_data/rpwiki', split, '*.jsonl'))\n",
    "    for chunk_num, chunk_path in tqdm.tqdm(enumerate(chunk_paths)):\n",
    "        documents = read_jsonl([chunk_path])\n",
    "        detector = LanguageDetectorBuilder.from_all_languages().build()\n",
    "        languages = detector.detect_languages_in_parallel_of([doc['text'] for doc in documents])\n",
    "        print(len(languages))\n",
    "        assert len(documents) == len(languages)\n",
    "        english_documents = [doc for doc, lang in zip(documents, languages) if lang == Language.ENGLISH]\n",
    "        print(len(english_documents), \"percentage: \", len(english_documents)/len(documents))\n",
    "        output_file =  os.path.join('/home/aiops/zhuty/ret_pretraining_data/rpwiki_en', split, f'chunk_{chunk_num}.jsonl')\n",
    "        write_jsonl(output_file, english_documents)"
   ],
   "metadata": {
    "collapsed": false
   }
  },
  {
   "cell_type": "code",
   "execution_count": null,
   "outputs": [],
   "source": [
    "detector = LanguageDetectorBuilder.from_all_languages().build()"
   ],
   "metadata": {
    "collapsed": false
   }
  },
  {
   "cell_type": "code",
   "execution_count": null,
   "outputs": [],
   "source": [
    "languages = detector.detect_languages_in_parallel_of([doc['text'] for doc in documents])"
   ],
   "metadata": {
    "collapsed": false
   }
  },
  {
   "cell_type": "code",
   "execution_count": null,
   "outputs": [],
   "source": [
    "len(languages)"
   ],
   "metadata": {
    "collapsed": false
   }
  },
  {
   "cell_type": "code",
   "execution_count": null,
   "outputs": [],
   "source": [
    "# get english documents\n",
    "english_documents = [doc for doc, lang in zip(documents, languages) if lang == Language.ENGLISH]\n",
    "print(len(english_documents))"
   ],
   "metadata": {
    "collapsed": false
   }
  },
  {
   "cell_type": "code",
   "execution_count": null,
   "outputs": [],
   "source": [
    "english_documents[0]"
   ],
   "metadata": {
    "collapsed": false
   }
  },
  {
   "cell_type": "code",
   "execution_count": null,
   "outputs": [],
   "source": [],
   "metadata": {
    "collapsed": false
   }
  }
 ],
 "metadata": {
  "kernelspec": {
   "name": "synpre_env",
   "language": "python",
   "display_name": "synpre_env"
  },
  "language_info": {
   "codemirror_mode": {
    "name": "ipython",
    "version": 2
   },
   "file_extension": ".py",
   "mimetype": "text/x-python",
   "name": "python",
   "nbconvert_exporter": "python",
   "pygments_lexer": "ipython2",
   "version": "2.7.6"
  }
 },
 "nbformat": 4,
 "nbformat_minor": 0
}
