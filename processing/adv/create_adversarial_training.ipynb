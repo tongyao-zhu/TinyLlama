{
 "cells": [
  {
   "cell_type": "markdown",
   "source": [
    "Following Longxu's advice, we will deliberately break the sentences and see if the training differs"
   ],
   "metadata": {
    "collapsed": false
   }
  },
  {
   "cell_type": "code",
   "execution_count": 2,
   "outputs": [],
   "source": [
    "import os\n",
    "import glob\n",
    "import json\n",
    "import tqdm"
   ],
   "metadata": {
    "collapsed": false
   }
  },
  {
   "cell_type": "code",
   "execution_count": 3,
   "outputs": [],
   "source": [
    "json_path = '/home/aiops/zhuty/ret_pretraining_data/c4_news_id_added/train/'\n",
    "def read_jsonl(paths):\n",
    "    \"\"\"Read a JSON Lines file and return a list of documents.\"\"\"\n",
    "    documents = []\n",
    "    for file_path in tqdm.tqdm(paths):\n",
    "        with open(file_path, 'r') as file:\n",
    "            for line in file:\n",
    "                document = json.loads(line)\n",
    "                document['text'] = document['contents']\n",
    "                del document['contents']\n",
    "                documents.append(document)\n",
    "    return documents\n"
   ],
   "metadata": {
    "collapsed": false
   }
  },
  {
   "cell_type": "code",
   "execution_count": 4,
   "outputs": [
    {
     "name": "stderr",
     "output_type": "stream",
     "text": [
      "100%|██████████| 502/502 [02:37<00:00,  3.19it/s]\n"
     ]
    }
   ],
   "source": [
    "documents = read_jsonl(glob.glob(os.path.join(json_path, '*.jsonl'))[:])"
   ],
   "metadata": {
    "collapsed": false
   }
  },
  {
   "cell_type": "code",
   "execution_count": 5,
   "outputs": [
    {
     "data": {
      "text/plain": "13530310"
     },
     "execution_count": 5,
     "metadata": {},
     "output_type": "execute_result"
    }
   ],
   "source": [
    "len(documents)"
   ],
   "metadata": {
    "collapsed": false
   }
  },
  {
   "cell_type": "code",
   "execution_count": 6,
   "outputs": [
    {
     "name": "stdout",
     "output_type": "stream",
     "text": [
      "Total number of paragraphs:  152692270\n",
      "Average number of paragraphs:  11.285201152080033\n",
      "Max number of paragraphs:  1941\n",
      "Min number of paragraphs:  1\n"
     ]
    },
    {
     "data": {
      "text/plain": "<Figure size 640x480 with 1 Axes>",
      "image/png": "[encoded data removed]"
     },
     "metadata": {},
     "output_type": "display_data"
    }
   ],
   "source": [
    "num_of_paragraphs = []\n",
    "all_paragraphs = []\n",
    "for doc in documents:\n",
    "    paragraphs = doc['text'].split(\"\\n\")\n",
    "    num_of_paragraphs.append(len(paragraphs))\n",
    "    all_paragraphs.extend(paragraphs)\n",
    "\n",
    "# get some stats on the number of paragraphs\n",
    "print(\"Total number of paragraphs: \", sum(num_of_paragraphs))\n",
    "print(\"Average number of paragraphs: \", sum(num_of_paragraphs)/len(num_of_paragraphs))\n",
    "print(\"Max number of paragraphs: \", max(num_of_paragraphs))\n",
    "print(\"Min number of paragraphs: \", min(num_of_paragraphs))\n",
    "\n",
    "import matplotlib.pyplot as plt\n",
    "# plot histogram of the number of paragraphs\n",
    "plt.hist(num_of_paragraphs, bins=100)\n",
    "plt.show()\n",
    "\n",
    "\n"
   ],
   "metadata": {
    "collapsed": false
   }
  },
  {
   "cell_type": "code",
   "execution_count": 7,
   "outputs": [],
   "source": [
    "import random\n",
    "random.seed(42)\n",
    "random.shuffle(all_paragraphs)"
   ],
   "metadata": {
    "collapsed": false
   }
  },
  {
   "cell_type": "code",
   "execution_count": 8,
   "outputs": [
    {
     "name": "stderr",
     "output_type": "stream",
     "text": [
      "100%|██████████| 13530310/13530310 [03:17<00:00, 68641.14it/s]  \n"
     ]
    }
   ],
   "source": [
    "def split_paragraphs(paragraphs, paragraph_counts):\n",
    "    documents = []\n",
    "    start = 0\n",
    "\n",
    "    for count in tqdm.tqdm(paragraph_counts):\n",
    "        end = start + count\n",
    "        documents.append(paragraphs[start:end])\n",
    "        start = end\n",
    "\n",
    "    return documents\n",
    "\n",
    "documents = split_paragraphs(all_paragraphs, num_of_paragraphs)"
   ],
   "metadata": {
    "collapsed": false
   }
  },
  {
   "cell_type": "code",
   "execution_count": 9,
   "outputs": [],
   "source": [
    "assert len(all_paragraphs) == sum(num_of_paragraphs)"
   ],
   "metadata": {
    "collapsed": false
   }
  },
  {
   "cell_type": "code",
   "execution_count": 10,
   "outputs": [
    {
     "data": {
      "text/plain": "152692270"
     },
     "execution_count": 10,
     "metadata": {},
     "output_type": "execute_result"
    }
   ],
   "source": [
    "len(all_paragraphs)"
   ],
   "metadata": {
    "collapsed": false
   }
  },
  {
   "cell_type": "code",
   "execution_count": 11,
   "outputs": [
    {
     "data": {
      "text/plain": "152692270"
     },
     "execution_count": 11,
     "metadata": {},
     "output_type": "execute_result"
    }
   ],
   "source": [
    "sum(num_of_paragraphs)"
   ],
   "metadata": {
    "collapsed": false
   }
  },
  {
   "cell_type": "code",
   "execution_count": 13,
   "outputs": [],
   "source": [
    "new_docs = []\n",
    "for i ,doc in enumerate(documents):\n",
    "    new_docs.append({\n",
    "        'text': '\\n'.join(doc),\n",
    "        'id': \"adv_\" + str(i),\n",
    "    })"
   ],
   "metadata": {
    "collapsed": false
   }
  },
  {
   "cell_type": "code",
   "execution_count": 14,
   "outputs": [],
   "source": [
    "def write_jsonl(dir_path, documents, chunk_size=100000):\n",
    "    \"\"\"Write a list of documents to chunks of JSON Lines file.\"\"\"\n",
    "    num_chunks = len(documents) // chunk_size + 1\n",
    "    for i in range(num_chunks):\n",
    "        chunk_path = os.path.join(dir_path, f'chunk_{i}.jsonl')\n",
    "        start = i * chunk_size\n",
    "        end = min((i + 1) * chunk_size, len(documents))\n",
    "        with open(chunk_path, 'w') as file:\n",
    "            for document in documents[start:end]:\n",
    "                file.write(json.dumps(document) + '\\n')\n"
   ],
   "metadata": {
    "collapsed": false
   }
  },
  {
   "cell_type": "code",
   "execution_count": 22,
   "outputs": [],
   "source": [
    "dir_path = '/home/aiops/zhuty/ret_pretraining_data/c4_news_adv/train'\n",
    "write_jsonl(dir_path, new_docs)"
   ],
   "metadata": {
    "collapsed": false
   }
  },
  {
   "cell_type": "code",
   "execution_count": 23,
   "outputs": [
    {
     "name": "stdout",
     "output_type": "stream",
     "text": [
      "13530310\n"
     ]
    }
   ],
   "source": [
    "print(len(new_docs))"
   ],
   "metadata": {
    "collapsed": false
   }
  },
  {
   "cell_type": "code",
   "execution_count": null,
   "outputs": [],
   "source": [],
   "metadata": {
    "collapsed": false
   }
  }
 ],
 "metadata": {
  "kernelspec": {
   "name": "synpre_env",
   "language": "python",
   "display_name": "synpre_env"
  },
  "language_info": {
   "codemirror_mode": {
    "name": "ipython",
    "version": 2
   },
   "file_extension": ".py",
   "mimetype": "text/x-python",
   "name": "python",
   "nbconvert_exporter": "python",
   "pygments_lexer": "ipython2",
   "version": "2.7.6"
  }
 },
 "nbformat": 4,
 "nbformat_minor": 0
}
