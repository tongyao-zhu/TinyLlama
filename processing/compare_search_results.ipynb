{
 "cells": [
  {
   "cell_type": "code",
   "execution_count": 2,
   "outputs": [],
   "source": [
    "# set working directory\n",
    "import os\n",
    "os.chdir(\"/home/aiops/zhuty/tinyllama\")"
   ],
   "metadata": {
    "collapsed": false
   }
  },
  {
   "cell_type": "code",
   "execution_count": 5,
   "outputs": [],
   "source": [
    "from processing.graphs.utils import read_trec_results\n",
    "\n",
    "def calculate_jaccard_at_k(list1, list2, k):\n",
    "    set1 = set(item['doc_id'] for item in list1[:k])\n",
    "    set2 = set(item['doc_id'] for item in list2[:k])\n",
    "    intersection = len(set1.intersection(set2))\n",
    "    union = len(set1.union(set2))\n",
    "    return intersection / union if union != 0 else 0\n",
    "\n",
    "def calculate_precision_at_k(list1, list2, k):\n",
    "    set1 = set(item['doc_id'] for item in list1[:k])\n",
    "    set2 = set(item['doc_id'] for item in list2[:k])\n",
    "    intersection = len(set1.intersection(set2))\n",
    "    return intersection / k\n",
    "\n",
    "def compare_search_results_at_k(list1, list2, ks=[5, 10, 20]):\n",
    "    results = {}\n",
    "    for k in ks:\n",
    "        jaccard_similarity = calculate_jaccard_at_k(list1, list2, k)\n",
    "        precision_at_k = calculate_precision_at_k(list1, list2, k)\n",
    "        results[k] = {\n",
    "            \"Jaccard Similarity at k\": jaccard_similarity,\n",
    "            \"Precision at k\": precision_at_k\n",
    "        }\n",
    "    return results\n",
    "\n",
    "# # Example usage\n",
    "# list1 = [...]  # Your first list\n",
    "# list2 = [...]  # Your second list\n",
    "#\n",
    "# comparison_metrics = compare_search_results_at_k(list1, list2, ks=[5, 10, 20])\n",
    "# for k, metrics in comparison_metrics.items():\n",
    "#     print(f\"Metrics at k={k}: {metrics}\")\n",
    "\n",
    "def calculate_average_metrics_at_k(all_results, ks=[5, 10, 20]):\n",
    "    # Initialize dictionaries to store total metrics\n",
    "    total_jaccard_at_k = {k: 0 for k in ks}\n",
    "    total_precision_at_k = {k: 0 for k in ks}\n",
    "\n",
    "    # Number of queries\n",
    "    num_queries = len(all_results)\n",
    "\n",
    "    for list1, list2 in all_results:\n",
    "        for k in ks:\n",
    "            jaccard_at_k = calculate_jaccard_at_k(list1, list2, k)\n",
    "            precision_at_k = calculate_precision_at_k(list1, list2, k)\n",
    "\n",
    "            total_jaccard_at_k[k] += jaccard_at_k\n",
    "            total_precision_at_k[k] += precision_at_k\n",
    "\n",
    "    # Calculate averages\n",
    "    avg_jaccard_at_k = {k: total_jaccard_at_k[k] / num_queries for k in ks}\n",
    "    avg_precision_at_k = {k: total_precision_at_k[k] / num_queries for k in ks}\n",
    "\n",
    "    return avg_jaccard_at_k, avg_precision_at_k\n",
    "\n",
    "# Example usage\n",
    "# all_results is a list of tuples, each containing two lists (list1, list2) for each query\n",
    "# all_results = [([...], [...]), ([...], [...]), ...]  # Replace [...] with actual lists for each query\n",
    "def compare_two_results(path1, path2):\n",
    "\n",
    "    new_result = read_trec_results(path1)\n",
    "    old_result = read_trec_results(path2)\n",
    "    all_results = [(new_result[i], old_result[i]) for i in new_result.keys()]\n",
    "\n",
    "    k_list = [1, 3, 5, 10, 20, 100]\n",
    "    avg_jaccard, avg_precision = calculate_average_metrics_at_k(all_results, ks=k_list)\n",
    "\n",
    "    for k in k_list:\n",
    "        print(f\"Average Jaccard Similarity at k={k}: {avg_jaccard[k]:.4f}\")\n",
    "        print(f\"Average Precision at k={k}: {avg_precision[k]:.4f}\")\n"
   ],
   "metadata": {
    "collapsed": false
   }
  },
  {
   "cell_type": "code",
   "execution_count": 6,
   "outputs": [],
   "source": [
    "result_paths = [ \"/home/aiops/zhuty/ret_pretraining_data/id_added/redpajama_2b/bm25_search_results/chunk_0_gen1k.result.txt\" , \"/home/aiops/zhuty/ret_pretraining_data/id_added/redpajama_2b/dense_search_results/chunk_0.result.txt\" ,\n",
    " \"/home/aiops/zhuty/ret_pretraining_data/id_added/redpajama_2b/bm25_search_results/chunk_0.result.txt\"]"
   ],
   "metadata": {
    "collapsed": false
   }
  },
  {
   "cell_type": "code",
   "execution_count": 7,
   "outputs": [
    {
     "name": "stdout",
     "output_type": "stream",
     "text": [
      "Average Jaccard Similarity at k=1: 0.0000\n",
      "Average Precision at k=1: 0.0000\n",
      "Average Jaccard Similarity at k=3: 0.0006\n",
      "Average Precision at k=3: 0.0010\n",
      "Average Jaccard Similarity at k=5: 0.0003\n",
      "Average Precision at k=5: 0.0006\n",
      "Average Jaccard Similarity at k=10: 0.0004\n",
      "Average Precision at k=10: 0.0008\n",
      "Average Jaccard Similarity at k=20: 0.0004\n",
      "Average Precision at k=20: 0.0007\n",
      "Average Jaccard Similarity at k=100: 0.0004\n",
      "Average Precision at k=100: 0.0007\n",
      "Average Jaccard Similarity at k=1: 0.0071\n",
      "Average Precision at k=1: 0.0071\n",
      "Average Jaccard Similarity at k=3: 0.0023\n",
      "Average Precision at k=3: 0.0037\n",
      "Average Jaccard Similarity at k=5: 0.0017\n",
      "Average Precision at k=5: 0.0029\n",
      "Average Jaccard Similarity at k=10: 0.0012\n",
      "Average Precision at k=10: 0.0022\n",
      "Average Jaccard Similarity at k=20: 0.0009\n",
      "Average Precision at k=20: 0.0017\n",
      "Average Jaccard Similarity at k=100: 0.0011\n",
      "Average Precision at k=100: 0.0021\n",
      "Average Jaccard Similarity at k=1: 0.0180\n",
      "Average Precision at k=1: 0.0180\n",
      "Average Jaccard Similarity at k=3: 0.0208\n",
      "Average Precision at k=3: 0.0334\n",
      "Average Jaccard Similarity at k=5: 0.0245\n",
      "Average Precision at k=5: 0.0412\n",
      "Average Jaccard Similarity at k=10: 0.0324\n",
      "Average Precision at k=10: 0.0560\n",
      "Average Jaccard Similarity at k=20: 0.0402\n",
      "Average Precision at k=20: 0.0700\n",
      "Average Jaccard Similarity at k=100: 0.0676\n",
      "Average Precision at k=100: 0.1168\n"
     ]
    }
   ],
   "source": [
    "# compare pair-wise\n",
    "compare_two_results(result_paths[0], result_paths[1])\n",
    "compare_two_results(result_paths[1], result_paths[2])\n",
    "compare_two_results(result_paths[0], result_paths[2])"
   ],
   "metadata": {
    "collapsed": false
   }
  },
  {
   "cell_type": "code",
   "execution_count": 9,
   "outputs": [],
   "source": [
    "# path1 = \"/home/aiops/zhuty/ret_pretraining_data/id_added/c4_news/dense_search_results/flat_search_chunk_10.result.txt\"\n",
    "# path2 = \"/home/aiops/zhuty/ret_pretraining_data/id_added/c4_news/dense_search_results/chunk_10.result.txt\"\n",
    "path1 = \"/home/aiops/zhuty/ret_pretraining_data/id_added/c4_news/dense_search_results/last/chunk_0.result.txt\"\n",
    "path2 = \"/home/aiops/zhuty/ret_pretraining_data/id_added/c4_news/bm25_search_results/chunk_0.result.txt\""
   ],
   "metadata": {
    "collapsed": false
   }
  },
  {
   "cell_type": "code",
   "execution_count": 11,
   "outputs": [
    {
     "data": {
      "text/plain": "'/home/aiops/zhuty/ret_pretraining_data/id_added/c4_news/bm25_search_results/chunk_0.result.txt'"
     },
     "execution_count": 11,
     "metadata": {},
     "output_type": "execute_result"
    }
   ],
   "source": [
    "path2"
   ],
   "metadata": {
    "collapsed": false
   }
  },
  {
   "cell_type": "code",
   "execution_count": 10,
   "outputs": [
    {
     "ename": "KeyError",
     "evalue": "'0_175'",
     "output_type": "error",
     "traceback": [
      "\u001B[0;31m---------------------------------------------------------------------------\u001B[0m",
      "\u001B[0;31mKeyError\u001B[0m                                  Traceback (most recent call last)",
      "Cell \u001B[0;32mIn[10], line 1\u001B[0m\n\u001B[0;32m----> 1\u001B[0m \u001B[43mcompare_two_results\u001B[49m\u001B[43m(\u001B[49m\u001B[43mpath1\u001B[49m\u001B[43m,\u001B[49m\u001B[43m \u001B[49m\u001B[43mpath2\u001B[49m\u001B[43m)\u001B[49m\n",
      "Cell \u001B[0;32mIn[5], line 64\u001B[0m, in \u001B[0;36mcompare_two_results\u001B[0;34m(path1, path2)\u001B[0m\n\u001B[1;32m     62\u001B[0m new_result \u001B[38;5;241m=\u001B[39m read_trec_results(path1)\n\u001B[1;32m     63\u001B[0m old_result \u001B[38;5;241m=\u001B[39m read_trec_results(path2)\n\u001B[0;32m---> 64\u001B[0m all_results \u001B[38;5;241m=\u001B[39m \u001B[43m[\u001B[49m\u001B[43m(\u001B[49m\u001B[43mnew_result\u001B[49m\u001B[43m[\u001B[49m\u001B[43mi\u001B[49m\u001B[43m]\u001B[49m\u001B[43m,\u001B[49m\u001B[43m \u001B[49m\u001B[43mold_result\u001B[49m\u001B[43m[\u001B[49m\u001B[43mi\u001B[49m\u001B[43m]\u001B[49m\u001B[43m)\u001B[49m\u001B[43m \u001B[49m\u001B[38;5;28;43;01mfor\u001B[39;49;00m\u001B[43m \u001B[49m\u001B[43mi\u001B[49m\u001B[43m \u001B[49m\u001B[38;5;129;43;01min\u001B[39;49;00m\u001B[43m \u001B[49m\u001B[43mnew_result\u001B[49m\u001B[38;5;241;43m.\u001B[39;49m\u001B[43mkeys\u001B[49m\u001B[43m(\u001B[49m\u001B[43m)\u001B[49m\u001B[43m]\u001B[49m\n\u001B[1;32m     66\u001B[0m k_list \u001B[38;5;241m=\u001B[39m [\u001B[38;5;241m1\u001B[39m, \u001B[38;5;241m3\u001B[39m, \u001B[38;5;241m5\u001B[39m, \u001B[38;5;241m10\u001B[39m, \u001B[38;5;241m20\u001B[39m, \u001B[38;5;241m100\u001B[39m]\n\u001B[1;32m     67\u001B[0m avg_jaccard, avg_precision \u001B[38;5;241m=\u001B[39m calculate_average_metrics_at_k(all_results, ks\u001B[38;5;241m=\u001B[39mk_list)\n",
      "Cell \u001B[0;32mIn[5], line 64\u001B[0m, in \u001B[0;36m<listcomp>\u001B[0;34m(.0)\u001B[0m\n\u001B[1;32m     62\u001B[0m new_result \u001B[38;5;241m=\u001B[39m read_trec_results(path1)\n\u001B[1;32m     63\u001B[0m old_result \u001B[38;5;241m=\u001B[39m read_trec_results(path2)\n\u001B[0;32m---> 64\u001B[0m all_results \u001B[38;5;241m=\u001B[39m [(new_result[i], \u001B[43mold_result\u001B[49m\u001B[43m[\u001B[49m\u001B[43mi\u001B[49m\u001B[43m]\u001B[49m) \u001B[38;5;28;01mfor\u001B[39;00m i \u001B[38;5;129;01min\u001B[39;00m new_result\u001B[38;5;241m.\u001B[39mkeys()]\n\u001B[1;32m     66\u001B[0m k_list \u001B[38;5;241m=\u001B[39m [\u001B[38;5;241m1\u001B[39m, \u001B[38;5;241m3\u001B[39m, \u001B[38;5;241m5\u001B[39m, \u001B[38;5;241m10\u001B[39m, \u001B[38;5;241m20\u001B[39m, \u001B[38;5;241m100\u001B[39m]\n\u001B[1;32m     67\u001B[0m avg_jaccard, avg_precision \u001B[38;5;241m=\u001B[39m calculate_average_metrics_at_k(all_results, ks\u001B[38;5;241m=\u001B[39mk_list)\n",
      "\u001B[0;31mKeyError\u001B[0m: '0_175'"
     ]
    }
   ],
   "source": [
    "compare_two_results(path1, path2)"
   ],
   "metadata": {
    "collapsed": false
   }
  }
 ],
 "metadata": {
  "kernelspec": {
   "display_name": "Python 3",
   "language": "python",
   "name": "python3"
  },
  "language_info": {
   "codemirror_mode": {
    "name": "ipython",
    "version": 2
   },
   "file_extension": ".py",
   "mimetype": "text/x-python",
   "name": "python",
   "nbconvert_exporter": "python",
   "pygments_lexer": "ipython2",
   "version": "2.7.6"
  }
 },
 "nbformat": 4,
 "nbformat_minor": 0
}
