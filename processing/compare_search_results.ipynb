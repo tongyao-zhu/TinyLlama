{
 "cells": [
  {
   "cell_type": "code",
   "execution_count": 1,
   "outputs": [],
   "source": [
    "# set working directory\n",
    "import os\n",
    "os.chdir(\"/home/aiops/zhuty/tinyllama\")\n",
    "import json"
   ],
   "metadata": {
    "collapsed": false
   }
  },
  {
   "cell_type": "code",
   "execution_count": 2,
   "outputs": [],
   "source": [
    "from processing.graphs.utils import read_trec_results\n",
    "\n",
    "def calculate_jaccard_at_k(list1, list2, k):\n",
    "    set1 = set(item for item in list1[:k])\n",
    "    set2 = set(item for item in list2[:k])\n",
    "    intersection = len(set1.intersection(set2))\n",
    "    union = len(set1.union(set2))\n",
    "    return intersection / union if union != 0 else 0\n",
    "\n",
    "def calculate_precision_at_k(list1, list2, k):\n",
    "    set1 = set(item for item in list1[:k])\n",
    "    set2 = set(item for item in list2[:k])\n",
    "    intersection = len(set1.intersection(set2))\n",
    "    return intersection / k\n",
    "\n",
    "def compare_search_results_at_k(list1, list2, ks=[5, 10, 20]):\n",
    "    results = {}\n",
    "    for k in ks:\n",
    "        jaccard_similarity = calculate_jaccard_at_k(list1, list2, k)\n",
    "        precision_at_k = calculate_precision_at_k(list1, list2, k)\n",
    "        results[k] = {\n",
    "            \"Jaccard Similarity at k\": jaccard_similarity,\n",
    "            \"Precision at k\": precision_at_k\n",
    "        }\n",
    "    return results\n",
    "\n",
    "# # Example usage\n",
    "# list1 = [...]  # Your first list\n",
    "# list2 = [...]  # Your second list\n",
    "#\n",
    "# comparison_metrics = compare_search_results_at_k(list1, list2, ks=[5, 10, 20])\n",
    "# for k, metrics in comparison_metrics.items():\n",
    "#     print(f\"Metrics at k={k}: {metrics}\")\n",
    "\n",
    "def calculate_average_metrics_at_k(all_results, ks=[5, 10, 20]):\n",
    "    # Initialize dictionaries to store total metrics\n",
    "    total_jaccard_at_k = {k: 0 for k in ks}\n",
    "    total_precision_at_k = {k: 0 for k in ks}\n",
    "\n",
    "    # Number of queries\n",
    "    num_queries = len(all_results)\n",
    "\n",
    "    for list1, list2 in all_results:\n",
    "        for k in ks:\n",
    "            jaccard_at_k = calculate_jaccard_at_k(list1, list2, k)\n",
    "            precision_at_k = calculate_precision_at_k(list1, list2, k)\n",
    "\n",
    "            total_jaccard_at_k[k] += jaccard_at_k\n",
    "            total_precision_at_k[k] += precision_at_k\n",
    "\n",
    "    # Calculate averages\n",
    "    avg_jaccard_at_k = {k: total_jaccard_at_k[k] / num_queries for k in ks}\n",
    "    avg_precision_at_k = {k: total_precision_at_k[k] / num_queries for k in ks}\n",
    "\n",
    "    return avg_jaccard_at_k, avg_precision_at_k\n",
    "\n",
    "def read_jsonl_adj_lst(file):\n",
    "    result = {}\n",
    "    num_lines = 0\n",
    "    with open(file, 'r') as f:\n",
    "        for line in f:\n",
    "            data = json.loads(line)\n",
    "            result[data['query_id']] =[x[0] for x in  data['docs']]\n",
    "    return result\n",
    "\n",
    "# Example usage\n",
    "# all_results is a list of tuples, each containing two lists (list1, list2) for each query\n",
    "# all_results = [([...], [...]), ([...], [...]), ...]  # Replace [...] with actual lists for each query\n",
    "def compare_two_results(path1, path2):\n",
    "\n",
    "    # new_result = read_trec_results(path1)\n",
    "    # old_result = read_trec_results(path2)\n",
    "    new_result = read_jsonl_adj_lst(path1)\n",
    "    old_result = read_jsonl_adj_lst(path2)\n",
    "    print(\"Finished reading results\")\n",
    "\n",
    "    all_results = [(new_result[i], old_result[i]) for i in new_result.keys()]\n",
    "\n",
    "    k_list = [1, 3, 5, 10, 20, 100]\n",
    "    avg_jaccard, avg_precision = calculate_average_metrics_at_k(all_results, ks=k_list)\n",
    "\n",
    "    for k in k_list:\n",
    "        print(f\"Average Jaccard Similarity at k={k}: {avg_jaccard[k]:.4f}\")\n",
    "        print(f\"Average Precision at k={k}: {avg_precision[k]:.4f}\")\n"
   ],
   "metadata": {
    "collapsed": false
   }
  },
  {
   "cell_type": "code",
   "execution_count": 3,
   "outputs": [
    {
     "name": "stdout",
     "output_type": "stream",
     "text": [
      "Comparing chunk 0\n",
      "Finished reading results\n",
      "Average Jaccard Similarity at k=1: 0.4746\n",
      "Average Precision at k=1: 0.4746\n",
      "Average Jaccard Similarity at k=3: 0.2548\n",
      "Average Precision at k=3: 0.3244\n",
      "Average Jaccard Similarity at k=5: 0.2191\n",
      "Average Precision at k=5: 0.2881\n",
      "Average Jaccard Similarity at k=10: 0.1937\n",
      "Average Precision at k=10: 0.2586\n",
      "Average Jaccard Similarity at k=20: 0.1810\n",
      "Average Precision at k=20: 0.2428\n",
      "Average Jaccard Similarity at k=100: 0.1738\n",
      "Average Precision at k=100: 0.2337\n",
      "Comparing chunk 1\n"
     ]
    },
    {
     "ename": "FileNotFoundError",
     "evalue": "[Errno 2] No such file or directory: '/home/aiops/zhuty/ret_pretraining_data/id_added/cc/el_search_results/first/adj_lists/result_1.jsonl'",
     "output_type": "error",
     "traceback": [
      "\u001B[0;31m---------------------------------------------------------------------------\u001B[0m",
      "\u001B[0;31mFileNotFoundError\u001B[0m                         Traceback (most recent call last)",
      "Cell \u001B[0;32mIn[3], line 16\u001B[0m\n\u001B[1;32m      6\u001B[0m result_paths \u001B[38;5;241m=\u001B[39m [\n\u001B[1;32m      7\u001B[0m     \u001B[38;5;66;03m# f\"/home/aiops/zhuty/ret_pretraining_data/id_added/cc/dense_search_results/keep/adj_lists/result_{chunk_num}.jsonl\" ,\u001B[39;00m\n\u001B[1;32m      8\u001B[0m     \u001B[38;5;66;03m# f\"/home/aiops/zhuty/ret_pretraining_data/id_added/cc/bm25_search_results/first/adj_lists/result_{chunk_num}.jsonl\" ,\u001B[39;00m\n\u001B[0;32m   (...)\u001B[0m\n\u001B[1;32m     13\u001B[0m     \n\u001B[1;32m     14\u001B[0m ]\n\u001B[1;32m     15\u001B[0m \u001B[38;5;28mprint\u001B[39m(\u001B[38;5;124mf\u001B[39m\u001B[38;5;124m'\u001B[39m\u001B[38;5;124mComparing chunk \u001B[39m\u001B[38;5;132;01m{\u001B[39;00mchunk_num\u001B[38;5;132;01m}\u001B[39;00m\u001B[38;5;124m'\u001B[39m)\n\u001B[0;32m---> 16\u001B[0m \u001B[43mcompare_two_results\u001B[49m\u001B[43m(\u001B[49m\u001B[43mresult_paths\u001B[49m\u001B[43m[\u001B[49m\u001B[38;5;241;43m0\u001B[39;49m\u001B[43m]\u001B[49m\u001B[43m,\u001B[49m\u001B[43m \u001B[49m\u001B[43mresult_paths\u001B[49m\u001B[43m[\u001B[49m\u001B[38;5;241;43m1\u001B[39;49m\u001B[43m]\u001B[49m\u001B[43m)\u001B[49m\n",
      "Cell \u001B[0;32mIn[2], line 73\u001B[0m, in \u001B[0;36mcompare_two_results\u001B[0;34m(path1, path2)\u001B[0m\n\u001B[1;32m     69\u001B[0m \u001B[38;5;28;01mdef\u001B[39;00m \u001B[38;5;21mcompare_two_results\u001B[39m(path1, path2):\n\u001B[1;32m     70\u001B[0m \n\u001B[1;32m     71\u001B[0m     \u001B[38;5;66;03m# new_result = read_trec_results(path1)\u001B[39;00m\n\u001B[1;32m     72\u001B[0m     \u001B[38;5;66;03m# old_result = read_trec_results(path2)\u001B[39;00m\n\u001B[0;32m---> 73\u001B[0m     new_result \u001B[38;5;241m=\u001B[39m \u001B[43mread_jsonl_adj_lst\u001B[49m\u001B[43m(\u001B[49m\u001B[43mpath1\u001B[49m\u001B[43m)\u001B[49m\n\u001B[1;32m     74\u001B[0m     old_result \u001B[38;5;241m=\u001B[39m read_jsonl_adj_lst(path2)\n\u001B[1;32m     75\u001B[0m     \u001B[38;5;28mprint\u001B[39m(\u001B[38;5;124m\"\u001B[39m\u001B[38;5;124mFinished reading results\u001B[39m\u001B[38;5;124m\"\u001B[39m)\n",
      "Cell \u001B[0;32mIn[2], line 60\u001B[0m, in \u001B[0;36mread_jsonl_adj_lst\u001B[0;34m(file)\u001B[0m\n\u001B[1;32m     58\u001B[0m result \u001B[38;5;241m=\u001B[39m {}\n\u001B[1;32m     59\u001B[0m num_lines \u001B[38;5;241m=\u001B[39m \u001B[38;5;241m0\u001B[39m\n\u001B[0;32m---> 60\u001B[0m \u001B[38;5;28;01mwith\u001B[39;00m \u001B[38;5;28;43mopen\u001B[39;49m\u001B[43m(\u001B[49m\u001B[43mfile\u001B[49m\u001B[43m,\u001B[49m\u001B[43m \u001B[49m\u001B[38;5;124;43m'\u001B[39;49m\u001B[38;5;124;43mr\u001B[39;49m\u001B[38;5;124;43m'\u001B[39;49m\u001B[43m)\u001B[49m \u001B[38;5;28;01mas\u001B[39;00m f:\n\u001B[1;32m     61\u001B[0m     \u001B[38;5;28;01mfor\u001B[39;00m line \u001B[38;5;129;01min\u001B[39;00m f:\n\u001B[1;32m     62\u001B[0m         data \u001B[38;5;241m=\u001B[39m json\u001B[38;5;241m.\u001B[39mloads(line)\n",
      "File \u001B[0;32m~/.conda/envs/synpre_env/lib/python3.8/site-packages/IPython/core/interactiveshell.py:284\u001B[0m, in \u001B[0;36m_modified_open\u001B[0;34m(file, *args, **kwargs)\u001B[0m\n\u001B[1;32m    277\u001B[0m \u001B[38;5;28;01mif\u001B[39;00m file \u001B[38;5;129;01min\u001B[39;00m {\u001B[38;5;241m0\u001B[39m, \u001B[38;5;241m1\u001B[39m, \u001B[38;5;241m2\u001B[39m}:\n\u001B[1;32m    278\u001B[0m     \u001B[38;5;28;01mraise\u001B[39;00m \u001B[38;5;167;01mValueError\u001B[39;00m(\n\u001B[1;32m    279\u001B[0m         \u001B[38;5;124mf\u001B[39m\u001B[38;5;124m\"\u001B[39m\u001B[38;5;124mIPython won\u001B[39m\u001B[38;5;124m'\u001B[39m\u001B[38;5;124mt let you open fd=\u001B[39m\u001B[38;5;132;01m{\u001B[39;00mfile\u001B[38;5;132;01m}\u001B[39;00m\u001B[38;5;124m by default \u001B[39m\u001B[38;5;124m\"\u001B[39m\n\u001B[1;32m    280\u001B[0m         \u001B[38;5;124m\"\u001B[39m\u001B[38;5;124mas it is likely to crash IPython. If you know what you are doing, \u001B[39m\u001B[38;5;124m\"\u001B[39m\n\u001B[1;32m    281\u001B[0m         \u001B[38;5;124m\"\u001B[39m\u001B[38;5;124myou can use builtins\u001B[39m\u001B[38;5;124m'\u001B[39m\u001B[38;5;124m open.\u001B[39m\u001B[38;5;124m\"\u001B[39m\n\u001B[1;32m    282\u001B[0m     )\n\u001B[0;32m--> 284\u001B[0m \u001B[38;5;28;01mreturn\u001B[39;00m \u001B[43mio_open\u001B[49m\u001B[43m(\u001B[49m\u001B[43mfile\u001B[49m\u001B[43m,\u001B[49m\u001B[43m \u001B[49m\u001B[38;5;241;43m*\u001B[39;49m\u001B[43margs\u001B[49m\u001B[43m,\u001B[49m\u001B[43m \u001B[49m\u001B[38;5;241;43m*\u001B[39;49m\u001B[38;5;241;43m*\u001B[39;49m\u001B[43mkwargs\u001B[49m\u001B[43m)\u001B[49m\n",
      "\u001B[0;31mFileNotFoundError\u001B[0m: [Errno 2] No such file or directory: '/home/aiops/zhuty/ret_pretraining_data/id_added/cc/el_search_results/first/adj_lists/result_1.jsonl'"
     ]
    }
   ],
   "source": [
    "for chunk_num in [0, 1,4,23, 59, 58, 48, 51, 29]:\n",
    "\n",
    "    # result_paths = [\n",
    "    #     f\"/home/aiops/zhuty/ret_pretraining_data/id_added/cc/dense_search_results/keep/chunk_{chunk_num}.result.txt\" , f\"/home/aiops/zhuty/ret_pretraining_data/id_added/cc/bm25_search_results/first/chunk_{chunk_num}.result.txt\" ,\n",
    "    # ]\n",
    "    result_paths = [\n",
    "        # f\"/home/aiops/zhuty/ret_pretraining_data/id_added/cc/dense_search_results/keep/adj_lists/result_{chunk_num}.jsonl\" ,\n",
    "        f\"/home/aiops/zhuty/ret_pretraining_data/id_added/cc/bm25_search_results/first/adj_lists/result_{chunk_num}.jsonl\" ,\n",
    "        # f\"/home/aiops/zhuty/ret_pretraining_data/id_added/cc/el_search_results/last_120m/adj_lists/result_{chunk_num}.jsonl\" ,\n",
    "        f\"/home/aiops/zhuty/ret_pretraining_data/id_added/cc/el_search_results/first/adj_lists/result_{chunk_num}.jsonl\" ,\n",
    "        # f\"/home/aiops/zhuty/ret_pretraining_data/id_added/cc/el_search_results/last/adj_lists/result_{chunk_num}.jsonl\" ,\n",
    "\n",
    "\n",
    "    ]\n",
    "    print(f'Comparing chunk {chunk_num}')\n",
    "    compare_two_results(result_paths[0], result_paths[1])"
   ],
   "metadata": {
    "collapsed": false
   }
  },
  {
   "cell_type": "code",
   "execution_count": 43,
   "outputs": [
    {
     "name": "stdout",
     "output_type": "stream",
     "text": [
      "Percentage of queries that retrieve themselves in top 3: 9.32%\n",
      "Percentage of queries that retrieve themselves in top 5: 10.38%\n",
      "Percentage of queries that retrieve themselves in top 10: 11.83%\n",
      "Percentage of queries that retrieve themselves in top 20: 13.42%\n",
      "Percentage of queries that retrieve themselves in top 100: 17.64%\n",
      "Percentage of queries that retrieve themselves in top 1: 7.07%\n",
      "Percentage of queries that retrieve themselves in top 3: 9.32%\n",
      "Percentage of queries that retrieve themselves in top 5: 10.38%\n",
      "Percentage of queries that retrieve themselves in top 10: 11.83%\n",
      "Percentage of queries that retrieve themselves in top 20: 13.42%\n",
      "Percentage of queries that retrieve themselves in top 100: 17.64%\n"
     ]
    }
   ],
   "source": [
    "# calculate the percentage that itself is retrieved in top k\n",
    "def calculate_self_retrieval_percentage(result_path, k):\n",
    "    result = read_jsonl_adj_lst(result_path)\n",
    "    num_queries = len(result)\n",
    "    num_self_retrieved = 0\n",
    "    for query_id, retrieved_docs in result.items():\n",
    "        if query_id in retrieved_docs[:k]:\n",
    "            num_self_retrieved += 1\n",
    "    return num_self_retrieved / num_queries\n",
    "\n",
    "\n",
    "chunk_num = 0\n",
    "# Example usage\n",
    "\n",
    "result_path =  f\"/home/aiops/zhuty/ret_pretraining_data/id_added/cc/dense_search_results/keep/adj_lists/result_{chunk_num}.jsonl\"\n",
    "# result_path = f\"/home/aiops/zhuty/ret_pretraining_data/id_added/cc/bm25_search_results/first/adj_lists/result_{chunk_num}.jsonl\"\n",
    "result_path = f\"/home/aiops/zhuty/ret_pretraining_data/id_added/cc/el_search_results/last_120m/adj_lists/result_{chunk_num}.jsonl\"\n",
    "\n",
    "for k in [1, 3, 5, 10, 20, 100]:\n",
    "    self_retrieval_percentage = calculate_self_retrieval_percentage(result_path, k)\n",
    "    print(f\"Percentage of queries that retrieve themselves in top {k}: {self_retrieval_percentage*100:.2f}%\")"
   ],
   "metadata": {
    "collapsed": false
   }
  },
  {
   "cell_type": "code",
   "execution_count": null,
   "outputs": [],
   "source": [],
   "metadata": {
    "collapsed": false
   }
  },
  {
   "cell_type": "code",
   "execution_count": null,
   "outputs": [],
   "source": [
    "result_paths = [ \"/home/aiops/zhuty/ret_pretraining_data/id_added/redpajama_2b/bm25_search_results/chunk_0_gen1k.result.txt\" , \"/home/aiops/zhuty/ret_pretraining_data/id_added/redpajama_2b/dense_search_results/chunk_0.result.txt\" ,\n",
    " \"/home/aiops/zhuty/ret_pretraining_data/id_added/redpajama_2b/bm25_search_results/chunk_0.result.txt\"]"
   ],
   "metadata": {
    "collapsed": false
   }
  },
  {
   "cell_type": "code",
   "execution_count": 12,
   "outputs": [
    {
     "ename": "FileNotFoundError",
     "evalue": "[Errno 2] No such file or directory: '/home/aiops/zhuty/ret_pretraining_data/id_added/cc/dense_search_results/keep/chunk_0.result.txt'",
     "output_type": "error",
     "traceback": [
      "\u001B[0;31m---------------------------------------------------------------------------\u001B[0m",
      "\u001B[0;31mFileNotFoundError\u001B[0m                         Traceback (most recent call last)",
      "Cell \u001B[0;32mIn[12], line 2\u001B[0m\n\u001B[1;32m      1\u001B[0m \u001B[38;5;66;03m# compare pair-wise\u001B[39;00m\n\u001B[0;32m----> 2\u001B[0m \u001B[43mcompare_two_results\u001B[49m\u001B[43m(\u001B[49m\u001B[43mresult_paths\u001B[49m\u001B[43m[\u001B[49m\u001B[38;5;241;43m0\u001B[39;49m\u001B[43m]\u001B[49m\u001B[43m,\u001B[49m\u001B[43m \u001B[49m\u001B[43mresult_paths\u001B[49m\u001B[43m[\u001B[49m\u001B[38;5;241;43m1\u001B[39;49m\u001B[43m]\u001B[49m\u001B[43m)\u001B[49m\n\u001B[1;32m      3\u001B[0m compare_two_results(result_paths[\u001B[38;5;241m1\u001B[39m], result_paths[\u001B[38;5;241m2\u001B[39m])\n\u001B[1;32m      4\u001B[0m compare_two_results(result_paths[\u001B[38;5;241m0\u001B[39m], result_paths[\u001B[38;5;241m2\u001B[39m])\n",
      "Cell \u001B[0;32mIn[2], line 62\u001B[0m, in \u001B[0;36mcompare_two_results\u001B[0;34m(path1, path2)\u001B[0m\n\u001B[1;32m     60\u001B[0m \u001B[38;5;28;01mdef\u001B[39;00m \u001B[38;5;21mcompare_two_results\u001B[39m(path1, path2):\n\u001B[0;32m---> 62\u001B[0m     new_result \u001B[38;5;241m=\u001B[39m \u001B[43mread_trec_results\u001B[49m\u001B[43m(\u001B[49m\u001B[43mpath1\u001B[49m\u001B[43m)\u001B[49m\n\u001B[1;32m     63\u001B[0m     old_result \u001B[38;5;241m=\u001B[39m read_trec_results(path2)\n\u001B[1;32m     64\u001B[0m     all_results \u001B[38;5;241m=\u001B[39m [(new_result[i], old_result[i]) \u001B[38;5;28;01mfor\u001B[39;00m i \u001B[38;5;129;01min\u001B[39;00m new_result\u001B[38;5;241m.\u001B[39mkeys()]\n",
      "File \u001B[0;32m~/tinyllama/processing/graphs/utils.py:76\u001B[0m, in \u001B[0;36mread_trec_results\u001B[0;34m(file_path)\u001B[0m\n\u001B[1;32m     73\u001B[0m \u001B[38;5;28;01mdef\u001B[39;00m \u001B[38;5;21mread_trec_results\u001B[39m(file_path):\n\u001B[1;32m     74\u001B[0m     results \u001B[38;5;241m=\u001B[39m {}\n\u001B[0;32m---> 76\u001B[0m     \u001B[38;5;28;01mwith\u001B[39;00m \u001B[38;5;28;43mopen\u001B[39;49m\u001B[43m(\u001B[49m\u001B[43mfile_path\u001B[49m\u001B[43m,\u001B[49m\u001B[43m \u001B[49m\u001B[38;5;124;43m'\u001B[39;49m\u001B[38;5;124;43mr\u001B[39;49m\u001B[38;5;124;43m'\u001B[39;49m\u001B[43m)\u001B[49m \u001B[38;5;28;01mas\u001B[39;00m file:\n\u001B[1;32m     77\u001B[0m         \u001B[38;5;28;01mfor\u001B[39;00m line \u001B[38;5;129;01min\u001B[39;00m file:\n\u001B[1;32m     78\u001B[0m             parts \u001B[38;5;241m=\u001B[39m line\u001B[38;5;241m.\u001B[39mstrip()\u001B[38;5;241m.\u001B[39msplit()\n",
      "\u001B[0;31mFileNotFoundError\u001B[0m: [Errno 2] No such file or directory: '/home/aiops/zhuty/ret_pretraining_data/id_added/cc/dense_search_results/keep/chunk_0.result.txt'"
     ]
    }
   ],
   "source": [
    "# compare pair-wise\n",
    "compare_two_results(result_paths[0], result_paths[1])\n",
    "compare_two_results(result_paths[1], result_paths[2])\n",
    "compare_two_results(result_paths[0], result_paths[2])"
   ],
   "metadata": {
    "collapsed": false
   }
  },
  {
   "cell_type": "code",
   "execution_count": 9,
   "outputs": [],
   "source": [
    "# path1 = \"/home/aiops/zhuty/ret_pretraining_data/id_added/c4_news/dense_search_results/flat_search_chunk_10.result.txt\"\n",
    "# path2 = \"/home/aiops/zhuty/ret_pretraining_data/id_added/c4_news/dense_search_results/chunk_10.result.txt\"\n",
    "path1 = \"/home/aiops/zhuty/ret_pretraining_data/id_added/c4_news/dense_search_results/last/chunk_0.result.txt\"\n",
    "path2 = \"/home/aiops/zhuty/ret_pretraining_data/id_added/c4_news/bm25_search_results/chunk_0.result.txt\""
   ],
   "metadata": {
    "collapsed": false
   }
  },
  {
   "cell_type": "code",
   "execution_count": null,
   "outputs": [],
   "source": [],
   "metadata": {
    "collapsed": false
   }
  },
  {
   "cell_type": "markdown",
   "source": [
    "### Case Study of Retrieval Results:"
   ],
   "metadata": {
    "collapsed": false
   }
  },
  {
   "cell_type": "code",
   "execution_count": 7,
   "outputs": [],
   "source": [
    "import json"
   ],
   "metadata": {
    "collapsed": false
   }
  },
  {
   "cell_type": "code",
   "execution_count": 8,
   "outputs": [],
   "source": [
    "def get_doc_contents(doc_id):\n",
    "    chunk_num,line_num = doc_id.split('_')\n",
    "    file = f'/home/aiops/zhuty/ret_pretraining_data/id_added/cc/train/chunk_{chunk_num}.jsonl'\n",
    "    # go to the line_num line\n",
    "    with open(file, 'r') as f:\n",
    "        for i, line in enumerate(f):\n",
    "            if i == int(line_num):\n",
    "                result = line\n",
    "    data = json.loads(result)\n",
    "    return data"
   ],
   "metadata": {
    "collapsed": false
   }
  },
  {
   "cell_type": "code",
   "execution_count": 9,
   "outputs": [
    {
     "data": {
      "text/plain": "{'meta': {'redpajama_set_name': 'RedPajamaCommonCrawl'},\n 'id': '0_100000',\n 'contents': 'Popster Collin Clowes captures the moments that matter in \"Polaroid\"\\nBy Frederica R. Gibney on\\t December 10, 2021 Polish Artist\\nCanadian singer-songwriter Collin Clowes captures the moments that matter in his evocative new single, \"Polaroid\" – available now.\\nThe new single from the debut EP, Sleepy, the seven song release in 2021 is a collection of heartwarming songs that feature delicate instrumental compositions over meaningful lyrics to create a sound that\\'s as familiar as it is new. This musical body is the singular vision of Clowes, who not only plays each instrument, but also works through a painstaking effort of production, mixing and mastering.\\nPersistence, along with a steadfast commitment to the music creation process, sets artist Collin Clowes in a league of their own. The production value and rhythmic polish of the EP is more typically associated with high-value teams of musicians and producers, not with the debut of a single artist, and Clowes ear for pop melodies and the multi-layered vocals reveal a mature sound texture. beyond his years.\\nThe touching lyrics of \"Polaroid\" are a vivid example of Clowes\\' ability to tell stories that go far beyond the superficiality that seems central in media.\\n\"Look around, tell me what you see,\\nAre there any fragmented memories stained on your sleeves,\\nOr did I leave here way too soon?\\nYou took a Polaroid photo to capture your past,\\nyou wear it closer because nothing really lasts now, does it? \"\\nThe complexity of our memories and our taste for better days are elegantly expressed in melancholic sounds and lyrics that give the song a sense of timelessness. The thoughtfulness employed in every musical endeavor reflects the perspective that Clowes brings to life. Each decision taken on the EP demonstrates exceptional depth and authenticity, welcoming and relevant.\\nA multi-talented artist from Gorham / Thunder Bay, Ontario, Collin Clowes exudes a true sense of artistic compassion that effortlessly translates into all aspects of his musical debut.\\nAfter constant health battles from the age of 17, Clowes made the decision to devote his time to making the music he wanted. When the Covid-19 pandemic hit, Clowes decided to start planning for what is now the Sleepy EP. In his bedroom studio, he would acquire the skills to realize his unique vision of pop music through countless hours of musical trial and error.\\nThis EP is dedicated to Clowes\\' faithful companion and best friend – her dog, June. It is said that when a person saves an animal, the reverse also occurs; this was the case with his beloved June. Endlessly loved by Clowes, June was his biggest supporter, helping him through countless nights of hard work throughout the production of Sleepy.\\nCollin Clowes\\' sensational single, \"Polaroid\", from his debut EP, Sleepy, is out now.\\nChoreographer Laurieann Gibson \"Icon\" of the Talent Development Competition – Deadline\\nTwo remain (out of darkness) – Isthmus\\nLaura E. Hall explains how escape rooms are more like video games than you might think\\nAdele\\'s \\'30\\' is imperfect, but her voice is perfect'}"
     },
     "execution_count": 9,
     "metadata": {},
     "output_type": "execute_result"
    }
   ],
   "source": [
    "doc_id = '0_100000'\n",
    "get_doc_contents(doc_id)"
   ],
   "metadata": {
    "collapsed": false
   }
  },
  {
   "cell_type": "code",
   "execution_count": 25,
   "outputs": [
    {
     "name": "stdout",
     "output_type": "stream",
     "text": [
      "Input documents {'meta': {'redpajama_set_name': 'RedPajamaCommonCrawl'}, 'id': '0_20', 'contents': 'FIFA Women\\'s World Cup 2019 final, USA VS Netherlands: Where to watch it live\\nBy Ishan Ghosh\\nJuly 7, 2019 18:43 +08\\nUSA and Netherlands are going to face each other in the final Twitter\\nThe United States team will face Netherlands in the final of the FIFA Women\\'s World Cup 2019 on July 7 at the Lon Olympic stadium in France. USA came into the final defeating England 2-1 whereas Netherlands entered the final courtesy a 1-0 win over Sweden.\\nPreview, prediction, schedule\\nThe three-time world champions USA are coming into the final riding high on a hard fought win against England. They have been in magnificent form throughout the tournament and have not lost a single match. However, their star player and probably the player of the tournament Megan Rapinoe was out of the semi-final clash due to a hamstring injury. But the USA team management have announced that she will be fit for the final. The loss of such a big player would have been a major setback for the team. With her in the team, they will be looking forward to adding another trophy to their collection.\\nOn the other hand, Netherlands who are now oozing with confidence after qualifying for the final, came into the cup decider by beating Sweden in a hard fought 1-0 win. The sole goal of the match came in the 99th minute. The 2017 European champions will be hoping that their star player Lieke Martens performs up to her usual high standard and gets fit for the final. She was one of the reasons behind the 2017 triumph so her presence will be very vital for the Orange Brigade.\\nThe USA definitely have the upper hand over first time finalist Netherlands and are, definitely, the favourite to win. But Netherlands, who have been unbeaten for the last 12 matches, will not let them win easily. An exciting match is on the cards.\\nThe USA-Netherlands match will start at 5 PM on July 7 according to local time and 11 pm, July 7 according to SGT.\\nGlobal TV listings\\nUSA: Fox, FS1 (English)\\nUSA: Universo, Telemundo (Spanish)\\nUK: BBC\\nAustralia: Optus Sport\\nCanada: CTV, RDS, TSN\\nSub-Saharan Africa: DirecTV Sports\\nCristiano Ronaldo visits Singapore before Juventus\\' arrival\\nSweden defeats Germany 2-1 to enter Women\\'s world cup semis\\nWomen\\'s World cup: Dutch women beat Italy to reach semis for 1st time\\nCricket World Cup final: ICC brazenly refuses to comment on umpires\\' big mistake\\nAfter staying silent for two days, cricket\\'s chief governing body finally...\\nWimbledon, British GP and Cricket World Cup all happened in one Sunday [PHOTOS]\\nIt was one of the best as well as exciting Sundays as all these three...\\nNovak Djokovic takes 5th Wimbledon trophy beating Roger Federer\\nThe Wimbledon men\\'s tennis final ended after more than four hours of a...\\nDramatic British GP ends with Lewis Hamilton\\'s victory [VIDEO]\\nThe British GP was supposed to be the battle for the top place, but the...\\nSimona Halep wins Wimbledon 2019 Women\\'s singles title\\nThe Romanian became the first singles champion at the oldest Grand Slam...\\nSerena Williams vs Simona Halep match details: Watch Wimbledon women\\'s final Live\\nCheck here to know Serena Williams vs Simona Halep match details and how...\\nSlow batting, a bad shot and two magical deliveries! Why England lost their three previous World Cup finals\\nEngland have faltered at the last stage of a World Cup three times before....\\nNew York love and support for world cup champion US women\\'s football team\\nRecent \"ticker tape\" parades have been missing the ticker tape - the...\\nNeymar to join Real Madrid? Manchester United to complete third signing\\nBrazilian star Neymar has been in talks with Barcelona for a long time but...\\nRafael Nadal schools journalist trying to suggest sexism at play in Wimbledon\\nThe 18-time Grand Slam winner was asked about him playing on the centre...'}\n",
      "####################\n",
      "Retrieved top 0 document ID 0_20, Score:  230.120804\n",
      "'FIFA Women\\'s World Cup 2019 final, USA VS Netherlands: Where to watch it live\\nBy Ishan Ghosh\\nJuly 7, 2019 18:43 +08\\nUSA and Netherlands are going to face each other in the final Twitter\\nThe Unit ......\n",
      "####################\n",
      "Retrieved top 1 document ID 31_120214, Score:  181.309906\n",
      "'New Zealand aim to put underdogs tag to rest for final time at World Cup\\n• \\'England rightly deserve to be favourites\\' – Kane Williamson• \\'Whatever dog we are, it\\'s important we focus on the cric ......\n",
      "####################\n",
      "Retrieved top 2 document ID 61_40785, Score:  175.699295\n",
      "'VIFF 2021 Review: The Worst Person In The World (Verdens verste menneske)\\n31 October 2021 Jon The BlogcentricLeave a comment\\nJulie (played by Renate Reinsve) looks for long-term love with Aksel (pl ......\n",
      "####################\n",
      "Retrieved top 3 document ID 10_115485, Score:  173.229004\n",
      "'US women, men have not committed to single-pay structure\\nThe head of the U.S. Soccer Federation says the unions for the women\\'s and men\\'s national teams have not committed to agreeing to a single  ......\n",
      "####################\n",
      "Retrieved top 4 document ID 33_24386, Score:  170.209106\n",
      "'US to play Senegal, Japan, Netherlands at U17 World Cup\\nThe United States was drawn to play Senegal, Japan and the Netherlands in the group stage of the Under-17 World Cup in Brazil ...\\nKristine Li ......\n"
     ]
    }
   ],
   "source": [
    "search_type = 'dense'\n",
    "query_type='keep'\n",
    "search_type, query_type = 'bm25', 'first'\n",
    "TOP_K=5\n",
    "query_id = '0_20'\n",
    "\n",
    "query_doc_id, query_line_id = query_id.split('_')\n",
    "file = f\"/home/aiops/zhuty/ret_pretraining_data/id_added/cc/{search_type}_search_results/{query_type}/adj_lists/result_{query_doc_id}.jsonl\"\n",
    "print(\"Input documents\", get_doc_contents(query_id))\n",
    "for item in open(file, 'r'):\n",
    "    line_dict = json.loads(item)\n",
    "    curr_query_id = line_dict['query_id']\n",
    "    if curr_query_id != query_id:\n",
    "        continue\n",
    "    docs = line_dict['docs']\n",
    "    for i, (doc, score) in enumerate(docs[:TOP_K]):\n",
    "        doc_content = get_doc_contents(doc)\n",
    "        print(\"#\"*20)\n",
    "        print(f\"Retrieved top {i} document ID {doc}, Score: \",score )\n",
    "        print(repr(doc_content['contents'])[:200], \"......\")"
   ],
   "metadata": {
    "collapsed": false
   }
  }
 ],
 "metadata": {
  "kernelspec": {
   "name": "synpre_env",
   "language": "python",
   "display_name": "synpre_env"
  },
  "language_info": {
   "codemirror_mode": {
    "name": "ipython",
    "version": 2
   },
   "file_extension": ".py",
   "mimetype": "text/x-python",
   "name": "python",
   "nbconvert_exporter": "python",
   "pygments_lexer": "ipython2",
   "version": "2.7.6"
  }
 },
 "nbformat": 4,
 "nbformat_minor": 0
}
