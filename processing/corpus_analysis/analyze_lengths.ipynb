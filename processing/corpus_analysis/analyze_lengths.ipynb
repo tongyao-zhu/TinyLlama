{
 "cells": [
  {
   "cell_type": "code",
   "execution_count": 1,
   "metadata": {
    "collapsed": true
   },
   "outputs": [
    {
     "name": "stdout",
     "output_type": "stream",
     "text": [
      "count    1.575382e+07\n",
      "mean     1.972632e+03\n",
      "std      4.566829e+03\n",
      "min      4.500000e+01\n",
      "25%      6.510000e+02\n",
      "50%      1.067000e+03\n",
      "75%      1.867000e+03\n",
      "max      5.942720e+05\n",
      "Name: length, dtype: float64\n",
      "Total number of tokens (B):  31.076485813\n"
     ]
    }
   ],
   "source": [
    "import pandas as pd\n",
    "import os\n",
    "\n",
    "BASE_DIR=\"/home/aiops/zhuty/ret_pretraining_data/id_added/cc/train\"\n",
    "dfs = []\n",
    "for i in range(0, 100):\n",
    "    chunk = pd.read_csv(os.path.join(BASE_DIR, \"chunk_{}_lengths.csv\".format(i)))\n",
    "    dfs.append(chunk)\n",
    "df = pd.concat(dfs, ignore_index=True)\n",
    "\n",
    "print(df['length'].describe())\n",
    "print(\"Total number of tokens (B): \", df['length'].sum()/1e9)\n",
    "\n",
    "# df = pd.read_csv(\"chunk_99_lengths.csv\")"
   ]
  },
  {
   "cell_type": "code",
   "execution_count": 15,
   "outputs": [
    {
     "name": "stdout",
     "output_type": "stream",
     "text": [
      "Number of documents smaller than 1k:  7342657 Percentage:  0.4660875180972026\n",
      "Number of documents smaller than 2k:  12168793 Percentage:  0.7724346279022175\n",
      "Number of documents smaller than 4k:  14390219 Percentage:  0.9134433841299149\n",
      "Number of documents smaller than 8k:  15227710 Percentage:  0.9666045356883691\n"
     ]
    }
   ],
   "source": [
    "# get how many lengths are smaller than 1k, 2k, 4k, 8k\n",
    "print(\"Number of documents smaller than 1k: \", df[df['length'] < 1000].shape[0], \"Percentage: \", df[df['length'] < 1000].shape[0]/df.shape[0])\n",
    "print(\"Number of documents smaller than 2k: \", df[df['length'] < 2000].shape[0], \"Percentage: \", df[df['length'] < 2000].shape[0]/df.shape[0])\n",
    "print(\"Number of documents smaller than 4k: \", df[df['length'] < 4000].shape[0], \"Percentage: \", df[df['length'] < 4000].shape[0]/df.shape[0])\n",
    "print(\"Number of documents smaller than 8k: \", df[df['length'] < 8000].shape[0], \"Percentage: \", df[df['length'] < 8000].shape[0]/df.shape[0])"
   ],
   "metadata": {
    "collapsed": false
   }
  },
  {
   "cell_type": "code",
   "execution_count": 14,
   "outputs": [
    {
     "data": {
      "text/plain": "<Figure size 640x480 with 1 Axes>",
      "image/png": "[encoded data removed]"
     },
     "metadata": {},
     "output_type": "display_data"
    }
   ],
   "source": [
    "import matplotlib.pyplot as plt\n",
    "# plot the distribution of the lengths in log scale\n",
    "plt.hist(df['length'], bins=1000)\n",
    "plt.xscale('log')\n",
    "# draw the line of 8k\n",
    "plt.axvline(x=8000, color='r', linestyle='--')\n",
    "plt.show()"
   ],
   "metadata": {
    "collapsed": false
   }
  }
 ],
 "metadata": {
  "kernelspec": {
   "name": "synpre_env",
   "language": "python",
   "display_name": "synpre_env"
  },
  "language_info": {
   "codemirror_mode": {
    "name": "ipython",
    "version": 2
   },
   "file_extension": ".py",
   "mimetype": "text/x-python",
   "name": "python",
   "nbconvert_exporter": "python",
   "pygments_lexer": "ipython2",
   "version": "2.7.6"
  }
 },
 "nbformat": 4,
 "nbformat_minor": 0
}
