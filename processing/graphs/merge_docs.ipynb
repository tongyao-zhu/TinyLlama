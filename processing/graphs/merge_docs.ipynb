{
 "cells": [
  {
   "cell_type": "code",
   "execution_count": 15,
   "outputs": [],
   "source": [
    "import json\n",
    "from tqdm import tqdm\n",
    "from collections import defaultdict"
   ],
   "metadata": {
    "collapsed": false
   }
  },
  {
   "cell_type": "code",
   "execution_count": 47,
   "metadata": {
    "collapsed": true
   },
   "outputs": [],
   "source": [
    "def merge(cluster2docs, doc2cluster, cluster_size = 21, top_k = 10):\n",
    "\n",
    "    # data_stats(self.cluster2docs)\n",
    "\n",
    "    merged_clusters_num = 0\n",
    "    for cluster, cluster_docs in tqdm(cluster2docs.copy().items()):\n",
    "        print(\"Processing clsuter {}\".format(cluster))\n",
    "        print(\"cluster docs: {}\".format(cluster_docs))\n",
    "        if len(cluster_docs) < cluster_size:\n",
    "            merged_clusters_num += 1\n",
    "            # print(merged_clusters_num)\n",
    "            for doc in cluster_docs:\n",
    "                # knns, relative_id = self.knns, doc\n",
    "                # top1k, top1k_cluster = self.output_first_doc_knn_not_in_the_cluster(knns[relative_id, :], cluster)\n",
    "                if doc not in adj_lst:\n",
    "                    neighbor = None\n",
    "                    neighbor_cluster = None\n",
    "                else:\n",
    "                    for neighbor,score in adj_lst[doc][:top_k]:\n",
    "                        # find the first neighbor that is not in the same cluster\n",
    "                        if doc2cluster[neighbor] == cluster:\n",
    "                            continue\n",
    "                        else:\n",
    "                            break\n",
    "\n",
    "                    neighbor_cluster = doc2cluster[neighbor]\n",
    "                # bp()\n",
    "                k_cluster_docs = cluster2docs[neighbor_cluster]\n",
    "                # bp()\n",
    "                # add k to doc\n",
    "                # k_cluster_docs.append(k)\n",
    "                if neighbor is None:\n",
    "                    k_cluster_docs.append(doc)\n",
    "                else:\n",
    "                    k_cluster_docs.insert(k_cluster_docs.index(neighbor), doc)\n",
    "\n",
    "                # update the cluster\n",
    "                cluster2docs[neighbor_cluster] = k_cluster_docs\n",
    "                doc2cluster[doc] = neighbor_cluster\n",
    "            del cluster2docs[cluster]\n",
    "    print(merged_clusters_num)\n",
    "    return cluster2docs, doc2cluster"
   ]
  },
  {
   "cell_type": "code",
   "execution_count": 48,
   "outputs": [],
   "source": [
    "test_paths = [[1], [2,3,4,20,22], list(range(100,200))]\n",
    "adj_lst = {1: [(2,0),(3,0),(4,0)], 2: [(100,1), (300,2)]}\n",
    "cluster2docs = defaultdict(list)\n",
    "doc2cluster = {}\n",
    "for i, docs in enumerate(test_paths):\n",
    "    cluster2docs[i] = docs\n",
    "    for doc in docs:\n",
    "        doc2cluster[doc] = i"
   ],
   "metadata": {
    "collapsed": false
   }
  },
  {
   "cell_type": "code",
   "execution_count": 49,
   "outputs": [
    {
     "data": {
      "text/plain": "dict_items([(0, [1]), (1, [2, 3, 4, 20, 22]), (2, [100, 101, 102, 103, 104, 105, 106, 107, 108, 109, 110, 111, 112, 113, 114, 115, 116, 117, 118, 119, 120, 121, 122, 123, 124, 125, 126, 127, 128, 129, 130, 131, 132, 133, 134, 135, 136, 137, 138, 139, 140, 141, 142, 143, 144, 145, 146, 147, 148, 149, 150, 151, 152, 153, 154, 155, 156, 157, 158, 159, 160, 161, 162, 163, 164, 165, 166, 167, 168, 169, 170, 171, 172, 173, 174, 175, 176, 177, 178, 179, 180, 181, 182, 183, 184, 185, 186, 187, 188, 189, 190, 191, 192, 193, 194, 195, 196, 197, 198, 199])])"
     },
     "execution_count": 49,
     "metadata": {},
     "output_type": "execute_result"
    }
   ],
   "source": [
    "cluster2docs.items()"
   ],
   "metadata": {
    "collapsed": false
   }
  },
  {
   "cell_type": "code",
   "execution_count": 50,
   "outputs": [
    {
     "name": "stderr",
     "output_type": "stream",
     "text": [
      "100%|██████████| 3/3 [00:00<00:00, 32853.56it/s]"
     ]
    },
    {
     "name": "stdout",
     "output_type": "stream",
     "text": [
      "Processing clsuter 0\n",
      "cluster docs: [1]\n",
      "Processing clsuter 1\n",
      "cluster docs: [1, 2, 3, 4, 20, 22]\n",
      "Processing clsuter 2\n",
      "cluster docs: [1, 2, 100, 101, 102, 103, 104, 105, 106, 107, 108, 109, 110, 111, 112, 113, 114, 115, 116, 117, 118, 119, 120, 121, 122, 123, 124, 125, 126, 127, 128, 129, 130, 131, 132, 133, 134, 135, 136, 137, 138, 139, 140, 141, 142, 143, 144, 145, 146, 147, 148, 149, 150, 151, 152, 153, 154, 155, 156, 157, 158, 159, 160, 161, 162, 163, 164, 165, 166, 167, 168, 169, 170, 171, 172, 173, 174, 175, 176, 177, 178, 179, 180, 181, 182, 183, 184, 185, 186, 187, 188, 189, 190, 191, 192, 193, 194, 195, 196, 197, 198, 199]\n",
      "2\n"
     ]
    },
    {
     "name": "stderr",
     "output_type": "stream",
     "text": [
      "\n"
     ]
    }
   ],
   "source": [
    "new_cluster2docs, new_doc2cluster = merge(cluster2docs, doc2cluster, cluster_size = 21, top_k = 10)"
   ],
   "metadata": {
    "collapsed": false
   }
  },
  {
   "cell_type": "code",
   "execution_count": 46,
   "outputs": [
    {
     "data": {
      "text/plain": "defaultdict(list,\n            {2: [1,\n              2,\n              100,\n              101,\n              102,\n              103,\n              104,\n              105,\n              106,\n              107,\n              108,\n              109,\n              110,\n              111,\n              112,\n              113,\n              114,\n              115,\n              116,\n              117,\n              118,\n              119,\n              120,\n              121,\n              122,\n              123,\n              124,\n              125,\n              126,\n              127,\n              128,\n              129,\n              130,\n              131,\n              132,\n              133,\n              134,\n              135,\n              136,\n              137,\n              138,\n              139,\n              140,\n              141,\n              142,\n              143,\n              144,\n              145,\n              146,\n              147,\n              148,\n              149,\n              150,\n              151,\n              152,\n              153,\n              154,\n              155,\n              156,\n              157,\n              158,\n              159,\n              160,\n              161,\n              162,\n              163,\n              164,\n              165,\n              166,\n              167,\n              168,\n              169,\n              170,\n              171,\n              172,\n              173,\n              174,\n              175,\n              176,\n              177,\n              178,\n              179,\n              180,\n              181,\n              182,\n              183,\n              184,\n              185,\n              186,\n              187,\n              188,\n              189,\n              190,\n              191,\n              192,\n              193,\n              194,\n              195,\n              196,\n              197,\n              198,\n              199],\n             None: [3, 4, 20, 22]})"
     },
     "execution_count": 46,
     "metadata": {},
     "output_type": "execute_result"
    }
   ],
   "source": [
    "new_cluster2docs"
   ],
   "metadata": {
    "collapsed": false
   }
  },
  {
   "cell_type": "code",
   "execution_count": null,
   "outputs": [],
   "source": [],
   "metadata": {
    "collapsed": false
   }
  },
  {
   "cell_type": "code",
   "execution_count": 2,
   "outputs": [
    {
     "name": "stdout",
     "output_type": "stream",
     "text": [
      "{'b': [2, 3, 4, 5, 5]}\n"
     ]
    }
   ],
   "source": [
    "old_dict = {'a': [1, 2, 3], 'b': [2, 3, 4]}\n",
    "c = []\n",
    "for k ,lst in old_dict.copy().items():\n",
    "    old_dict['b'].append(5)\n",
    "    if k == 'a':\n",
    "        c.append(lst)\n",
    "        del old_dict[k]\n",
    "\n",
    "print(old_dict)"
   ],
   "metadata": {
    "collapsed": false
   }
  },
  {
   "cell_type": "code",
   "execution_count": null,
   "outputs": [],
   "source": [
    "for i"
   ],
   "metadata": {
    "collapsed": false
   }
  }
 ],
 "metadata": {
  "kernelspec": {
   "display_name": "Python 3",
   "language": "python",
   "name": "python3"
  },
  "language_info": {
   "codemirror_mode": {
    "name": "ipython",
    "version": 2
   },
   "file_extension": ".py",
   "mimetype": "text/x-python",
   "name": "python",
   "nbconvert_exporter": "python",
   "pygments_lexer": "ipython2",
   "version": "2.7.6"
  }
 },
 "nbformat": 4,
 "nbformat_minor": 0
}
